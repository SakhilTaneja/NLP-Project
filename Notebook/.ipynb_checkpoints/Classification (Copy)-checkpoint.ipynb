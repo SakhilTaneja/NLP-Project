{
 "cells": [
  {
   "cell_type": "markdown",
   "id": "ff528650",
   "metadata": {},
   "source": [
    "# Text Classification Model"
   ]
  },
  {
   "cell_type": "markdown",
   "id": "92ecd5ef",
   "metadata": {},
   "source": [
    "##  Task:- Classifying Judgements into Successful or Unsuccessful"
   ]
  },
  {
   "cell_type": "markdown",
   "id": "64514f86",
   "metadata": {},
   "source": [
    "## 1. Data Collection:- 192 reports have been acquired of South Delhi District Commission using the Confonent website and has been saved in a csv file alongside information such as case_filing_date, judgement result, case_stage_id, file_application_number, case_category"
   ]
  },
  {
   "cell_type": "markdown",
   "id": "6dd1381c",
   "metadata": {},
   "source": [
    "## 2. Data Preprocessing:-"
   ]
  },
  {
   "cell_type": "markdown",
   "id": "921bfa8b",
   "metadata": {},
   "source": [
    "### 2.1. Loading the dataset:-"
   ]
  },
  {
   "cell_type": "code",
   "execution_count": 1,
   "id": "f72beccd",
   "metadata": {},
   "outputs": [],
   "source": [
    "import numpy as np\n",
    "import pandas as pd\n",
    "import matplotlib.pyplot as plt\n",
    "import seaborn as sns"
   ]
  },
  {
   "cell_type": "code",
   "execution_count": 2,
   "id": "316bab88",
   "metadata": {},
   "outputs": [],
   "source": [
    "# Loading our dataset into df variable\n",
    "df=pd.read_csv('/home/sakhiltaneja/Desktop/NLP/Database/text_features.csv')"
   ]
  },
  {
   "cell_type": "code",
   "execution_count": 3,
   "id": "65460ad1",
   "metadata": {},
   "outputs": [
    {
     "data": {
      "text/html": [
       "<div>\n",
       "<style scoped>\n",
       "    .dataframe tbody tr th:only-of-type {\n",
       "        vertical-align: middle;\n",
       "    }\n",
       "\n",
       "    .dataframe tbody tr th {\n",
       "        vertical-align: top;\n",
       "    }\n",
       "\n",
       "    .dataframe thead th {\n",
       "        text-align: right;\n",
       "    }\n",
       "</style>\n",
       "<table border=\"1\" class=\"dataframe\">\n",
       "  <thead>\n",
       "    <tr style=\"text-align: right;\">\n",
       "      <th></th>\n",
       "      <th>file_application_number</th>\n",
       "      <th>case_filing_date</th>\n",
       "      <th>case_category_name_en</th>\n",
       "      <th>judgement</th>\n",
       "      <th>judgement_result</th>\n",
       "      <th>case_stage_id</th>\n",
       "      <th>preprocessed_judgement</th>\n",
       "      <th>vector</th>\n",
       "      <th>features</th>\n",
       "    </tr>\n",
       "  </thead>\n",
       "  <tbody>\n",
       "    <tr>\n",
       "      <th>0</th>\n",
       "      <td>8/6/CC/101/2019</td>\n",
       "      <td>2019-04-12</td>\n",
       "      <td>AUTOMOBILES</td>\n",
       "      <td>DISTRICT CONSUMER DISPUTES REDRESSAL COMMISSIO...</td>\n",
       "      <td>0</td>\n",
       "      <td>7</td>\n",
       "      <td>district consumer dispute redressal commission...</td>\n",
       "      <td>&lt;generator object vectorize at 0x7a7eed1395b0&gt;</td>\n",
       "      <td>[-0.9598655700683594, -0.018118225038051605, -...</td>\n",
       "    </tr>\n",
       "    <tr>\n",
       "      <th>1</th>\n",
       "      <td>8/6/CC/102/2017</td>\n",
       "      <td>2017-03-21</td>\n",
       "      <td>HOUSE HOLD GOODS</td>\n",
       "      <td>DISTRICT CONSUMER DISPUTES REDRESSAL COMMISSIO...</td>\n",
       "      <td>0</td>\n",
       "      <td>7</td>\n",
       "      <td>district consumer dispute redressal commission...</td>\n",
       "      <td>&lt;generator object vectorize at 0x7a7eed139700&gt;</td>\n",
       "      <td>[-0.8949001431465149, -0.09343592822551727, -0...</td>\n",
       "    </tr>\n",
       "    <tr>\n",
       "      <th>2</th>\n",
       "      <td>8/6/CC/106/2018</td>\n",
       "      <td>2018-04-04</td>\n",
       "      <td>TELECOM</td>\n",
       "      <td>DISTRICT CONSUMER DISPUTES REDRESSAL COMMISSIO...</td>\n",
       "      <td>0</td>\n",
       "      <td>7</td>\n",
       "      <td>district consumer dispute redressal commission...</td>\n",
       "      <td>&lt;generator object vectorize at 0x7a7eed139850&gt;</td>\n",
       "      <td>[-0.8968667984008789, -0.2350875437259674, 0.0...</td>\n",
       "    </tr>\n",
       "    <tr>\n",
       "      <th>3</th>\n",
       "      <td>8/6/CC/107/2018</td>\n",
       "      <td>2018-04-06</td>\n",
       "      <td>INDUSTRIAL/COMMERCIAL GOODS &amp; SERVICES</td>\n",
       "      <td>DISTRICT CONSUMER DISPUTES REDRESSAL COMMISSIO...</td>\n",
       "      <td>0</td>\n",
       "      <td>7</td>\n",
       "      <td>district consumer dispute redressal commission...</td>\n",
       "      <td>&lt;generator object vectorize at 0x7a7eed139770&gt;</td>\n",
       "      <td>[-0.8704649806022644, 0.00303339259698987, -0....</td>\n",
       "    </tr>\n",
       "    <tr>\n",
       "      <th>4</th>\n",
       "      <td>8/6/CC/109/2019</td>\n",
       "      <td>2019-04-18</td>\n",
       "      <td>INSURANCE</td>\n",
       "      <td>DISTRICT CONSUMER DISPUTES REDRESSAL COMMISSIO...</td>\n",
       "      <td>0</td>\n",
       "      <td>7</td>\n",
       "      <td>district consumer dispute redressal commission...</td>\n",
       "      <td>&lt;generator object vectorize at 0x7a7eed1397e0&gt;</td>\n",
       "      <td>[-0.6292241215705872, -0.12517572939395905, 0....</td>\n",
       "    </tr>\n",
       "  </tbody>\n",
       "</table>\n",
       "</div>"
      ],
      "text/plain": [
       "  file_application_number case_filing_date  \\\n",
       "0         8/6/CC/101/2019       2019-04-12   \n",
       "1         8/6/CC/102/2017       2017-03-21   \n",
       "2         8/6/CC/106/2018       2018-04-04   \n",
       "3         8/6/CC/107/2018       2018-04-06   \n",
       "4         8/6/CC/109/2019       2019-04-18   \n",
       "\n",
       "                    case_category_name_en  \\\n",
       "0                             AUTOMOBILES   \n",
       "1                        HOUSE HOLD GOODS   \n",
       "2                                 TELECOM   \n",
       "3  INDUSTRIAL/COMMERCIAL GOODS & SERVICES   \n",
       "4                               INSURANCE   \n",
       "\n",
       "                                           judgement  judgement_result  \\\n",
       "0  DISTRICT CONSUMER DISPUTES REDRESSAL COMMISSIO...                 0   \n",
       "1  DISTRICT CONSUMER DISPUTES REDRESSAL COMMISSIO...                 0   \n",
       "2  DISTRICT CONSUMER DISPUTES REDRESSAL COMMISSIO...                 0   \n",
       "3  DISTRICT CONSUMER DISPUTES REDRESSAL COMMISSIO...                 0   \n",
       "4  DISTRICT CONSUMER DISPUTES REDRESSAL COMMISSIO...                 0   \n",
       "\n",
       "   case_stage_id                             preprocessed_judgement  \\\n",
       "0              7  district consumer dispute redressal commission...   \n",
       "1              7  district consumer dispute redressal commission...   \n",
       "2              7  district consumer dispute redressal commission...   \n",
       "3              7  district consumer dispute redressal commission...   \n",
       "4              7  district consumer dispute redressal commission...   \n",
       "\n",
       "                                           vector  \\\n",
       "0  <generator object vectorize at 0x7a7eed1395b0>   \n",
       "1  <generator object vectorize at 0x7a7eed139700>   \n",
       "2  <generator object vectorize at 0x7a7eed139850>   \n",
       "3  <generator object vectorize at 0x7a7eed139770>   \n",
       "4  <generator object vectorize at 0x7a7eed1397e0>   \n",
       "\n",
       "                                            features  \n",
       "0  [-0.9598655700683594, -0.018118225038051605, -...  \n",
       "1  [-0.8949001431465149, -0.09343592822551727, -0...  \n",
       "2  [-0.8968667984008789, -0.2350875437259674, 0.0...  \n",
       "3  [-0.8704649806022644, 0.00303339259698987, -0....  \n",
       "4  [-0.6292241215705872, -0.12517572939395905, 0....  "
      ]
     },
     "execution_count": 3,
     "metadata": {},
     "output_type": "execute_result"
    }
   ],
   "source": [
    "df.head()"
   ]
  },
  {
   "cell_type": "markdown",
   "id": "ea202c8e",
   "metadata": {},
   "source": [
    "### 2.2. Loading a prebuilt Data Preprocessing pipeline using Spacy"
   ]
  },
  {
   "cell_type": "code",
   "execution_count": 94,
   "id": "41c93432",
   "metadata": {},
   "outputs": [],
   "source": [
    "import spacy\n",
    "nlp=spacy.load('en_core_web_sm')"
   ]
  },
  {
   "cell_type": "code",
   "execution_count": 95,
   "id": "5bc7c8c6",
   "metadata": {},
   "outputs": [
    {
     "name": "stdout",
     "output_type": "stream",
     "text": [
      "['tok2vec', 'tagger', 'parser', 'attribute_ruler', 'lemmatizer', 'ner']\n"
     ]
    }
   ],
   "source": [
    "print(nlp.pipe_names)"
   ]
  },
  {
   "cell_type": "code",
   "execution_count": 5,
   "id": "55c6f998",
   "metadata": {},
   "outputs": [
    {
     "data": {
      "text/plain": [
       "judgement_result\n",
       "1    129\n",
       "0     64\n",
       "Name: count, dtype: int64"
      ]
     },
     "execution_count": 5,
     "metadata": {},
     "output_type": "execute_result"
    }
   ],
   "source": [
    "df['judgement_result'].value_counts()\n",
    "# 1 - Successful\n",
    "# 2 - Unsuccessful\n",
    "# 3 - Other"
   ]
  },
  {
   "cell_type": "markdown",
   "id": "95547960",
   "metadata": {},
   "source": [
    "### 2.3. Performing data preprocessing on text:-"
   ]
  },
  {
   "cell_type": "code",
   "execution_count": 97,
   "id": "bcd08b87",
   "metadata": {},
   "outputs": [],
   "source": [
    "# Removing the instances where judgement_result has label 2\n",
    "df=df[df['judgement_result']!=2]"
   ]
  },
  {
   "cell_type": "code",
   "execution_count": 4,
   "id": "6adf4df4",
   "metadata": {},
   "outputs": [
    {
     "data": {
      "text/plain": [
       "judgement_result\n",
       "1    129\n",
       "0     64\n",
       "Name: count, dtype: int64"
      ]
     },
     "execution_count": 4,
     "metadata": {},
     "output_type": "execute_result"
    }
   ],
   "source": [
    "df['judgement_result'].value_counts()"
   ]
  },
  {
   "cell_type": "code",
   "execution_count": 99,
   "id": "977e4d96",
   "metadata": {},
   "outputs": [
    {
     "data": {
      "image/png": "[encoded data removed]",
      "text/plain": [
       "<Figure size 640x480 with 1 Axes>"
      ]
     },
     "metadata": {},
     "output_type": "display_data"
    }
   ],
   "source": [
    "# Create the bar plot\n",
    "results = df['judgement_result'].value_counts()\n",
    "bars = plt.bar(('Successful','Unsuccessful'), results.values, color='#4CAF50')\n",
    "\n",
    "for bar, value in zip(bars, results.values):\n",
    "  height = bar.get_height()\n",
    "  plt.text(bar.get_x() + bar.get_width() / 2, height + 0.1, f\"{value}\", ha='center', va='bottom')\n",
    "\n",
    "plt.xlabel(\"Result\")\n",
    "plt.ylabel(\"No. of cases\")\n",
    "plt.title(\"Cases for each label\")\n",
    "plt.show()"
   ]
  },
  {
   "cell_type": "markdown",
   "id": "0aad5229",
   "metadata": {},
   "source": [
    "Conclusion:- We need to handle the data imbalance"
   ]
  },
  {
   "cell_type": "code",
   "execution_count": 10,
   "id": "b77da10c",
   "metadata": {},
   "outputs": [],
   "source": [
    "import re\n",
    "from sklearn.preprocessing import LabelEncoder\n",
    "from sklearn.model_selection import train_test_split\n",
    "from sklearn.metrics import classification_report"
   ]
  },
  {
   "cell_type": "markdown",
   "id": "00c3ab77",
   "metadata": {},
   "source": [
    "#### Converting String values to Numerical values of 'case_category_name_en' column"
   ]
  },
  {
   "cell_type": "code",
   "execution_count": 11,
   "id": "8f1bd244",
   "metadata": {},
   "outputs": [
    {
     "data": {
      "image/png": "[encoded data removed]",
      "text/plain": [
       "<Figure size 640x480 with 1 Axes>"
      ]
     },
     "metadata": {},
     "output_type": "display_data"
    }
   ],
   "source": [
    "# Create the bar plot\n",
    "results = df['case_category_name_en'].value_counts()\n",
    "bars = plt.barh(results.index, results.values, color='#4CAF50')\n",
    "\n",
    "# Get bar positions and lengths\n",
    "bar_y = [bar.get_y() + bar.get_height() / 2 for bar in bars]  # Center y position\n",
    "bar_width = [bar.get_width() for bar in bars]  # Get bar width\n",
    "\n",
    "# Add text after each bar (assuming right alignment)\n",
    "for bar_y_pos, value, bar_width_val in zip(bar_y, results.values, bar_width):\n",
    "  plt.text(bar_width_val + 1.5, bar_y_pos, f\"{value}\", ha='right', va='center')  # Adjust offset as needed\n",
    "\n",
    "plt.xlabel(\"No of Cases\")\n",
    "plt.ylabel(\"Category of Case\")\n",
    "plt.title(\"Cases for each label\")\n",
    "plt.show()"
   ]
  },
  {
   "cell_type": "code",
   "execution_count": 12,
   "id": "40ce8380",
   "metadata": {},
   "outputs": [],
   "source": [
    "df['case_category']=LabelEncoder().fit(list(df['case_category_name_en'])).transform(df['case_category_name_en'])\n"
   ]
  },
  {
   "cell_type": "code",
   "execution_count": 13,
   "id": "75260944",
   "metadata": {},
   "outputs": [
    {
     "data": {
      "text/plain": [
       "case_category\n",
       "19    36\n",
       "12    33\n",
       "2     24\n",
       "18    15\n",
       "4     10\n",
       "20    10\n",
       "8      9\n",
       "1      8\n",
       "9      8\n",
       "17     5\n",
       "5      5\n",
       "10     5\n",
       "15     4\n",
       "13     4\n",
       "16     4\n",
       "0      3\n",
       "6      3\n",
       "7      2\n",
       "14     2\n",
       "11     2\n",
       "3      1\n",
       "Name: count, dtype: int64"
      ]
     },
     "execution_count": 13,
     "metadata": {},
     "output_type": "execute_result"
    }
   ],
   "source": [
    "df['case_category'].value_counts()"
   ]
  },
  {
   "cell_type": "code",
   "execution_count": 14,
   "id": "17493e93",
   "metadata": {},
   "outputs": [
    {
     "name": "stdout",
     "output_type": "stream",
     "text": [
      "DISTRICT CONSUMER DISPUTES REDRESSAL COMMISSION-II UDYOG SADAN C 22 23\n",
      "QUTUB INSTITUTIONNAL AREA BEHIND QUTUB HOTEL NEW DELHI 110016\n",
      "Complaint Case No. CC/102/2017\n",
      "( Date of Filing : 21 Mar 2017 )\n",
      "1. VIJAY KUMAR CHAUHAN\n",
      "K-003 STELLAR JEEVAN, GREATER NOIDA W UTTAR PRADESH 201306\n",
      "...........Complainant(s)\n",
      "Versus\n",
      "1. STELLAR CONSTELLATION PROJECT PVT LTD\n",
      "B-29 SHEIKH SARAI, PHASE-I NEW DELHI 110017\n",
      "............Opp.Party(s)\n",
      "BEFORE:\n",
      "MONIKA A. SRIVASTAVA PRESIDENT\n",
      "KIRAN KAUSHAL MEMBER\n",
      "UMESH KUMAR TYAGI MEMBER\n",
      "PRESENT:\n",
      "Dated : 27 Dec 2022\n",
      "Final Order / Judgement\n",
      "DISTRICT CONSUMER DISPUTES REDRESSAL COMMISSION-II\n",
      "Udyog Sadan, C-22 & 23, Qutub Institutional Area\n",
      "(Behind Qutub Hotel), New Delhi- 110016\n",
      "Case No. 102/17\n",
      "Cause Title/Judgement-Entry\n",
      "https://cms.nic.in/ncdrcusersWeb/search.do?method=loadSearchPub\n",
      "1 of 6\n",
      "08-05-2024, 14:14\n",
      "Vijay Kumar Chauhan\n",
      "S/o Late S.L Chauhan\n",
      "K-003, Stellar Jeevan,\n",
      "Greater Noida (W)\n",
      "UP-201306\n",
      "….Complainant\n",
      "Versus\n",
      "Stellar Constellation Project Pvt. Ltd.\n",
      "B-29, Sheikh Sarai, Phase-I\n",
      "New Delhi-110017\n",
      "       ….Opposite Party\n",
      " Date of Institution    :    21.03.2017   \n",
      " Date of Order            :    27.12.2022  \n",
      "Coram:\n",
      "Ms. Monika A Srivastava, President\n",
      "Cause Title/Judgement-Entry\n",
      "https://cms.nic.in/ncdrcusersWeb/search.do?method=loadSearchPub\n",
      "2 of 6\n",
      "08-05-2024, 14:14\n",
      "Ms. Kiran Kaushal, Member\n",
      "Sh. U.K. Tyagi, Member\n",
      "ORDER\n",
      "Member: Ms. Kiran Kaushal\n",
      "1.      Succinctly put, complainant and his wife booked a flat, K-003, Stellar Jeevan, , Sector-1, Greater Noida (W) in the year,\n",
      "2010 with Stellar Constellation Project Pvt Ltd. ( OP).\n",
      "2.      Complainant’s grievance is that at the time of handing over the possession of the flat to the Complainant, portion of the\n",
      "boundary wall adjacent to the flat and car parking, had not been constructed by OP. OP promised that the needful will be done\n",
      "within a month, which did not happen. Complainant is aggrieved due to non construction of the local boundary wall as the area\n",
      "near his flat has become a thoroughfare for all intruders/non-resident of the area, stray animals, dogs etc. It has become dumping\n",
      "place of various garbage and other unwanted material for the resident of the block as well as passerby,  resultantly  foul smell\n",
      "emanates in the areas near the flat of the complainant. It is  stated that complainant’s elder son got sick  due to infection generated\n",
      "by  the accumulated garbage near the flat  of the complainant.\n",
      "3.      Thus aggrieved, complainant approached this commission with prayer to direct OP to construct the unconstructed wall of\n",
      "parking area and road and roof of the basement within a month. It is also prayed that OP be directed to pay compensation of Rs.\n",
      "4,00,000/- to the complainant for mental agony , harassment and Rs.10,000/- towards cost of litigation.\n",
      "Cause Title/Judgement-Entry\n",
      "https://cms.nic.in/ncdrcusersWeb/search.do?method=loadSearchPub\n",
      "3 of 6\n",
      "08-05-2024, 14:14\n",
      "4.      Rejoinder to the written statement of OP is filed. Evidence and written arguments are filed on behalf of parties. Material\n",
      "placed on record is perused. Submissions made by the parties are heard.\n",
      " 5.     Before we go into the merits of the cases, we think it appropriate to decide the preliminary objection of OP regarding the\n",
      "‘Territorial Jurisdiction’ pointed at the time of final arguments and also finds mention in the written arguments of the OP. OP has\n",
      "raised an objection stating that this Commission does not have the territorial jurisdiction to entertain the instant complaint.\n",
      "6.      The Hon’ble State Commission in First Appeal No.458/2017 titled as Star Health and Allied  Insurance Co. Ltd. Vs. Ravi\n",
      "Bansal & Ors, decided on 21.12.2017 has held that-\n",
      "“…it can safely be said that for the purpose of consumer complaints, relating to normal contracts for service and/or       \n",
      "goods, cause of action arises inter-alia at any of the places, where; (a) the contract is made; and/or (b)  where acceptance\n",
      "of the contract is communicated and/or (c) where the contract is performed or is to be performed and/or (d) where money\n",
      "under the contract is either payable or paid and/or (e) where repudiation of the contract is received if any.”\n",
      "7.      Hon’ble State Commission in Sarvesh Kumar Singh vs Kailash Healthcare Hospital 2019 (3) CPR 627 referred to Bhaiya\n",
      "Ram Sahoo vs Vipin Jain in FA12/183 decided on 1810.2012 wherein it is held that;\n",
      "“location of registered office is not sufficient to confer jurisdiction on district forum. Cause of action must also accrue\n",
      "to determine the territorial jurisdiction.”\n",
      "8.     Upholding the judgment Supra Hon’ble NCDRC  in the judgment dated 01.07.2019 further clarified & held that:\n",
      "          “The word “or” contained in sub-section 2(a) and in sub-section 2(b) of section 17 could albeit be interpreted to\n",
      "mean that the complaint can be in instituted either where the opposite party no.1 head office is located i.e Delhi or where\n",
      "the opposite party no.2 hospital is located i.e Noida, U.P. or where the cause of action arose i.e Noida, U.P.\n",
      "          However, an absurd interpretation, drawn mechanically, without application of mind, without reason and logic, can\n",
      "Cause Title/Judgement-Entry\n",
      "https://cms.nic.in/ncdrcusersWeb/search.do?method=loadSearchPub\n",
      "4 of 6\n",
      "08-05-2024, 14:14\n",
      "not be made.\n",
      "                                        *****\n",
      "To readily see the consequences of such absurd interpretation, if a chain of several hospitals is located from say Kashmir to\n",
      "Kanyakumari, and the incident of alleged medical negligence takes place in a hospital located at say Kanyakumri, and\n",
      "accordingly the cause of action also arose at Kanyakumari, and another hospital of the same chain is located at Kashmir,\n",
      "and a number of other hospitals of the same chain and its head office and branch offices are situated in a number of\n",
      "locations across the country, a  complaint can be made in the Sate Commission having territorial jurisdiction over any of\n",
      "the said ‘n’  number of location from Kashmir to Kanyakumari, with total disregard to where the cause of action arose.\n",
      "Such absurd interpretation would lead to an absurd situation, with added malefics of both harassment and bench-hunting.”\n",
      "9.     The question of territorial jurisdiction is settled by Apex Court in the case of Sonic Surgical Vs. National Insurance\n",
      "Company Ltd (IV) 2009 CPJ 40. In the said judgment it was held that amended section 17 (2) (b) of the Consumer Protection Act\n",
      "has to be interpreted in such a way which does not lead to absurd consequences and bench hunting. It was observed that the\n",
      "expression ‘branch office’ in the amended section 17 (2) would mean the branch office where the cause of action arises.\n",
      " 9.     On perusal of the material placed before us, it is noticed that the Corporate office of the OP is in Greater Noida.\n",
      "Complainant is residing in the project at Greater Noida, UP. All agreements, sub-lease and possession letter etc was made at\n",
      "Greater Noida. No cause of action has taken place in the territorial jurisdiction of this commission.\n",
      "10.    In view of the discussion above we find that the complaint is not maintainable as it lacks the territorial jurisdiction of this\n",
      "Commission. Complaint be accordingly returned to the complainant to be presented before the appropriate Forum having\n",
      "jurisdiction within 4 weeks of receipt of certified copy of this order.\n",
      "          File be consigned to the record room after retaining one copy of the complaint and returning the file to the complainant.\n",
      "Cause Title/Judgement-Entry\n",
      "https://cms.nic.in/ncdrcusersWeb/search.do?method=loadSearchPub\n",
      "5 of 6\n",
      "08-05-2024, 14:14\n",
      "[ MONIKA A. SRIVASTAVA]\n",
      "PRESIDENT\n",
      "[ KIRAN KAUSHAL]\n",
      "MEMBER\n",
      "[ UMESH KUMAR TYAGI]\n",
      "MEMBER\n",
      "Cause Title/Judgement-Entry\n",
      "https://cms.nic.in/ncdrcusersWeb/search.do?method=loadSearchPub\n",
      "6 of 6\n",
      "08-05-2024, 14:14\n",
      "\n"
     ]
    }
   ],
   "source": [
    "print(re.sub(re.compile('<.*?>'), '', df['judgement'][1]))"
   ]
  },
  {
   "cell_type": "markdown",
   "id": "6d314a4f",
   "metadata": {},
   "source": [
    "#### Creating a preprocesssing class to perform preprocessing on judgement text"
   ]
  },
  {
   "cell_type": "code",
   "execution_count": 15,
   "id": "f6b1cbc0",
   "metadata": {},
   "outputs": [],
   "source": [
    "def preprocess(text):\n",
    "    text=re.sub(re.compile('<.*?>'), '', text)\n",
    "    text=text.lower()\n",
    "    doc = nlp(text)\n",
    "    filtered_tokens = []\n",
    "    for token in doc:\n",
    "        if token.is_stop or token.is_punct:\n",
    "            continue\n",
    "        filtered_tokens.append(token.lemma_)\n",
    "    return ' '.join(filtered_tokens)"
   ]
  },
  {
   "cell_type": "code",
   "execution_count": 16,
   "id": "b3540d79",
   "metadata": {},
   "outputs": [],
   "source": [
    "df['preprocessed_judgements']=df['judgement'].apply(lambda judgement: preprocess(judgement))"
   ]
  },
  {
   "cell_type": "code",
   "execution_count": 17,
   "id": "26750088",
   "metadata": {},
   "outputs": [
    {
     "data": {
      "text/plain": [
       "64     district consumer dispute redressal commission...\n",
       "65     consumer dispute redressal forum -ii udyog sad...\n",
       "66     district consumer dispute redressal commission...\n",
       "67     district consumer dispute redressal commission...\n",
       "68     district consumer dispute redressal commission...\n",
       "                             ...                        \n",
       "188    district consumer dispute redressal commission...\n",
       "189    consumer dispute redressal forum -ii udyog sad...\n",
       "190    district consumer dispute redressal commission...\n",
       "191    district consumer dispute redressal commission...\n",
       "192    district consumer dispute redressal commission...\n",
       "Name: preprocessed_judgements, Length: 129, dtype: object"
      ]
     },
     "execution_count": 17,
     "metadata": {},
     "output_type": "execute_result"
    }
   ],
   "source": [
    "a=df[df['judgement_result']==1]\n",
    "a['preprocessed_judgements']"
   ]
  },
  {
   "cell_type": "code",
   "execution_count": 108,
   "id": "2d1f7220",
   "metadata": {},
   "outputs": [
    {
     "name": "stdout",
     "output_type": "stream",
     "text": [
      "8/6/CC/103/2016\n"
     ]
    }
   ],
   "source": [
    "print(df['file_application_number'][65])"
   ]
  },
  {
   "cell_type": "markdown",
   "id": "65fb6120",
   "metadata": {},
   "source": [
    "## 3. Feature Engineering:- "
   ]
  },
  {
   "cell_type": "markdown",
   "id": "7dde1b1e",
   "metadata": {},
   "source": [
    "### Tokenization:- "
   ]
  },
  {
   "cell_type": "markdown",
   "id": "bde05159",
   "metadata": {},
   "source": [
    "#### Using NLTK library to create single tokens from the preprocessed text"
   ]
  },
  {
   "cell_type": "code",
   "execution_count": 19,
   "id": "35a00ceb",
   "metadata": {},
   "outputs": [],
   "source": [
    "from nltk.tokenize import word_tokenize\n",
    "df['tokenized judgements']=df['preprocessed_judgements'].apply(lambda judgement: word_tokenize(judgement))"
   ]
  },
  {
   "cell_type": "code",
   "execution_count": 20,
   "id": "6916b7af",
   "metadata": {},
   "outputs": [
    {
     "data": {
      "text/plain": [
       "['district',\n",
       " 'consumer',\n",
       " 'dispute',\n",
       " 'redressal',\n",
       " 'commission',\n",
       " 'ii',\n",
       " 'udyog',\n",
       " 'sadan',\n",
       " 'c',\n",
       " '22',\n",
       " '23',\n",
       " 'qutub',\n",
       " 'institutionnal',\n",
       " 'area',\n",
       " 'qutub',\n",
       " 'hotel',\n",
       " 'new',\n",
       " 'delhi',\n",
       " '110016',\n",
       " 'complaint',\n",
       " 'case',\n",
       " 'cc/102/2017',\n",
       " 'date',\n",
       " 'filing',\n",
       " '21',\n",
       " 'mar',\n",
       " '2017',\n",
       " '1',\n",
       " 'vijay',\n",
       " 'kumar',\n",
       " 'chauhan',\n",
       " 'k-003',\n",
       " 'stellar',\n",
       " 'jeevan',\n",
       " 'great',\n",
       " 'noida',\n",
       " 'w',\n",
       " 'uttar',\n",
       " 'pradesh',\n",
       " '201306',\n",
       " 'complainant',\n",
       " '(',\n",
       " 's',\n",
       " 'versus',\n",
       " '1',\n",
       " 'stellar',\n",
       " 'constellation',\n",
       " 'project',\n",
       " 'pvt',\n",
       " 'ltd',\n",
       " 'b-29',\n",
       " 'sheikh',\n",
       " 'sarai',\n",
       " 'phase',\n",
       " 'new',\n",
       " 'delhi',\n",
       " '110017',\n",
       " 'opp.party',\n",
       " '(',\n",
       " 's',\n",
       " 'monika',\n",
       " 'a.',\n",
       " 'srivastava',\n",
       " 'president',\n",
       " 'kiran',\n",
       " 'kaushal',\n",
       " 'member',\n",
       " 'umesh',\n",
       " 'kumar',\n",
       " 'tyagi',\n",
       " 'member',\n",
       " 'present',\n",
       " 'date',\n",
       " '27',\n",
       " 'dec',\n",
       " '2022',\n",
       " 'final',\n",
       " 'order',\n",
       " 'judgement',\n",
       " 'district',\n",
       " 'consumer',\n",
       " 'dispute',\n",
       " 'redressal',\n",
       " 'commission',\n",
       " 'ii',\n",
       " 'udyog',\n",
       " 'sadan',\n",
       " 'c-22',\n",
       " '23',\n",
       " 'qutub',\n",
       " 'institutional',\n",
       " 'area',\n",
       " 'qutub',\n",
       " 'hotel',\n",
       " 'new',\n",
       " 'delhi-',\n",
       " '110016',\n",
       " 'case',\n",
       " '102/17',\n",
       " 'cause',\n",
       " 'title',\n",
       " 'judgement',\n",
       " 'entry',\n",
       " 'https',\n",
       " ':',\n",
       " '//cms.nic.in/ncdrcusersweb/search.do',\n",
       " '?',\n",
       " 'method=loadsearchpub',\n",
       " '1',\n",
       " '6',\n",
       " '08',\n",
       " '05',\n",
       " '2024',\n",
       " '14:14',\n",
       " 'vijay',\n",
       " 'kumar',\n",
       " 'chauhan',\n",
       " 's',\n",
       " 'o',\n",
       " 'late',\n",
       " 's.l',\n",
       " 'chauhan',\n",
       " 'k-003',\n",
       " 'stellar',\n",
       " 'jeevan',\n",
       " 'great',\n",
       " 'noida',\n",
       " 'w',\n",
       " 'up-201306',\n",
       " '.complainant',\n",
       " 'versus',\n",
       " 'stellar',\n",
       " 'constellation',\n",
       " 'project',\n",
       " 'pvt',\n",
       " 'ltd',\n",
       " 'b-29',\n",
       " 'sheikh',\n",
       " 'sarai',\n",
       " 'phase',\n",
       " 'new',\n",
       " 'delhi-110017',\n",
       " '.opposite',\n",
       " 'party',\n",
       " 'date',\n",
       " 'institution',\n",
       " '21.03.2017',\n",
       " 'date',\n",
       " 'order',\n",
       " '27.12.2022',\n",
       " 'coram',\n",
       " 'ms',\n",
       " 'monika',\n",
       " 'srivastava',\n",
       " 'president',\n",
       " 'cause',\n",
       " 'title',\n",
       " 'judgement',\n",
       " 'entry',\n",
       " 'https',\n",
       " ':',\n",
       " '//cms.nic.in/ncdrcusersweb/search.do',\n",
       " '?',\n",
       " 'method=loadsearchpub',\n",
       " '2',\n",
       " '6',\n",
       " '08',\n",
       " '05',\n",
       " '2024',\n",
       " '14:14',\n",
       " 'ms',\n",
       " 'kiran',\n",
       " 'kaushal',\n",
       " 'member',\n",
       " 'sh',\n",
       " 'u.k',\n",
       " 'tyagi',\n",
       " 'member',\n",
       " 'order',\n",
       " 'member',\n",
       " 'ms',\n",
       " 'kiran',\n",
       " 'kaushal',\n",
       " '1',\n",
       " 'succinctly',\n",
       " 'complainant',\n",
       " 'wife',\n",
       " 'book',\n",
       " 'flat',\n",
       " 'k-003',\n",
       " 'stellar',\n",
       " 'jeevan',\n",
       " 'sector-1',\n",
       " 'great',\n",
       " 'noida',\n",
       " 'w',\n",
       " 'year',\n",
       " '2010',\n",
       " 'stellar',\n",
       " 'constellation',\n",
       " 'project',\n",
       " 'pvt',\n",
       " 'ltd',\n",
       " 'op',\n",
       " '2',\n",
       " 'complainant',\n",
       " 'grievance',\n",
       " 'time',\n",
       " 'handing',\n",
       " 'possession',\n",
       " 'flat',\n",
       " 'complainant',\n",
       " 'portion',\n",
       " 'boundary',\n",
       " 'wall',\n",
       " 'adjacent',\n",
       " 'flat',\n",
       " 'car',\n",
       " 'parking',\n",
       " 'construct',\n",
       " 'op',\n",
       " 'op',\n",
       " 'promise',\n",
       " 'needful',\n",
       " 'month',\n",
       " 'happen',\n",
       " 'complainant',\n",
       " 'aggrieve',\n",
       " 'non',\n",
       " 'construction',\n",
       " 'local',\n",
       " 'boundary',\n",
       " 'wall',\n",
       " 'area',\n",
       " 'near',\n",
       " 'flat',\n",
       " 'thoroughfare',\n",
       " 'intruder',\n",
       " 'non',\n",
       " 'resident',\n",
       " 'area',\n",
       " 'stray',\n",
       " 'animal',\n",
       " 'dog',\n",
       " 'etc',\n",
       " 'dump',\n",
       " 'place',\n",
       " 'garbage',\n",
       " 'unwanted',\n",
       " 'material',\n",
       " 'resident',\n",
       " 'block',\n",
       " 'passerby',\n",
       " 'resultantly',\n",
       " 'foul',\n",
       " 'smell',\n",
       " 'emanate',\n",
       " 'area',\n",
       " 'near',\n",
       " 'flat',\n",
       " 'complainant',\n",
       " 'state',\n",
       " 'complainant',\n",
       " 'eld',\n",
       " 'son',\n",
       " 'get',\n",
       " 'sick',\n",
       " 'infection',\n",
       " 'generate',\n",
       " 'accumulate',\n",
       " 'garbage',\n",
       " 'near',\n",
       " 'flat',\n",
       " 'complainant',\n",
       " '3',\n",
       " 'aggrieve',\n",
       " 'complainant',\n",
       " 'approach',\n",
       " 'commission',\n",
       " 'prayer',\n",
       " 'direct',\n",
       " 'op',\n",
       " 'construct',\n",
       " 'unconstructed',\n",
       " 'wall',\n",
       " 'parking',\n",
       " 'area',\n",
       " 'road',\n",
       " 'roof',\n",
       " 'basement',\n",
       " 'month',\n",
       " 'pray',\n",
       " 'op',\n",
       " 'direct',\n",
       " 'pay',\n",
       " 'compensation',\n",
       " 'rs',\n",
       " '4,00,000/-',\n",
       " 'complainant',\n",
       " 'mental',\n",
       " 'agony',\n",
       " 'harassment',\n",
       " 'rs.10,000/-',\n",
       " 'cost',\n",
       " 'litigation',\n",
       " 'cause',\n",
       " 'title',\n",
       " 'judgement',\n",
       " 'entry',\n",
       " 'https',\n",
       " ':',\n",
       " '//cms.nic.in/ncdrcusersweb/search.do',\n",
       " '?',\n",
       " 'method=loadsearchpub',\n",
       " '3',\n",
       " '6',\n",
       " '08',\n",
       " '05',\n",
       " '2024',\n",
       " '14:14',\n",
       " '4',\n",
       " 'rejoinder',\n",
       " 'write',\n",
       " 'statement',\n",
       " 'op',\n",
       " 'file',\n",
       " 'evidence',\n",
       " 'write',\n",
       " 'argument',\n",
       " 'file',\n",
       " 'behalf',\n",
       " 'party',\n",
       " 'material',\n",
       " 'place',\n",
       " 'record',\n",
       " 'peruse',\n",
       " 'submission',\n",
       " 'party',\n",
       " 'hear',\n",
       " '5',\n",
       " 'merit',\n",
       " 'case',\n",
       " 'think',\n",
       " 'appropriate',\n",
       " 'decide',\n",
       " 'preliminary',\n",
       " 'objection',\n",
       " 'op',\n",
       " 'territorial',\n",
       " 'jurisdiction',\n",
       " 'point',\n",
       " 'time',\n",
       " 'final',\n",
       " 'argument',\n",
       " 'find',\n",
       " 'mention',\n",
       " 'write',\n",
       " 'argument',\n",
       " 'op',\n",
       " 'op',\n",
       " 'raise',\n",
       " 'objection',\n",
       " 'state',\n",
       " 'commission',\n",
       " 'territorial',\n",
       " 'jurisdiction',\n",
       " 'entertain',\n",
       " 'instant',\n",
       " 'complaint',\n",
       " '6',\n",
       " 'hon',\n",
       " '’',\n",
       " 'ble',\n",
       " 'state',\n",
       " 'commission',\n",
       " 'appeal',\n",
       " 'no.458/2017',\n",
       " 'title',\n",
       " 'star',\n",
       " 'health',\n",
       " 'ally',\n",
       " 'insurance',\n",
       " 'co.',\n",
       " 'ltd',\n",
       " 'vs.',\n",
       " 'ravi',\n",
       " 'bansal',\n",
       " 'or',\n",
       " 'decide',\n",
       " '21.12.2017',\n",
       " 'hold',\n",
       " 'that-',\n",
       " 'safely',\n",
       " 'say',\n",
       " 'purpose',\n",
       " 'consumer',\n",
       " 'complaint',\n",
       " 'relate',\n",
       " 'normal',\n",
       " 'contract',\n",
       " 'service',\n",
       " 'and/or',\n",
       " 'good',\n",
       " 'cause',\n",
       " 'action',\n",
       " 'arise',\n",
       " 'inter',\n",
       " 'alia',\n",
       " 'place',\n",
       " 'contract',\n",
       " 'and/or',\n",
       " 'b',\n",
       " 'acceptance',\n",
       " 'contract',\n",
       " 'communicate',\n",
       " 'and/or',\n",
       " 'c',\n",
       " 'contract',\n",
       " 'perform',\n",
       " 'perform',\n",
       " 'and/or',\n",
       " 'd',\n",
       " 'money',\n",
       " 'contract',\n",
       " 'payable',\n",
       " 'pay',\n",
       " 'and/or',\n",
       " 'e',\n",
       " 'repudiation',\n",
       " 'contract',\n",
       " 'receive',\n",
       " '7',\n",
       " 'hon',\n",
       " '’',\n",
       " 'ble',\n",
       " 'state',\n",
       " 'commission',\n",
       " 'sarvesh',\n",
       " 'kumar',\n",
       " 'singh',\n",
       " 'vs',\n",
       " 'kailash',\n",
       " 'healthcare',\n",
       " 'hospital',\n",
       " '2019',\n",
       " '3',\n",
       " 'cpr',\n",
       " '627',\n",
       " 'refer',\n",
       " 'bhaiya',\n",
       " 'ram',\n",
       " 'sahoo',\n",
       " 'vs',\n",
       " 'vipin',\n",
       " 'jain',\n",
       " 'fa12/183',\n",
       " 'decide',\n",
       " '1810.2012',\n",
       " 'hold',\n",
       " 'location',\n",
       " 'register',\n",
       " 'office',\n",
       " 'sufficient',\n",
       " 'confer',\n",
       " 'jurisdiction',\n",
       " 'district',\n",
       " 'forum',\n",
       " 'cause',\n",
       " 'action',\n",
       " 'accrue',\n",
       " 'determine',\n",
       " 'territorial',\n",
       " 'jurisdiction',\n",
       " '8',\n",
       " 'uphold',\n",
       " 'judgment',\n",
       " 'supra',\n",
       " 'hon',\n",
       " '’',\n",
       " 'ble',\n",
       " 'ncdrc',\n",
       " 'judgment',\n",
       " 'date',\n",
       " '01.07.2019',\n",
       " 'clarify',\n",
       " 'hold',\n",
       " 'word',\n",
       " 'contain',\n",
       " 'sub',\n",
       " 'section',\n",
       " '2',\n",
       " '(',\n",
       " 'a',\n",
       " 'sub',\n",
       " 'section',\n",
       " '2',\n",
       " '(',\n",
       " 'b',\n",
       " 'section',\n",
       " '17',\n",
       " 'albeit',\n",
       " 'interpret',\n",
       " 'mean',\n",
       " 'complaint',\n",
       " 'institute',\n",
       " 'opposite',\n",
       " 'party',\n",
       " 'no.1',\n",
       " 'head',\n",
       " 'office',\n",
       " 'locate',\n",
       " 'i.e',\n",
       " 'delhi',\n",
       " 'opposite',\n",
       " 'party',\n",
       " 'no.2',\n",
       " 'hospital',\n",
       " 'locate',\n",
       " 'i.e',\n",
       " 'noida',\n",
       " 'u.p',\n",
       " 'cause',\n",
       " 'action',\n",
       " 'arise',\n",
       " 'i.e',\n",
       " 'noida',\n",
       " 'u.p',\n",
       " 'absurd',\n",
       " 'interpretation',\n",
       " 'draw',\n",
       " 'mechanically',\n",
       " 'application',\n",
       " 'mind',\n",
       " 'reason',\n",
       " 'logic',\n",
       " 'cause',\n",
       " 'title',\n",
       " 'judgement',\n",
       " 'entry',\n",
       " 'https',\n",
       " ':',\n",
       " '//cms.nic.in/ncdrcusersweb/search.do',\n",
       " '?',\n",
       " 'method=loadsearchpub',\n",
       " '4',\n",
       " '6',\n",
       " '08',\n",
       " '05',\n",
       " '2024',\n",
       " '14:14',\n",
       " 'readily',\n",
       " 'consequence',\n",
       " 'absurd',\n",
       " 'interpretation',\n",
       " 'chain',\n",
       " 'hospital',\n",
       " 'locate',\n",
       " 'kashmir',\n",
       " 'kanyakumari',\n",
       " 'incident',\n",
       " 'allege',\n",
       " 'medical',\n",
       " 'negligence',\n",
       " 'take',\n",
       " 'place',\n",
       " 'hospital',\n",
       " 'locate',\n",
       " 'kanyakumri',\n",
       " 'accordingly',\n",
       " 'cause',\n",
       " 'action',\n",
       " 'arise',\n",
       " 'kanyakumari',\n",
       " 'hospital',\n",
       " 'chain',\n",
       " 'locate',\n",
       " 'kashmir',\n",
       " 'number',\n",
       " 'hospital',\n",
       " 'chain',\n",
       " 'head',\n",
       " 'office',\n",
       " 'branch',\n",
       " 'office',\n",
       " 'situate',\n",
       " 'number',\n",
       " 'location',\n",
       " 'country',\n",
       " 'complaint',\n",
       " 'sate',\n",
       " 'commission',\n",
       " 'have',\n",
       " 'territorial',\n",
       " 'jurisdiction',\n",
       " 'say',\n",
       " 'n',\n",
       " 'number',\n",
       " 'location',\n",
       " 'kashmir',\n",
       " 'kanyakumari',\n",
       " 'total',\n",
       " 'disregard',\n",
       " 'cause',\n",
       " 'action',\n",
       " 'arise',\n",
       " 'absurd',\n",
       " 'interpretation',\n",
       " 'lead',\n",
       " 'absurd',\n",
       " 'situation',\n",
       " 'add',\n",
       " 'malefic',\n",
       " 'harassment',\n",
       " 'bench',\n",
       " 'hunting',\n",
       " '9',\n",
       " 'question',\n",
       " 'territorial',\n",
       " 'jurisdiction',\n",
       " 'settle',\n",
       " 'apex',\n",
       " 'court',\n",
       " 'case',\n",
       " 'sonic',\n",
       " 'surgical',\n",
       " 'vs.',\n",
       " 'national',\n",
       " 'insurance',\n",
       " 'company',\n",
       " 'ltd',\n",
       " 'iv',\n",
       " '2009',\n",
       " 'cpj',\n",
       " '40',\n",
       " 'say',\n",
       " 'judgment',\n",
       " 'hold',\n",
       " 'amend',\n",
       " 'section',\n",
       " '17',\n",
       " '2',\n",
       " 'b',\n",
       " 'consumer',\n",
       " 'protection',\n",
       " 'act',\n",
       " 'interpret',\n",
       " 'way',\n",
       " 'lead',\n",
       " 'absurd',\n",
       " 'consequence',\n",
       " 'bench',\n",
       " 'hunting',\n",
       " 'observe',\n",
       " 'expression',\n",
       " 'branch',\n",
       " 'office',\n",
       " 'amend',\n",
       " 'section',\n",
       " '17',\n",
       " '2',\n",
       " 'mean',\n",
       " 'branch',\n",
       " 'office',\n",
       " 'cause',\n",
       " 'action',\n",
       " 'arise',\n",
       " '9',\n",
       " 'perusal',\n",
       " 'material',\n",
       " 'place',\n",
       " 'notice',\n",
       " 'corporate',\n",
       " 'office',\n",
       " 'op',\n",
       " 'great',\n",
       " 'noida',\n",
       " 'complainant',\n",
       " 'reside',\n",
       " 'project',\n",
       " 'great',\n",
       " 'noida',\n",
       " 'agreement',\n",
       " 'sub',\n",
       " 'lease',\n",
       " 'possession',\n",
       " 'letter',\n",
       " 'etc',\n",
       " 'great',\n",
       " 'noida',\n",
       " 'cause',\n",
       " 'action',\n",
       " 'take',\n",
       " 'place',\n",
       " 'territorial',\n",
       " 'jurisdiction',\n",
       " 'commission',\n",
       " '10',\n",
       " 'view',\n",
       " 'discussion',\n",
       " 'find',\n",
       " 'complaint',\n",
       " 'maintainable',\n",
       " 'lack',\n",
       " 'territorial',\n",
       " 'jurisdiction',\n",
       " 'commission',\n",
       " 'complaint',\n",
       " 'accordingly',\n",
       " 'return',\n",
       " 'complainant',\n",
       " 'present',\n",
       " 'appropriate',\n",
       " 'forum',\n",
       " 'have',\n",
       " 'jurisdiction',\n",
       " '4',\n",
       " 'week',\n",
       " 'receipt',\n",
       " 'certify',\n",
       " 'copy',\n",
       " 'order',\n",
       " 'file',\n",
       " 'consign',\n",
       " 'record',\n",
       " 'room',\n",
       " 'retain',\n",
       " 'copy',\n",
       " 'complaint',\n",
       " 'return',\n",
       " 'file',\n",
       " 'complainant',\n",
       " 'cause',\n",
       " 'title',\n",
       " 'judgement',\n",
       " 'entry',\n",
       " 'https',\n",
       " ':',\n",
       " '//cms.nic.in/ncdrcusersweb/search.do',\n",
       " '?',\n",
       " 'method=loadsearchpub',\n",
       " '5',\n",
       " '6',\n",
       " '08',\n",
       " '05',\n",
       " '2024',\n",
       " '14:14',\n",
       " 'monika',\n",
       " 'a.',\n",
       " 'srivastava',\n",
       " 'president',\n",
       " 'kiran',\n",
       " 'kaushal',\n",
       " 'member',\n",
       " 'umesh',\n",
       " 'kumar',\n",
       " 'tyagi',\n",
       " 'member',\n",
       " 'cause',\n",
       " 'title',\n",
       " 'judgement',\n",
       " 'entry',\n",
       " 'https',\n",
       " ':',\n",
       " '//cms.nic.in/ncdrcusersweb/search.do',\n",
       " '?',\n",
       " 'method=loadsearchpub',\n",
       " '6',\n",
       " '6',\n",
       " '08',\n",
       " '05',\n",
       " '2024',\n",
       " '14:14']"
      ]
     },
     "execution_count": 20,
     "metadata": {},
     "output_type": "execute_result"
    }
   ],
   "source": [
    "df['tokenized judgements'][1]"
   ]
  },
  {
   "cell_type": "markdown",
   "id": "3279e046",
   "metadata": {},
   "source": [
    "### Vectorization:-"
   ]
  },
  {
   "cell_type": "markdown",
   "id": "2afa0a1d",
   "metadata": {},
   "source": [
    "#### Using the Inbult method for Vectorization in spacy pipeline"
   ]
  },
  {
   "cell_type": "code",
   "execution_count": 21,
   "id": "22fba74d",
   "metadata": {},
   "outputs": [],
   "source": [
    "df['vector'] = df['preprocessed_judgements'].apply(lambda text: nlp(text).vector) "
   ]
  },
  {
   "cell_type": "code",
   "execution_count": 22,
   "id": "4bd1c062",
   "metadata": {},
   "outputs": [
    {
     "data": {
      "text/plain": [
       "array([-0.08922207, -0.54116255, -0.10237668, -0.06975121,  0.06325828,\n",
       "       -0.137141  ,  0.16052577,  0.9759455 ,  0.17627357, -0.10154496,\n",
       "       -0.19363482,  0.6151751 , -0.46030277, -0.32929564,  0.01031409,\n",
       "        0.30953002, -0.17334463, -0.02450221, -0.69217396, -0.3652613 ,\n",
       "        0.0469526 ,  0.7290244 , -0.09472074,  0.12092171,  0.11676577,\n",
       "       -0.21497443,  0.3389722 ,  0.5919068 ,  0.30460453, -0.21754356,\n",
       "        0.07977628, -0.14077823, -0.10638784,  0.25460252,  0.30809522,\n",
       "       -0.3699868 ,  0.93928885,  0.14526805, -0.36649936, -0.4207027 ,\n",
       "       -0.44782475,  0.28268576,  0.134093  ,  0.33862618, -0.19026364,\n",
       "        0.02424227, -0.37874994,  0.00250193, -0.5541729 ,  0.16239776,\n",
       "       -0.5249747 ,  0.25897264,  0.13744618, -0.38431537, -0.44902477,\n",
       "       -0.16451935,  0.016852  , -0.1284305 ,  0.10790477, -0.16979897,\n",
       "       -0.49210835,  0.3082294 ,  0.29144385, -0.42463073, -0.33706972,\n",
       "       -0.10152429, -0.19870299,  0.11731137,  0.09301225, -0.02848327,\n",
       "        0.27999842,  0.38432297,  0.38757697, -0.6735361 ,  1.1211423 ,\n",
       "       -0.25797057, -0.26217157, -0.4153603 ,  0.20229527, -0.5705754 ,\n",
       "        0.17923847, -0.26692882, -0.26015243,  0.1426224 ,  0.03083702,\n",
       "       -0.09267758, -0.05778869, -0.17009784, -0.61139625,  0.7358073 ,\n",
       "        0.0147761 ,  0.20095211,  0.72565866,  0.5032819 ,  0.02421436,\n",
       "       -0.1542859 ], dtype=float32)"
      ]
     },
     "execution_count": 22,
     "metadata": {},
     "output_type": "execute_result"
    }
   ],
   "source": [
    "df['vector'][1]"
   ]
  },
  {
   "cell_type": "markdown",
   "id": "30a996a1",
   "metadata": {},
   "source": [
    "#### Vectorization with Tf-idf vectors will be done directly in the ML model Pipeline"
   ]
  },
  {
   "cell_type": "markdown",
   "id": "63443ef4",
   "metadata": {},
   "source": [
    "###  Handling Class Imbalance:- "
   ]
  },
  {
   "cell_type": "code",
   "execution_count": 85,
   "id": "b763ee17",
   "metadata": {},
   "outputs": [],
   "source": [
    "count_class_1,count_class_0=df.judgement_result.value_counts()\n",
    "\n",
    "df_class_1=df[df['judgement_result']==1]\n",
    "df_class_0=df[df['judgement_result']==0]"
   ]
  },
  {
   "cell_type": "markdown",
   "id": "635078fa",
   "metadata": {},
   "source": [
    "#### By Duplicating Values:-  "
   ]
  },
  {
   "cell_type": "code",
   "execution_count": 6,
   "id": "1d90a308",
   "metadata": {},
   "outputs": [
    {
     "ename": "NameError",
     "evalue": "name 'df_class_0' is not defined",
     "output_type": "error",
     "traceback": [
      "\u001b[0;31m---------------------------------------------------------------------------\u001b[0m",
      "\u001b[0;31mNameError\u001b[0m                                 Traceback (most recent call last)",
      "Cell \u001b[0;32mIn[6], line 2\u001b[0m\n\u001b[1;32m      1\u001b[0m \u001b[38;5;66;03m# Oversample 1-class and concat the DataFrames of both classes\u001b[39;00m\n\u001b[0;32m----> 2\u001b[0m df_class_0_over \u001b[38;5;241m=\u001b[39m df_class_0\u001b[38;5;241m.\u001b[39msample(count_class_1, replace\u001b[38;5;241m=\u001b[39m\u001b[38;5;28;01mTrue\u001b[39;00m)\n\u001b[1;32m      3\u001b[0m \u001b[38;5;66;03m#df_class_0_over = df_class_0.sample(1000, replace=True)\u001b[39;00m\n\u001b[1;32m      4\u001b[0m \u001b[38;5;66;03m#df_class_1_over = df_class_1.sample(1000, replace=True)\u001b[39;00m\n\u001b[1;32m      5\u001b[0m df_test_over \u001b[38;5;241m=\u001b[39m pd\u001b[38;5;241m.\u001b[39mconcat([df_class_1, df_class_0_over], axis\u001b[38;5;241m=\u001b[39m\u001b[38;5;241m0\u001b[39m)\n",
      "\u001b[0;31mNameError\u001b[0m: name 'df_class_0' is not defined"
     ]
    }
   ],
   "source": [
    "# Oversample 1-class and concat the DataFrames of both classes\n",
    "df_class_0_over = df_class_0.sample(count_class_1, replace=True)\n",
    "#df_class_0_over = df_class_0.sample(1000, replace=True)\n",
    "#df_class_1_over = df_class_1.sample(1000, replace=True)\n",
    "df_test_over = pd.concat([df_class_1, df_class_0_over], axis=0)\n",
    "\n",
    "print('Random over-sampling:')\n",
    "print(df_test_over.judgement_result.value_counts())"
   ]
  },
  {
   "cell_type": "code",
   "execution_count": 87,
   "id": "352906ad",
   "metadata": {},
   "outputs": [
    {
     "data": {
      "text/html": [
       "<div>\n",
       "<style scoped>\n",
       "    .dataframe tbody tr th:only-of-type {\n",
       "        vertical-align: middle;\n",
       "    }\n",
       "\n",
       "    .dataframe tbody tr th {\n",
       "        vertical-align: top;\n",
       "    }\n",
       "\n",
       "    .dataframe thead th {\n",
       "        text-align: right;\n",
       "    }\n",
       "</style>\n",
       "<table border=\"1\" class=\"dataframe\">\n",
       "  <thead>\n",
       "    <tr style=\"text-align: right;\">\n",
       "      <th></th>\n",
       "      <th>file_application_number</th>\n",
       "      <th>case_filing_date</th>\n",
       "      <th>case_category_name_en</th>\n",
       "      <th>judgement</th>\n",
       "      <th>judgement_result</th>\n",
       "      <th>case_stage_id</th>\n",
       "      <th>case_category</th>\n",
       "      <th>preprocessed_judgements</th>\n",
       "      <th>tokenized judgements</th>\n",
       "      <th>vector</th>\n",
       "    </tr>\n",
       "  </thead>\n",
       "  <tbody>\n",
       "    <tr>\n",
       "      <th>64</th>\n",
       "      <td>8/6/CC/100/2019</td>\n",
       "      <td>2019-04-11</td>\n",
       "      <td>SERVICE DEFICIENCY</td>\n",
       "      <td>DISTRICT CONSUMER DISPUTES REDRESSAL COMMISSIO...</td>\n",
       "      <td>1</td>\n",
       "      <td>7</td>\n",
       "      <td>18</td>\n",
       "      <td>district consumer dispute redressal commission...</td>\n",
       "      <td>[district, consumer, dispute, redressal, commi...</td>\n",
       "      <td>[-0.13295366, -0.49580726, -0.03802943, -0.145...</td>\n",
       "    </tr>\n",
       "    <tr>\n",
       "      <th>65</th>\n",
       "      <td>8/6/CC/103/2016</td>\n",
       "      <td>2016-04-06</td>\n",
       "      <td>TELECOM</td>\n",
       "      <td>CONSUMER DISPUTES REDRESSAL FORUM -II UDYOG SA...</td>\n",
       "      <td>1</td>\n",
       "      <td>7</td>\n",
       "      <td>19</td>\n",
       "      <td>consumer dispute redressal forum -ii udyog sad...</td>\n",
       "      <td>[consumer, dispute, redressal, forum, -ii, udy...</td>\n",
       "      <td>[-0.12625152, -0.4310686, -0.10506026, -0.1065...</td>\n",
       "    </tr>\n",
       "    <tr>\n",
       "      <th>66</th>\n",
       "      <td>8/6/CC/104/2017</td>\n",
       "      <td>2017-03-24</td>\n",
       "      <td>INDUSTRIAL/COMMERCIAL GOODS &amp; SERVICES</td>\n",
       "      <td>DISTRICT CONSUMER DISPUTES REDRESSAL COMMISSIO...</td>\n",
       "      <td>1</td>\n",
       "      <td>7</td>\n",
       "      <td>10</td>\n",
       "      <td>district consumer dispute redressal commission...</td>\n",
       "      <td>[district, consumer, dispute, redressal, commi...</td>\n",
       "      <td>[-0.1668581, -0.46053007, -0.09453784, -0.1665...</td>\n",
       "    </tr>\n",
       "    <tr>\n",
       "      <th>67</th>\n",
       "      <td>8/6/CC/107/2016</td>\n",
       "      <td>2016-04-12</td>\n",
       "      <td>BANKING</td>\n",
       "      <td>DISTRICT CONSUMER DISPUTES REDRESSAL COMMISSIO...</td>\n",
       "      <td>1</td>\n",
       "      <td>7</td>\n",
       "      <td>2</td>\n",
       "      <td>district consumer dispute redressal commission...</td>\n",
       "      <td>[district, consumer, dispute, redressal, commi...</td>\n",
       "      <td>[-0.18902232, -0.46064672, -0.10110816, -0.189...</td>\n",
       "    </tr>\n",
       "    <tr>\n",
       "      <th>68</th>\n",
       "      <td>8/6/CC/110/2019</td>\n",
       "      <td>2019-04-22</td>\n",
       "      <td>INSURANCE</td>\n",
       "      <td>DISTRICT CONSUMER DISPUTES REDRESSAL COMMISSIO...</td>\n",
       "      <td>1</td>\n",
       "      <td>7</td>\n",
       "      <td>12</td>\n",
       "      <td>district consumer dispute redressal commission...</td>\n",
       "      <td>[district, consumer, dispute, redressal, commi...</td>\n",
       "      <td>[-0.12124621, -0.5180263, -0.07067852, -0.1415...</td>\n",
       "    </tr>\n",
       "    <tr>\n",
       "      <th>...</th>\n",
       "      <td>...</td>\n",
       "      <td>...</td>\n",
       "      <td>...</td>\n",
       "      <td>...</td>\n",
       "      <td>...</td>\n",
       "      <td>...</td>\n",
       "      <td>...</td>\n",
       "      <td>...</td>\n",
       "      <td>...</td>\n",
       "      <td>...</td>\n",
       "    </tr>\n",
       "    <tr>\n",
       "      <th>188</th>\n",
       "      <td>8/6/CC/95/2016</td>\n",
       "      <td>2016-03-30</td>\n",
       "      <td>INSURANCE</td>\n",
       "      <td>DISTRICT CONSUMER DISPUTES REDRESSAL COMMISSIO...</td>\n",
       "      <td>1</td>\n",
       "      <td>7</td>\n",
       "      <td>12</td>\n",
       "      <td>district consumer dispute redressal commission...</td>\n",
       "      <td>[district, consumer, dispute, redressal, commi...</td>\n",
       "      <td>[-0.15407152, -0.46606287, -0.08928052, -0.161...</td>\n",
       "    </tr>\n",
       "    <tr>\n",
       "      <th>189</th>\n",
       "      <td>8/6/CC/95/2019</td>\n",
       "      <td>2019-04-08</td>\n",
       "      <td>RAILWAYS</td>\n",
       "      <td>CONSUMER DISPUTES REDRESSAL FORUM -II UDYOG SA...</td>\n",
       "      <td>1</td>\n",
       "      <td>7</td>\n",
       "      <td>17</td>\n",
       "      <td>consumer dispute redressal forum -ii udyog sad...</td>\n",
       "      <td>[consumer, dispute, redressal, forum, -ii, udy...</td>\n",
       "      <td>[-0.104431026, -0.54353875, 0.041597925, -0.13...</td>\n",
       "    </tr>\n",
       "    <tr>\n",
       "      <th>190</th>\n",
       "      <td>8/6/CC/96/2019</td>\n",
       "      <td>2019-04-09</td>\n",
       "      <td>AUTOMOBILES</td>\n",
       "      <td>DISTRICT CONSUMER DISPUTES REDRESSAL COMMISSIO...</td>\n",
       "      <td>1</td>\n",
       "      <td>7</td>\n",
       "      <td>1</td>\n",
       "      <td>district consumer dispute redressal commission...</td>\n",
       "      <td>[district, consumer, dispute, redressal, commi...</td>\n",
       "      <td>[-0.14792758, -0.5433336, -0.013504659, -0.134...</td>\n",
       "    </tr>\n",
       "    <tr>\n",
       "      <th>191</th>\n",
       "      <td>8/6/CC/97/2019</td>\n",
       "      <td>2019-04-09</td>\n",
       "      <td>AUTOMOBILES</td>\n",
       "      <td>DISTRICT CONSUMER DISPUTES REDRESSAL COMMISSIO...</td>\n",
       "      <td>1</td>\n",
       "      <td>7</td>\n",
       "      <td>1</td>\n",
       "      <td>district consumer dispute redressal commission...</td>\n",
       "      <td>[district, consumer, dispute, redressal, commi...</td>\n",
       "      <td>[-0.13898464, -0.5330832, -0.017695028, -0.139...</td>\n",
       "    </tr>\n",
       "    <tr>\n",
       "      <th>192</th>\n",
       "      <td>8/6/CC/98/2018</td>\n",
       "      <td>2018-03-28</td>\n",
       "      <td>SERVICE DEFICIENCY</td>\n",
       "      <td>DISTRICT CONSUMER DISPUTES REDRESSAL COMMISSIO...</td>\n",
       "      <td>1</td>\n",
       "      <td>7</td>\n",
       "      <td>18</td>\n",
       "      <td>district consumer dispute redressal commission...</td>\n",
       "      <td>[district, consumer, dispute, redressal, commi...</td>\n",
       "      <td>[-0.20187016, -0.38336134, -0.0948422, -0.0655...</td>\n",
       "    </tr>\n",
       "  </tbody>\n",
       "</table>\n",
       "<p>129 rows × 10 columns</p>\n",
       "</div>"
      ],
      "text/plain": [
       "    file_application_number case_filing_date  \\\n",
       "64          8/6/CC/100/2019       2019-04-11   \n",
       "65          8/6/CC/103/2016       2016-04-06   \n",
       "66          8/6/CC/104/2017       2017-03-24   \n",
       "67          8/6/CC/107/2016       2016-04-12   \n",
       "68          8/6/CC/110/2019       2019-04-22   \n",
       "..                      ...              ...   \n",
       "188          8/6/CC/95/2016       2016-03-30   \n",
       "189          8/6/CC/95/2019       2019-04-08   \n",
       "190          8/6/CC/96/2019       2019-04-09   \n",
       "191          8/6/CC/97/2019       2019-04-09   \n",
       "192          8/6/CC/98/2018       2018-03-28   \n",
       "\n",
       "                      case_category_name_en  \\\n",
       "64                       SERVICE DEFICIENCY   \n",
       "65                                  TELECOM   \n",
       "66   INDUSTRIAL/COMMERCIAL GOODS & SERVICES   \n",
       "67                                  BANKING   \n",
       "68                                INSURANCE   \n",
       "..                                      ...   \n",
       "188                               INSURANCE   \n",
       "189                                RAILWAYS   \n",
       "190                             AUTOMOBILES   \n",
       "191                             AUTOMOBILES   \n",
       "192                      SERVICE DEFICIENCY   \n",
       "\n",
       "                                             judgement  judgement_result  \\\n",
       "64   DISTRICT CONSUMER DISPUTES REDRESSAL COMMISSIO...                 1   \n",
       "65   CONSUMER DISPUTES REDRESSAL FORUM -II UDYOG SA...                 1   \n",
       "66   DISTRICT CONSUMER DISPUTES REDRESSAL COMMISSIO...                 1   \n",
       "67   DISTRICT CONSUMER DISPUTES REDRESSAL COMMISSIO...                 1   \n",
       "68   DISTRICT CONSUMER DISPUTES REDRESSAL COMMISSIO...                 1   \n",
       "..                                                 ...               ...   \n",
       "188  DISTRICT CONSUMER DISPUTES REDRESSAL COMMISSIO...                 1   \n",
       "189  CONSUMER DISPUTES REDRESSAL FORUM -II UDYOG SA...                 1   \n",
       "190  DISTRICT CONSUMER DISPUTES REDRESSAL COMMISSIO...                 1   \n",
       "191  DISTRICT CONSUMER DISPUTES REDRESSAL COMMISSIO...                 1   \n",
       "192  DISTRICT CONSUMER DISPUTES REDRESSAL COMMISSIO...                 1   \n",
       "\n",
       "     case_stage_id  case_category  \\\n",
       "64               7             18   \n",
       "65               7             19   \n",
       "66               7             10   \n",
       "67               7              2   \n",
       "68               7             12   \n",
       "..             ...            ...   \n",
       "188              7             12   \n",
       "189              7             17   \n",
       "190              7              1   \n",
       "191              7              1   \n",
       "192              7             18   \n",
       "\n",
       "                               preprocessed_judgements  \\\n",
       "64   district consumer dispute redressal commission...   \n",
       "65   consumer dispute redressal forum -ii udyog sad...   \n",
       "66   district consumer dispute redressal commission...   \n",
       "67   district consumer dispute redressal commission...   \n",
       "68   district consumer dispute redressal commission...   \n",
       "..                                                 ...   \n",
       "188  district consumer dispute redressal commission...   \n",
       "189  consumer dispute redressal forum -ii udyog sad...   \n",
       "190  district consumer dispute redressal commission...   \n",
       "191  district consumer dispute redressal commission...   \n",
       "192  district consumer dispute redressal commission...   \n",
       "\n",
       "                                  tokenized judgements  \\\n",
       "64   [district, consumer, dispute, redressal, commi...   \n",
       "65   [consumer, dispute, redressal, forum, -ii, udy...   \n",
       "66   [district, consumer, dispute, redressal, commi...   \n",
       "67   [district, consumer, dispute, redressal, commi...   \n",
       "68   [district, consumer, dispute, redressal, commi...   \n",
       "..                                                 ...   \n",
       "188  [district, consumer, dispute, redressal, commi...   \n",
       "189  [consumer, dispute, redressal, forum, -ii, udy...   \n",
       "190  [district, consumer, dispute, redressal, commi...   \n",
       "191  [district, consumer, dispute, redressal, commi...   \n",
       "192  [district, consumer, dispute, redressal, commi...   \n",
       "\n",
       "                                                vector  \n",
       "64   [-0.13295366, -0.49580726, -0.03802943, -0.145...  \n",
       "65   [-0.12625152, -0.4310686, -0.10506026, -0.1065...  \n",
       "66   [-0.1668581, -0.46053007, -0.09453784, -0.1665...  \n",
       "67   [-0.18902232, -0.46064672, -0.10110816, -0.189...  \n",
       "68   [-0.12124621, -0.5180263, -0.07067852, -0.1415...  \n",
       "..                                                 ...  \n",
       "188  [-0.15407152, -0.46606287, -0.08928052, -0.161...  \n",
       "189  [-0.104431026, -0.54353875, 0.041597925, -0.13...  \n",
       "190  [-0.14792758, -0.5433336, -0.013504659, -0.134...  \n",
       "191  [-0.13898464, -0.5330832, -0.017695028, -0.139...  \n",
       "192  [-0.20187016, -0.38336134, -0.0948422, -0.0655...  \n",
       "\n",
       "[129 rows x 10 columns]"
      ]
     },
     "execution_count": 87,
     "metadata": {},
     "output_type": "execute_result"
    }
   ],
   "source": [
    "df_test_over.head(129)"
   ]
  },
  {
   "cell_type": "markdown",
   "id": "6fa56013",
   "metadata": {},
   "source": [
    "## 4. Model Selection, Training & Evaluation:-"
   ]
  },
  {
   "cell_type": "markdown",
   "id": "c9a40a83",
   "metadata": {},
   "source": [
    "### Spliting the dataset for testing and training"
   ]
  },
  {
   "cell_type": "code",
   "execution_count": 45,
   "id": "705dfcfe",
   "metadata": {},
   "outputs": [],
   "source": [
    "X=df_test_over['vector']\n",
    "y = df_test_over['judgement_result']\n",
    "\n",
    "from sklearn.model_selection import train_test_split\n",
    "X_train, X_test, y_train, y_test = train_test_split(X.values, y, test_size=0.2, random_state=15, stratify=y)"
   ]
  },
  {
   "cell_type": "code",
   "execution_count": 46,
   "id": "a71d32f3",
   "metadata": {},
   "outputs": [
    {
     "name": "stdout",
     "output_type": "stream",
     "text": [
      "Shape of X_train before reshaping:  (206,)\n",
      "Shape of X_test before reshaping:  (52,)\n",
      "Shape of X_train after reshaping:  (206, 96)\n",
      "Shape of X_test after reshaping:  (52, 96)\n"
     ]
    }
   ],
   "source": [
    "print(\"Shape of X_train before reshaping: \", X_train.shape)\n",
    "print(\"Shape of X_test before reshaping: \", X_test.shape)\n",
    "\n",
    "#X_train_numeric = [[float(element) for element in inner_list.split()] for inner_list in X_train]\n",
    "#X_train_2d = np.stack(X_train_numeric)\n",
    "\n",
    "X_train_2d = np.stack(X_train)\n",
    "\n",
    "#X_test_numeric = [[float(element) for element in inner_list.split()] for inner_list in X_test]\n",
    "#X_test_2d = np.stack(X_test_numeric)\n",
    "\n",
    "X_test_2d =  np.stack(X_test)\n",
    "\n",
    "print(\"Shape of X_train after reshaping: \", X_train_2d.shape)\n",
    "print(\"Shape of X_test after reshaping: \", X_test_2d.shape)"
   ]
  },
  {
   "cell_type": "markdown",
   "id": "4168cae2",
   "metadata": {},
   "source": [
    "### Using Spacy's Vectorization Method"
   ]
  },
  {
   "cell_type": "markdown",
   "id": "07fd29ce",
   "metadata": {},
   "source": [
    "#### Using Decision Trees"
   ]
  },
  {
   "cell_type": "code",
   "execution_count": 74,
   "id": "6980a8c0",
   "metadata": {},
   "outputs": [
    {
     "name": "stdout",
     "output_type": "stream",
     "text": [
      "              precision    recall  f1-score   support\n",
      "\n",
      "           0       0.73      0.92      0.81        26\n",
      "           1       0.89      0.65      0.76        26\n",
      "\n",
      "    accuracy                           0.79        52\n",
      "   macro avg       0.81      0.79      0.78        52\n",
      "weighted avg       0.81      0.79      0.78        52\n",
      "\n"
     ]
    }
   ],
   "source": [
    "from sklearn.tree import DecisionTreeClassifier\n",
    "\n",
    "\n",
    "#1. creating a Decision Tree model object\n",
    "clf = DecisionTreeClassifier()\n",
    "\n",
    "#2. fit with all_train_embeddings and y_train\n",
    "clf.fit(X_train_2d, y_train)\n",
    "\n",
    "\n",
    "#3. get the predictions for all_test_embeddings and store it in y_pred\n",
    "y_pred = clf.predict(X_test_2d)\n",
    "\n",
    "\n",
    "#4. print the classfication report\n",
    "print(classification_report(y_test, y_pred))"
   ]
  },
  {
   "cell_type": "markdown",
   "id": "3df15530",
   "metadata": {},
   "source": [
    "#### Using Naive Bayes Classifier"
   ]
  },
  {
   "cell_type": "code",
   "execution_count": 75,
   "id": "8b1d6943",
   "metadata": {},
   "outputs": [
    {
     "name": "stdout",
     "output_type": "stream",
     "text": [
      "              precision    recall  f1-score   support\n",
      "\n",
      "           0       0.61      0.77      0.68        26\n",
      "           1       0.68      0.50      0.58        26\n",
      "\n",
      "    accuracy                           0.63        52\n",
      "   macro avg       0.65      0.63      0.63        52\n",
      "weighted avg       0.65      0.63      0.63        52\n",
      "\n"
     ]
    }
   ],
   "source": [
    "from sklearn.naive_bayes import MultinomialNB\n",
    "from sklearn.preprocessing import MinMaxScaler\n",
    "\n",
    "#doing scaling because Negative values will not pass into Naive Bayes models\n",
    "scaler = MinMaxScaler()                                         \n",
    "scaled_train_embed = scaler.fit_transform(X_train_2d)\n",
    "scaled_test_embed = scaler.transform(X_test_2d)\n",
    "\n",
    "#1. creating a MultinomialNB model object \n",
    "clf = MultinomialNB()\n",
    "\n",
    "#2. fit with all_train_embeddings and y_train\n",
    "clf.fit(scaled_train_embed , y_train) \n",
    "\n",
    "\n",
    "#3. get the predictions for all_test_embeddings and store it in y_pred\n",
    "y_pred = clf.predict(scaled_test_embed)\n",
    "\n",
    "\n",
    "#4. print the classfication report\n",
    "print(classification_report(y_test, y_pred))"
   ]
  },
  {
   "cell_type": "code",
   "execution_count": 76,
   "id": "1f06b957",
   "metadata": {},
   "outputs": [
    {
     "name": "stdout",
     "output_type": "stream",
     "text": [
      "[[20  6]\n",
      " [13 13]]\n"
     ]
    },
    {
     "data": {
      "text/plain": [
       "Text(95.72222222222221, 0.5, 'Truth')"
      ]
     },
     "execution_count": 76,
     "metadata": {},
     "output_type": "execute_result"
    },
    {
     "data": {
      "image/png": "[encoded data removed]",
      "text/plain": [
       "<Figure size 1000x700 with 2 Axes>"
      ]
     },
     "metadata": {},
     "output_type": "display_data"
    }
   ],
   "source": [
    "from sklearn.metrics import confusion_matrix\n",
    "cm = confusion_matrix(y_test, y_pred)\n",
    "print(cm)\n",
    "\n",
    "\n",
    "from matplotlib import pyplot as plt\n",
    "import seaborn as sn\n",
    "plt.figure(figsize = (10,7))\n",
    "sn.heatmap(cm, annot=True, fmt='d')\n",
    "plt.xlabel('Prediction')\n",
    "plt.ylabel('Truth')"
   ]
  },
  {
   "cell_type": "markdown",
   "id": "37848a04",
   "metadata": {},
   "source": [
    "#### Using K Neighbours Classifier"
   ]
  },
  {
   "cell_type": "code",
   "execution_count": 77,
   "id": "5bf6cf28",
   "metadata": {},
   "outputs": [
    {
     "name": "stdout",
     "output_type": "stream",
     "text": [
      "              precision    recall  f1-score   support\n",
      "\n",
      "           0       0.53      0.65      0.59        26\n",
      "           1       0.55      0.42      0.48        26\n",
      "\n",
      "    accuracy                           0.54        52\n",
      "   macro avg       0.54      0.54      0.53        52\n",
      "weighted avg       0.54      0.54      0.53        52\n",
      "\n"
     ]
    }
   ],
   "source": [
    "from  sklearn.neighbors import KNeighborsClassifier\n",
    "\n",
    "\n",
    "#1. creating a KNN model object\n",
    "clf = KNeighborsClassifier(n_neighbors = 5, metric = 'euclidean')\n",
    "\n",
    "#2. fit with all_train_embeddings and y_train\n",
    "clf.fit(X_train_2d, y_train)\n",
    "\n",
    "\n",
    "#3. get the predictions for all_test_embeddings and store it in y_pred\n",
    "y_pred = clf.predict(X_test_2d)\n",
    "\n",
    "#4. print the classfication report\n",
    "print(classification_report(y_test, y_pred))"
   ]
  },
  {
   "cell_type": "code",
   "execution_count": 78,
   "id": "934d9e2b",
   "metadata": {},
   "outputs": [
    {
     "name": "stdout",
     "output_type": "stream",
     "text": [
      "[[17  9]\n",
      " [15 11]]\n"
     ]
    },
    {
     "data": {
      "text/plain": [
       "Text(95.72222222222221, 0.5, 'Truth')"
      ]
     },
     "execution_count": 78,
     "metadata": {},
     "output_type": "execute_result"
    },
    {
     "data": {
      "image/png": "[encoded data removed]",
      "text/plain": [
       "<Figure size 1000x700 with 2 Axes>"
      ]
     },
     "metadata": {},
     "output_type": "display_data"
    }
   ],
   "source": [
    "from sklearn.metrics import confusion_matrix\n",
    "cm = confusion_matrix(y_test, y_pred)\n",
    "print(cm)\n",
    "\n",
    "\n",
    "from matplotlib import pyplot as plt\n",
    "import seaborn as sn\n",
    "plt.figure(figsize = (10,7))\n",
    "sn.heatmap(cm, annot=True, fmt='d')\n",
    "plt.xlabel('Prediction')\n",
    "plt.ylabel('Truth')"
   ]
  },
  {
   "cell_type": "markdown",
   "id": "deebc6b3",
   "metadata": {},
   "source": [
    "#### Using Random Forest Classifier"
   ]
  },
  {
   "cell_type": "code",
   "execution_count": 79,
   "id": "e998bb89",
   "metadata": {},
   "outputs": [
    {
     "name": "stdout",
     "output_type": "stream",
     "text": [
      "              precision    recall  f1-score   support\n",
      "\n",
      "           0       0.72      0.88      0.79        26\n",
      "           1       0.85      0.65      0.74        26\n",
      "\n",
      "    accuracy                           0.77        52\n",
      "   macro avg       0.78      0.77      0.77        52\n",
      "weighted avg       0.78      0.77      0.77        52\n",
      "\n"
     ]
    }
   ],
   "source": [
    "from sklearn.ensemble import RandomForestClassifier\n",
    "\n",
    "\n",
    "#1. creating a Random Forest model object\n",
    "clf = RandomForestClassifier()\n",
    "\n",
    "\n",
    "#2. fit with all_train_embeddings and y_train\n",
    "clf.fit(X_train_2d, y_train)\n",
    "\n",
    "\n",
    "#3. get the predictions for all_test_embeddings and store it in y_pred\n",
    "y_pred = clf.predict(X_test_2d)\n",
    "\n",
    "\n",
    "#4. print the classfication report\n",
    "print(classification_report(y_test, y_pred))"
   ]
  },
  {
   "cell_type": "code",
   "execution_count": 80,
   "id": "face589c",
   "metadata": {},
   "outputs": [
    {
     "name": "stdout",
     "output_type": "stream",
     "text": [
      "[[23  3]\n",
      " [ 9 17]]\n"
     ]
    },
    {
     "data": {
      "text/plain": [
       "Text(33.22222222222222, 0.5, 'Truth')"
      ]
     },
     "execution_count": 80,
     "metadata": {},
     "output_type": "execute_result"
    },
    {
     "data": {
      "image/png": "[encoded data removed]",
      "text/plain": [
       "<Figure size 500x500 with 2 Axes>"
      ]
     },
     "metadata": {},
     "output_type": "display_data"
    }
   ],
   "source": [
    "from sklearn.metrics import confusion_matrix\n",
    "cm = confusion_matrix(y_test, y_pred)\n",
    "print(cm)\n",
    "\n",
    "\n",
    "from matplotlib import pyplot as plt\n",
    "import seaborn as sn\n",
    "plt.figure(figsize = (5,5))\n",
    "sn.heatmap(cm, annot=True, fmt='d')\n",
    "plt.xlabel('Prediction')\n",
    "plt.ylabel('Truth')"
   ]
  },
  {
   "cell_type": "markdown",
   "id": "8da6d40d",
   "metadata": {},
   "source": [
    "#### Using Gradient Boosting Classifier"
   ]
  },
  {
   "cell_type": "code",
   "execution_count": 81,
   "id": "9666b879",
   "metadata": {},
   "outputs": [
    {
     "name": "stdout",
     "output_type": "stream",
     "text": [
      "              precision    recall  f1-score   support\n",
      "\n",
      "           0       0.82      0.88      0.85        26\n",
      "           1       0.88      0.81      0.84        26\n",
      "\n",
      "    accuracy                           0.85        52\n",
      "   macro avg       0.85      0.85      0.85        52\n",
      "weighted avg       0.85      0.85      0.85        52\n",
      "\n"
     ]
    }
   ],
   "source": [
    "from sklearn.ensemble import GradientBoostingClassifier\n",
    "\n",
    "\n",
    "#1. creating a GradientBoosting model object\n",
    "clf = GradientBoostingClassifier()\n",
    "\n",
    "#2. fit with all_train_embeddings and y_train\n",
    "clf.fit(X_train_2d, y_train)\n",
    "\n",
    "\n",
    "#3. get the predictions for all_test_embeddings and store it in y_pred\n",
    "y_pred = clf.predict(X_test_2d)\n",
    "\n",
    "\n",
    "#4. print the classfication report\n",
    "print(classification_report(y_test, y_pred))"
   ]
  },
  {
   "cell_type": "code",
   "execution_count": 82,
   "id": "22148430",
   "metadata": {},
   "outputs": [
    {
     "name": "stdout",
     "output_type": "stream",
     "text": [
      "[[23  3]\n",
      " [ 5 21]]\n"
     ]
    },
    {
     "data": {
      "text/plain": [
       "Text(95.72222222222221, 0.5, 'Truth')"
      ]
     },
     "execution_count": 82,
     "metadata": {},
     "output_type": "execute_result"
    },
    {
     "data": {
      "image/png": "[encoded data removed]",
      "text/plain": [
       "<Figure size 1000x700 with 2 Axes>"
      ]
     },
     "metadata": {},
     "output_type": "display_data"
    }
   ],
   "source": [
    "#finally print the confusion matrix for the best model: GradientBoostingClassifier\n",
    "\n",
    "from sklearn.metrics import confusion_matrix\n",
    "cm = confusion_matrix(y_test, y_pred)\n",
    "print(cm)\n",
    "\n",
    "\n",
    "from matplotlib import pyplot as plt\n",
    "import seaborn as sn\n",
    "plt.figure(figsize = (10,7))\n",
    "sn.heatmap(cm, annot=True, fmt='d')\n",
    "plt.xlabel('Prediction')\n",
    "plt.ylabel('Truth')"
   ]
  },
  {
   "cell_type": "markdown",
   "id": "a30302f4",
   "metadata": {},
   "source": [
    "#### Using Ada Boost Classifier"
   ]
  },
  {
   "cell_type": "code",
   "execution_count": 83,
   "id": "6fec0907",
   "metadata": {},
   "outputs": [
    {
     "name": "stdout",
     "output_type": "stream",
     "text": [
      "              precision    recall  f1-score   support\n",
      "\n",
      "           0       0.69      0.92      0.79        26\n",
      "           1       0.88      0.58      0.70        26\n",
      "\n",
      "    accuracy                           0.75        52\n",
      "   macro avg       0.78      0.75      0.74        52\n",
      "weighted avg       0.78      0.75      0.74        52\n",
      "\n"
     ]
    }
   ],
   "source": [
    "from sklearn.ensemble import AdaBoostClassifier\n",
    "from sklearn.datasets import make_classification\n",
    "\n",
    "\n",
    "#1. creating a GradientBoosting model object\n",
    "clf = AdaBoostClassifier(algorithm=\"SAMME\")\n",
    "\n",
    "#2. fit with all_train_embeddings and y_train\n",
    "clf.fit(X_train_2d, y_train)\n",
    "\n",
    "\n",
    "#3. get the predictions for all_test_embeddings and store it in y_pred\n",
    "y_pred = clf.predict(X_test_2d)\n",
    "\n",
    "\n",
    "#4. print the classfication report\n",
    "print(classification_report(y_test, y_pred))"
   ]
  },
  {
   "cell_type": "code",
   "execution_count": 57,
   "id": "c37afcb9",
   "metadata": {},
   "outputs": [
    {
     "name": "stdout",
     "output_type": "stream",
     "text": [
      "[[24  2]\n",
      " [11 15]]\n"
     ]
    },
    {
     "data": {
      "text/plain": [
       "Text(95.72222222222221, 0.5, 'Truth')"
      ]
     },
     "execution_count": 57,
     "metadata": {},
     "output_type": "execute_result"
    },
    {
     "data": {
      "image/png": "[encoded data removed]",
      "text/plain": [
       "<Figure size 1000x700 with 2 Axes>"
      ]
     },
     "metadata": {},
     "output_type": "display_data"
    }
   ],
   "source": [
    "from sklearn.metrics import confusion_matrix\n",
    "cm = confusion_matrix(y_test, y_pred)\n",
    "print(cm)\n",
    "\n",
    "\n",
    "from matplotlib import pyplot as plt\n",
    "import seaborn as sn\n",
    "plt.figure(figsize = (10,7))\n",
    "sn.heatmap(cm, annot=True, fmt='d')\n",
    "plt.xlabel('Prediction')\n",
    "plt.ylabel('Truth')"
   ]
  },
  {
   "cell_type": "markdown",
   "id": "a79d5da6",
   "metadata": {},
   "source": [
    "### Using Tf-Idf Method for Vectorization"
   ]
  },
  {
   "cell_type": "code",
   "execution_count": 58,
   "id": "625783b8",
   "metadata": {},
   "outputs": [],
   "source": [
    "count_class_1,count_class_0=df.judgement_result.value_counts()\n",
    "\n",
    "df_class_1=df[df['judgement_result']==1]\n",
    "df_class_0=df[df['judgement_result']==0]"
   ]
  },
  {
   "cell_type": "code",
   "execution_count": 59,
   "id": "f6854dde",
   "metadata": {},
   "outputs": [
    {
     "name": "stdout",
     "output_type": "stream",
     "text": [
      "Random over-sampling:\n",
      "judgement_result\n",
      "1    129\n",
      "0    129\n",
      "Name: count, dtype: int64\n"
     ]
    }
   ],
   "source": [
    "# Oversample 1-class and concat the DataFrames of both classes\n",
    "df_class_0_over = df_class_0.sample(count_class_1, replace=True)\n",
    "#df_class_0_over = df_class_0.sample(1000, replace=True)\n",
    "#df_class_1_over = df_class_1.sample(1000, replace=True)\n",
    "df_test_over = pd.concat([df_class_1, df_class_0_over], axis=0)\n",
    "\n",
    "print('Random over-sampling:')\n",
    "print(df_test_over.judgement_result.value_counts())"
   ]
  },
  {
   "cell_type": "code",
   "execution_count": 60,
   "id": "a16bbd14",
   "metadata": {},
   "outputs": [],
   "source": [
    "X=df_test_over['preprocessed_judgements']\n",
    "y = df_test_over['judgement_result']\n",
    "\n",
    "from sklearn.model_selection import train_test_split\n",
    "X_train, X_test, y_train, y_test = train_test_split(X.values, y, test_size=0.2, random_state=15, stratify=y)"
   ]
  },
  {
   "cell_type": "code",
   "execution_count": 69,
   "id": "51953615",
   "metadata": {},
   "outputs": [
    {
     "name": "stdout",
     "output_type": "stream",
     "text": [
      "              precision    recall  f1-score   support\n",
      "\n",
      "           0       0.80      0.92      0.86        26\n",
      "           1       0.91      0.77      0.83        26\n",
      "\n",
      "    accuracy                           0.85        52\n",
      "   macro avg       0.85      0.85      0.85        52\n",
      "weighted avg       0.85      0.85      0.85        52\n",
      "\n"
     ]
    }
   ],
   "source": [
    "from sklearn.tree import DecisionTreeClassifier\n",
    "from sklearn.pipeline import Pipeline\n",
    "from sklearn.metrics import classification_report\n",
    "from sklearn.feature_extraction.text import TfidfVectorizer\n",
    "\n",
    "#1. create a pipeline object\n",
    "clf = Pipeline([\n",
    "     ('vectorizer_tfidf',TfidfVectorizer()),    \n",
    "     ('DecisionTreeClassifier', DecisionTreeClassifier())         \n",
    "])\n",
    "\n",
    "#2. fit with all_train_embeddings and y_train\n",
    "clf.fit(X_train, y_train)\n",
    "\n",
    "\n",
    "#3. get the predictions for all_test_embeddings and store it in y_pred\n",
    "y_pred = clf.predict(X_test)\n",
    "\n",
    "\n",
    "#4. print the classfication report\n",
    "print(classification_report(y_test, y_pred))"
   ]
  },
  {
   "cell_type": "code",
   "execution_count": 70,
   "id": "ca5b1ae0",
   "metadata": {},
   "outputs": [
    {
     "name": "stdout",
     "output_type": "stream",
     "text": [
      "              precision    recall  f1-score   support\n",
      "\n",
      "           0       0.79      0.88      0.84        26\n",
      "           1       0.87      0.77      0.82        26\n",
      "\n",
      "    accuracy                           0.83        52\n",
      "   macro avg       0.83      0.83      0.83        52\n",
      "weighted avg       0.83      0.83      0.83        52\n",
      "\n"
     ]
    }
   ],
   "source": [
    "from sklearn.naive_bayes import MultinomialNB\n",
    "\n",
    "\n",
    "#1. create a pipeline object\n",
    "clf = Pipeline([\n",
    "     ('vectorizer_tfidf',TfidfVectorizer()),    \n",
    "     ('Multi NB', MultinomialNB())         \n",
    "])\n",
    "\n",
    "#2. fit with X_train and y_train\n",
    "clf.fit(X_train, y_train)\n",
    "\n",
    "\n",
    "#3. get the predictions for X_test and store it in y_pred\n",
    "y_pred = clf.predict(X_test)\n",
    "\n",
    "\n",
    "#4. print the classfication report\n",
    "print(classification_report(y_test, y_pred))"
   ]
  },
  {
   "cell_type": "code",
   "execution_count": 71,
   "id": "9c79a7cc",
   "metadata": {},
   "outputs": [
    {
     "name": "stdout",
     "output_type": "stream",
     "text": [
      "              precision    recall  f1-score   support\n",
      "\n",
      "           0       0.88      0.88      0.88        26\n",
      "           1       0.88      0.88      0.88        26\n",
      "\n",
      "    accuracy                           0.88        52\n",
      "   macro avg       0.88      0.88      0.88        52\n",
      "weighted avg       0.88      0.88      0.88        52\n",
      "\n"
     ]
    }
   ],
   "source": [
    "from sklearn.ensemble import RandomForestClassifier\n",
    "\n",
    "#1. create a pipeline object\n",
    "clf = Pipeline([\n",
    "     ('vectorizer_tfidf',TfidfVectorizer()),        #using the ngram_range parameter \n",
    "     ('Random Forest', RandomForestClassifier())         \n",
    "])\n",
    "\n",
    "#2. fit with X_train and y_train\n",
    "clf.fit(X_train, y_train)\n",
    "\n",
    "\n",
    "#3. get the predictions for X_test and store it in y_pred\n",
    "y_pred = clf.predict(X_test)\n",
    "\n",
    "\n",
    "#4. print the classfication report\n",
    "print(classification_report(y_test, y_pred))"
   ]
  },
  {
   "cell_type": "code",
   "execution_count": 88,
   "id": "920c4dda",
   "metadata": {},
   "outputs": [
    {
     "name": "stdout",
     "output_type": "stream",
     "text": [
      "              precision    recall  f1-score   support\n",
      "\n",
      "           0       0.86      0.92      0.89        26\n",
      "           1       0.92      0.85      0.88        26\n",
      "\n",
      "    accuracy                           0.88        52\n",
      "   macro avg       0.89      0.88      0.88        52\n",
      "weighted avg       0.89      0.88      0.88        52\n",
      "\n"
     ]
    }
   ],
   "source": [
    "from sklearn.ensemble import AdaBoostClassifier\n",
    "from sklearn.datasets import make_classification\n",
    "\n",
    "\n",
    "#1. create a pipeline object\n",
    "clf = Pipeline([\n",
    "     ('vectorizer_tfidf',TfidfVectorizer()),        #using the ngram_range parameter \n",
    "     ('Ada Boost',   AdaBoostClassifier(algorithm=\"SAMME\"))       \n",
    "])\n",
    "\n",
    "#2. fit with X_train and y_train\n",
    "clf.fit(X_train, y_train)\n",
    "\n",
    "\n",
    "#3. get the predictions for X_test and store it in y_pred\n",
    "y_pred = clf.predict(X_test)\n",
    "\n",
    "\n",
    "#4. print the classfication report\n",
    "print(classification_report(y_test, y_pred))"
   ]
  },
  {
   "cell_type": "code",
   "execution_count": 89,
   "id": "1514fa48",
   "metadata": {},
   "outputs": [],
   "source": [
    "import joblib"
   ]
  },
  {
   "cell_type": "code",
   "execution_count": 90,
   "id": "c7ff53fd",
   "metadata": {},
   "outputs": [
    {
     "name": "stdout",
     "output_type": "stream",
     "text": [
      "Model saved to text_classifier.pkl\n"
     ]
    }
   ],
   "source": [
    "joblib.dump(clf, 'text_classifier.pkl')\n",
    "print(\"Model saved to text_classifier.pkl\")"
   ]
  },
  {
   "cell_type": "code",
   "execution_count": null,
   "id": "587dc1dd",
   "metadata": {},
   "outputs": [],
   "source": []
  }
 ],
 "metadata": {
  "kernelspec": {
   "display_name": "Python 3 (ipykernel)",
   "language": "python",
   "name": "python3"
  },
  "language_info": {
   "codemirror_mode": {
    "name": "ipython",
    "version": 3
   },
   "file_extension": ".py",
   "mimetype": "text/x-python",
   "name": "python",
   "nbconvert_exporter": "python",
   "pygments_lexer": "ipython3",
   "version": "3.11.5"
  }
 },
 "nbformat": 4,
 "nbformat_minor": 5
}
