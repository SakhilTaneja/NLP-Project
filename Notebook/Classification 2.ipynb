{
 "cells": [
  {
   "cell_type": "markdown",
   "id": "ff528650",
   "metadata": {},
   "source": [
    "# Text Classification Model"
   ]
  },
  {
   "cell_type": "markdown",
   "id": "92ecd5ef",
   "metadata": {},
   "source": [
    "##  Task:- Classifying Judgements into Successful or Unsuccessful"
   ]
  },
  {
   "cell_type": "markdown",
   "id": "64514f86",
   "metadata": {},
   "source": [
    "## 1. Data Collection:- 192 reports have been acquired of South Delhi District Commission using the Confonent website and has been saved in a csv file alongside information such as case_filing_date, judgement result, case_stage_id, file_application_number, case_category"
   ]
  },
  {
   "cell_type": "markdown",
   "id": "6dd1381c",
   "metadata": {},
   "source": [
    "## 2. Data Preprocessing:-"
   ]
  },
  {
   "cell_type": "markdown",
   "id": "921bfa8b",
   "metadata": {},
   "source": [
    "### 2.1. Loading the dataset:-"
   ]
  },
  {
   "cell_type": "code",
   "execution_count": 1,
   "id": "f72beccd",
   "metadata": {},
   "outputs": [],
   "source": [
    "import numpy as np\n",
    "import pandas as pd\n",
    "import matplotlib.pyplot as plt\n",
    "import seaborn as sns\n",
    "import ast"
   ]
  },
  {
   "cell_type": "code",
   "execution_count": 16,
   "id": "316bab88",
   "metadata": {},
   "outputs": [],
   "source": [
    "# Loading our dataset into df variable\n",
    "df=pd.read_csv('/home/sakhiltaneja/Desktop/NLP/Database/text_features_distillbert.csv')"
   ]
  },
  {
   "cell_type": "code",
   "execution_count": 26,
   "id": "8311a0b0",
   "metadata": {},
   "outputs": [
    {
     "name": "stdout",
     "output_type": "stream",
     "text": [
      "0    [-0.6856859922409058, 0.624444842338562, -0.28...\n",
      "1    [-0.6919122934341431, 0.6989309191703796, -0.4...\n",
      "2    [-0.6487255096435547, 0.6258049011230469, -0.3...\n",
      "3    [-0.5775709748268127, 0.7028276920318604, -0.3...\n",
      "4    [-0.6316535472869873, 0.5108781456947327, -0.2...\n",
      "Name: features, dtype: object\n"
     ]
    }
   ],
   "source": [
    "def convert_to_list(feature_str):\n",
    "    try:\n",
    "        # Safely evaluate the string representation of the list\n",
    "        return ast.literal_eval(feature_str)\n",
    "    except (ValueError, SyntaxError):\n",
    "        # Handle the exception if the string cannot be converted\n",
    "        return []\n",
    "\n",
    "# Apply the conversion to the 'features' column\n",
    "df['features'] = df['features'].apply(convert_to_list)\n",
    "\n",
    "# Verify the conversion\n",
    "print(df['features'].head())"
   ]
  },
  {
   "cell_type": "code",
   "execution_count": 15,
   "id": "4e73e603",
   "metadata": {},
   "outputs": [],
   "source": [
    "# df.to_csv('/home/sakhiltaneja/Desktop/NLP/Database/text_features_distillbert.csv')"
   ]
  },
  {
   "cell_type": "code",
   "execution_count": 3,
   "id": "65460ad1",
   "metadata": {},
   "outputs": [
    {
     "data": {
      "text/html": [
       "<div>\n",
       "<style scoped>\n",
       "    .dataframe tbody tr th:only-of-type {\n",
       "        vertical-align: middle;\n",
       "    }\n",
       "\n",
       "    .dataframe tbody tr th {\n",
       "        vertical-align: top;\n",
       "    }\n",
       "\n",
       "    .dataframe thead th {\n",
       "        text-align: right;\n",
       "    }\n",
       "</style>\n",
       "<table border=\"1\" class=\"dataframe\">\n",
       "  <thead>\n",
       "    <tr style=\"text-align: right;\">\n",
       "      <th></th>\n",
       "      <th>Unnamed: 0</th>\n",
       "      <th>file_application_number</th>\n",
       "      <th>case_filing_date</th>\n",
       "      <th>case_category_name_en</th>\n",
       "      <th>judgement</th>\n",
       "      <th>judgement_result</th>\n",
       "      <th>case_stage_id</th>\n",
       "      <th>preprocessed_judgement</th>\n",
       "      <th>vector</th>\n",
       "      <th>features</th>\n",
       "    </tr>\n",
       "  </thead>\n",
       "  <tbody>\n",
       "    <tr>\n",
       "      <th>0</th>\n",
       "      <td>0</td>\n",
       "      <td>8/6/CC/101/2019</td>\n",
       "      <td>2019-04-12</td>\n",
       "      <td>AUTOMOBILES</td>\n",
       "      <td>DISTRICT CONSUMER DISPUTES REDRESSAL COMMISSIO...</td>\n",
       "      <td>0</td>\n",
       "      <td>7</td>\n",
       "      <td>district consumer dispute redressal commission...</td>\n",
       "      <td>&lt;generator object vectorize at 0x7a7eed1395b0&gt;</td>\n",
       "      <td>[-0.9598655700683594, -0.018118225038051605, -...</td>\n",
       "    </tr>\n",
       "    <tr>\n",
       "      <th>1</th>\n",
       "      <td>1</td>\n",
       "      <td>8/6/CC/102/2017</td>\n",
       "      <td>2017-03-21</td>\n",
       "      <td>HOUSE HOLD GOODS</td>\n",
       "      <td>DISTRICT CONSUMER DISPUTES REDRESSAL COMMISSIO...</td>\n",
       "      <td>0</td>\n",
       "      <td>7</td>\n",
       "      <td>district consumer dispute redressal commission...</td>\n",
       "      <td>&lt;generator object vectorize at 0x7a7eed139700&gt;</td>\n",
       "      <td>[-0.8949001431465149, -0.09343592822551727, -0...</td>\n",
       "    </tr>\n",
       "    <tr>\n",
       "      <th>2</th>\n",
       "      <td>2</td>\n",
       "      <td>8/6/CC/106/2018</td>\n",
       "      <td>2018-04-04</td>\n",
       "      <td>TELECOM</td>\n",
       "      <td>DISTRICT CONSUMER DISPUTES REDRESSAL COMMISSIO...</td>\n",
       "      <td>0</td>\n",
       "      <td>7</td>\n",
       "      <td>district consumer dispute redressal commission...</td>\n",
       "      <td>&lt;generator object vectorize at 0x7a7eed139850&gt;</td>\n",
       "      <td>[-0.8968667984008789, -0.2350875437259674, 0.0...</td>\n",
       "    </tr>\n",
       "    <tr>\n",
       "      <th>3</th>\n",
       "      <td>3</td>\n",
       "      <td>8/6/CC/107/2018</td>\n",
       "      <td>2018-04-06</td>\n",
       "      <td>INDUSTRIAL/COMMERCIAL GOODS &amp; SERVICES</td>\n",
       "      <td>DISTRICT CONSUMER DISPUTES REDRESSAL COMMISSIO...</td>\n",
       "      <td>0</td>\n",
       "      <td>7</td>\n",
       "      <td>district consumer dispute redressal commission...</td>\n",
       "      <td>&lt;generator object vectorize at 0x7a7eed139770&gt;</td>\n",
       "      <td>[-0.8704649806022644, 0.00303339259698987, -0....</td>\n",
       "    </tr>\n",
       "    <tr>\n",
       "      <th>4</th>\n",
       "      <td>4</td>\n",
       "      <td>8/6/CC/109/2019</td>\n",
       "      <td>2019-04-18</td>\n",
       "      <td>INSURANCE</td>\n",
       "      <td>DISTRICT CONSUMER DISPUTES REDRESSAL COMMISSIO...</td>\n",
       "      <td>0</td>\n",
       "      <td>7</td>\n",
       "      <td>district consumer dispute redressal commission...</td>\n",
       "      <td>&lt;generator object vectorize at 0x7a7eed1397e0&gt;</td>\n",
       "      <td>[-0.6292241215705872, -0.12517572939395905, 0....</td>\n",
       "    </tr>\n",
       "  </tbody>\n",
       "</table>\n",
       "</div>"
      ],
      "text/plain": [
       "   Unnamed: 0 file_application_number case_filing_date  \\\n",
       "0           0         8/6/CC/101/2019       2019-04-12   \n",
       "1           1         8/6/CC/102/2017       2017-03-21   \n",
       "2           2         8/6/CC/106/2018       2018-04-04   \n",
       "3           3         8/6/CC/107/2018       2018-04-06   \n",
       "4           4         8/6/CC/109/2019       2019-04-18   \n",
       "\n",
       "                    case_category_name_en  \\\n",
       "0                             AUTOMOBILES   \n",
       "1                        HOUSE HOLD GOODS   \n",
       "2                                 TELECOM   \n",
       "3  INDUSTRIAL/COMMERCIAL GOODS & SERVICES   \n",
       "4                               INSURANCE   \n",
       "\n",
       "                                           judgement  judgement_result  \\\n",
       "0  DISTRICT CONSUMER DISPUTES REDRESSAL COMMISSIO...                 0   \n",
       "1  DISTRICT CONSUMER DISPUTES REDRESSAL COMMISSIO...                 0   \n",
       "2  DISTRICT CONSUMER DISPUTES REDRESSAL COMMISSIO...                 0   \n",
       "3  DISTRICT CONSUMER DISPUTES REDRESSAL COMMISSIO...                 0   \n",
       "4  DISTRICT CONSUMER DISPUTES REDRESSAL COMMISSIO...                 0   \n",
       "\n",
       "   case_stage_id                             preprocessed_judgement  \\\n",
       "0              7  district consumer dispute redressal commission...   \n",
       "1              7  district consumer dispute redressal commission...   \n",
       "2              7  district consumer dispute redressal commission...   \n",
       "3              7  district consumer dispute redressal commission...   \n",
       "4              7  district consumer dispute redressal commission...   \n",
       "\n",
       "                                           vector  \\\n",
       "0  <generator object vectorize at 0x7a7eed1395b0>   \n",
       "1  <generator object vectorize at 0x7a7eed139700>   \n",
       "2  <generator object vectorize at 0x7a7eed139850>   \n",
       "3  <generator object vectorize at 0x7a7eed139770>   \n",
       "4  <generator object vectorize at 0x7a7eed1397e0>   \n",
       "\n",
       "                                            features  \n",
       "0  [-0.9598655700683594, -0.018118225038051605, -...  \n",
       "1  [-0.8949001431465149, -0.09343592822551727, -0...  \n",
       "2  [-0.8968667984008789, -0.2350875437259674, 0.0...  \n",
       "3  [-0.8704649806022644, 0.00303339259698987, -0....  \n",
       "4  [-0.6292241215705872, -0.12517572939395905, 0....  "
      ]
     },
     "execution_count": 3,
     "metadata": {},
     "output_type": "execute_result"
    }
   ],
   "source": [
    "df.head()"
   ]
  },
  {
   "cell_type": "markdown",
   "id": "ea202c8e",
   "metadata": {},
   "source": [
    "### 2.2. Loading a prebuilt Data Preprocessing pipeline using Spacy"
   ]
  },
  {
   "cell_type": "code",
   "execution_count": 35,
   "id": "41c93432",
   "metadata": {},
   "outputs": [],
   "source": [
    "import spacy\n",
    "nlp=spacy.load('en_core_web_sm')"
   ]
  },
  {
   "cell_type": "code",
   "execution_count": 36,
   "id": "5bc7c8c6",
   "metadata": {},
   "outputs": [
    {
     "name": "stdout",
     "output_type": "stream",
     "text": [
      "['tok2vec', 'tagger', 'parser', 'attribute_ruler', 'lemmatizer', 'ner']\n"
     ]
    }
   ],
   "source": [
    "print(nlp.pipe_names)"
   ]
  },
  {
   "cell_type": "code",
   "execution_count": 17,
   "id": "55c6f998",
   "metadata": {},
   "outputs": [
    {
     "data": {
      "text/plain": [
       "judgement_result\n",
       "1    129\n",
       "0     64\n",
       "2      1\n",
       "Name: count, dtype: int64"
      ]
     },
     "execution_count": 17,
     "metadata": {},
     "output_type": "execute_result"
    }
   ],
   "source": [
    "df['judgement_result'].value_counts()\n",
    "# 1 - Successful\n",
    "# 2 - Unsuccessful\n",
    "# 3 - Other"
   ]
  },
  {
   "cell_type": "markdown",
   "id": "95547960",
   "metadata": {},
   "source": [
    "### 2.3. Performing data preprocessing on text:-"
   ]
  },
  {
   "cell_type": "code",
   "execution_count": 18,
   "id": "bcd08b87",
   "metadata": {},
   "outputs": [],
   "source": [
    "# Removing the instances where judgement_result has label 2\n",
    "df=df[df['judgement_result']!=2]"
   ]
  },
  {
   "cell_type": "code",
   "execution_count": 19,
   "id": "6adf4df4",
   "metadata": {},
   "outputs": [
    {
     "data": {
      "text/plain": [
       "judgement_result\n",
       "1    129\n",
       "0     64\n",
       "Name: count, dtype: int64"
      ]
     },
     "execution_count": 19,
     "metadata": {},
     "output_type": "execute_result"
    }
   ],
   "source": [
    "df['judgement_result'].value_counts()"
   ]
  },
  {
   "cell_type": "code",
   "execution_count": 99,
   "id": "977e4d96",
   "metadata": {},
   "outputs": [
    {
     "data": {
      "image/png": "[encoded data removed]",
      "text/plain": [
       "<Figure size 640x480 with 1 Axes>"
      ]
     },
     "metadata": {},
     "output_type": "display_data"
    }
   ],
   "source": [
    "# Create the bar plot\n",
    "results = df['judgement_result'].value_counts()\n",
    "bars = plt.bar(('Successful','Unsuccessful'), results.values, color='#4CAF50')\n",
    "\n",
    "for bar, value in zip(bars, results.values):\n",
    "  height = bar.get_height()\n",
    "  plt.text(bar.get_x() + bar.get_width() / 2, height + 0.1, f\"{value}\", ha='center', va='bottom')\n",
    "\n",
    "plt.xlabel(\"Result\")\n",
    "plt.ylabel(\"No. of cases\")\n",
    "plt.title(\"Cases for each label\")\n",
    "plt.show()"
   ]
  },
  {
   "cell_type": "markdown",
   "id": "0aad5229",
   "metadata": {},
   "source": [
    "Conclusion:- We need to handle the data imbalance"
   ]
  },
  {
   "cell_type": "code",
   "execution_count": 10,
   "id": "b77da10c",
   "metadata": {},
   "outputs": [],
   "source": [
    "import re\n",
    "from sklearn.preprocessing import LabelEncoder\n",
    "from sklearn.model_selection import train_test_split\n",
    "from sklearn.metrics import classification_report"
   ]
  },
  {
   "cell_type": "markdown",
   "id": "00c3ab77",
   "metadata": {},
   "source": [
    "#### Converting String values to Numerical values of 'case_category_name_en' column"
   ]
  },
  {
   "cell_type": "code",
   "execution_count": 11,
   "id": "8f1bd244",
   "metadata": {},
   "outputs": [
    {
     "data": {
      "image/png": "[encoded data removed]",
      "text/plain": [
       "<Figure size 640x480 with 1 Axes>"
      ]
     },
     "metadata": {},
     "output_type": "display_data"
    }
   ],
   "source": [
    "# Create the bar plot\n",
    "results = df['case_category_name_en'].value_counts()\n",
    "bars = plt.barh(results.index, results.values, color='#4CAF50')\n",
    "\n",
    "# Get bar positions and lengths\n",
    "bar_y = [bar.get_y() + bar.get_height() / 2 for bar in bars]  # Center y position\n",
    "bar_width = [bar.get_width() for bar in bars]  # Get bar width\n",
    "\n",
    "# Add text after each bar (assuming right alignment)\n",
    "for bar_y_pos, value, bar_width_val in zip(bar_y, results.values, bar_width):\n",
    "  plt.text(bar_width_val + 1.5, bar_y_pos, f\"{value}\", ha='right', va='center')  # Adjust offset as needed\n",
    "\n",
    "plt.xlabel(\"No of Cases\")\n",
    "plt.ylabel(\"Category of Case\")\n",
    "plt.title(\"Cases for each label\")\n",
    "plt.show()"
   ]
  },
  {
   "cell_type": "code",
   "execution_count": 12,
   "id": "40ce8380",
   "metadata": {},
   "outputs": [],
   "source": [
    "df['case_category']=LabelEncoder().fit(list(df['case_category_name_en'])).transform(df['case_category_name_en'])\n"
   ]
  },
  {
   "cell_type": "code",
   "execution_count": 13,
   "id": "75260944",
   "metadata": {},
   "outputs": [
    {
     "data": {
      "text/plain": [
       "case_category\n",
       "19    36\n",
       "12    33\n",
       "2     24\n",
       "18    15\n",
       "4     10\n",
       "20    10\n",
       "8      9\n",
       "1      8\n",
       "9      8\n",
       "17     5\n",
       "5      5\n",
       "10     5\n",
       "15     4\n",
       "13     4\n",
       "16     4\n",
       "0      3\n",
       "6      3\n",
       "7      2\n",
       "14     2\n",
       "11     2\n",
       "3      1\n",
       "Name: count, dtype: int64"
      ]
     },
     "execution_count": 13,
     "metadata": {},
     "output_type": "execute_result"
    }
   ],
   "source": [
    "df['case_category'].value_counts()"
   ]
  },
  {
   "cell_type": "code",
   "execution_count": 14,
   "id": "17493e93",
   "metadata": {},
   "outputs": [
    {
     "name": "stdout",
     "output_type": "stream",
     "text": [
      "DISTRICT CONSUMER DISPUTES REDRESSAL COMMISSION-II UDYOG SADAN C 22 23\n",
      "QUTUB INSTITUTIONNAL AREA BEHIND QUTUB HOTEL NEW DELHI 110016\n",
      "Complaint Case No. CC/102/2017\n",
      "( Date of Filing : 21 Mar 2017 )\n",
      "1. VIJAY KUMAR CHAUHAN\n",
      "K-003 STELLAR JEEVAN, GREATER NOIDA W UTTAR PRADESH 201306\n",
      "...........Complainant(s)\n",
      "Versus\n",
      "1. STELLAR CONSTELLATION PROJECT PVT LTD\n",
      "B-29 SHEIKH SARAI, PHASE-I NEW DELHI 110017\n",
      "............Opp.Party(s)\n",
      "BEFORE:\n",
      "MONIKA A. SRIVASTAVA PRESIDENT\n",
      "KIRAN KAUSHAL MEMBER\n",
      "UMESH KUMAR TYAGI MEMBER\n",
      "PRESENT:\n",
      "Dated : 27 Dec 2022\n",
      "Final Order / Judgement\n",
      "DISTRICT CONSUMER DISPUTES REDRESSAL COMMISSION-II\n",
      "Udyog Sadan, C-22 & 23, Qutub Institutional Area\n",
      "(Behind Qutub Hotel), New Delhi- 110016\n",
      "Case No. 102/17\n",
      "Cause Title/Judgement-Entry\n",
      "https://cms.nic.in/ncdrcusersWeb/search.do?method=loadSearchPub\n",
      "1 of 6\n",
      "08-05-2024, 14:14\n",
      "Vijay Kumar Chauhan\n",
      "S/o Late S.L Chauhan\n",
      "K-003, Stellar Jeevan,\n",
      "Greater Noida (W)\n",
      "UP-201306\n",
      "….Complainant\n",
      "Versus\n",
      "Stellar Constellation Project Pvt. Ltd.\n",
      "B-29, Sheikh Sarai, Phase-I\n",
      "New Delhi-110017\n",
      "       ….Opposite Party\n",
      " Date of Institution    :    21.03.2017   \n",
      " Date of Order            :    27.12.2022  \n",
      "Coram:\n",
      "Ms. Monika A Srivastava, President\n",
      "Cause Title/Judgement-Entry\n",
      "https://cms.nic.in/ncdrcusersWeb/search.do?method=loadSearchPub\n",
      "2 of 6\n",
      "08-05-2024, 14:14\n",
      "Ms. Kiran Kaushal, Member\n",
      "Sh. U.K. Tyagi, Member\n",
      "ORDER\n",
      "Member: Ms. Kiran Kaushal\n",
      "1.      Succinctly put, complainant and his wife booked a flat, K-003, Stellar Jeevan, , Sector-1, Greater Noida (W) in the year,\n",
      "2010 with Stellar Constellation Project Pvt Ltd. ( OP).\n",
      "2.      Complainant’s grievance is that at the time of handing over the possession of the flat to the Complainant, portion of the\n",
      "boundary wall adjacent to the flat and car parking, had not been constructed by OP. OP promised that the needful will be done\n",
      "within a month, which did not happen. Complainant is aggrieved due to non construction of the local boundary wall as the area\n",
      "near his flat has become a thoroughfare for all intruders/non-resident of the area, stray animals, dogs etc. It has become dumping\n",
      "place of various garbage and other unwanted material for the resident of the block as well as passerby,  resultantly  foul smell\n",
      "emanates in the areas near the flat of the complainant. It is  stated that complainant’s elder son got sick  due to infection generated\n",
      "by  the accumulated garbage near the flat  of the complainant.\n",
      "3.      Thus aggrieved, complainant approached this commission with prayer to direct OP to construct the unconstructed wall of\n",
      "parking area and road and roof of the basement within a month. It is also prayed that OP be directed to pay compensation of Rs.\n",
      "4,00,000/- to the complainant for mental agony , harassment and Rs.10,000/- towards cost of litigation.\n",
      "Cause Title/Judgement-Entry\n",
      "https://cms.nic.in/ncdrcusersWeb/search.do?method=loadSearchPub\n",
      "3 of 6\n",
      "08-05-2024, 14:14\n",
      "4.      Rejoinder to the written statement of OP is filed. Evidence and written arguments are filed on behalf of parties. Material\n",
      "placed on record is perused. Submissions made by the parties are heard.\n",
      " 5.     Before we go into the merits of the cases, we think it appropriate to decide the preliminary objection of OP regarding the\n",
      "‘Territorial Jurisdiction’ pointed at the time of final arguments and also finds mention in the written arguments of the OP. OP has\n",
      "raised an objection stating that this Commission does not have the territorial jurisdiction to entertain the instant complaint.\n",
      "6.      The Hon’ble State Commission in First Appeal No.458/2017 titled as Star Health and Allied  Insurance Co. Ltd. Vs. Ravi\n",
      "Bansal & Ors, decided on 21.12.2017 has held that-\n",
      "“…it can safely be said that for the purpose of consumer complaints, relating to normal contracts for service and/or       \n",
      "goods, cause of action arises inter-alia at any of the places, where; (a) the contract is made; and/or (b)  where acceptance\n",
      "of the contract is communicated and/or (c) where the contract is performed or is to be performed and/or (d) where money\n",
      "under the contract is either payable or paid and/or (e) where repudiation of the contract is received if any.”\n",
      "7.      Hon’ble State Commission in Sarvesh Kumar Singh vs Kailash Healthcare Hospital 2019 (3) CPR 627 referred to Bhaiya\n",
      "Ram Sahoo vs Vipin Jain in FA12/183 decided on 1810.2012 wherein it is held that;\n",
      "“location of registered office is not sufficient to confer jurisdiction on district forum. Cause of action must also accrue\n",
      "to determine the territorial jurisdiction.”\n",
      "8.     Upholding the judgment Supra Hon’ble NCDRC  in the judgment dated 01.07.2019 further clarified & held that:\n",
      "          “The word “or” contained in sub-section 2(a) and in sub-section 2(b) of section 17 could albeit be interpreted to\n",
      "mean that the complaint can be in instituted either where the opposite party no.1 head office is located i.e Delhi or where\n",
      "the opposite party no.2 hospital is located i.e Noida, U.P. or where the cause of action arose i.e Noida, U.P.\n",
      "          However, an absurd interpretation, drawn mechanically, without application of mind, without reason and logic, can\n",
      "Cause Title/Judgement-Entry\n",
      "https://cms.nic.in/ncdrcusersWeb/search.do?method=loadSearchPub\n",
      "4 of 6\n",
      "08-05-2024, 14:14\n",
      "not be made.\n",
      "                                        *****\n",
      "To readily see the consequences of such absurd interpretation, if a chain of several hospitals is located from say Kashmir to\n",
      "Kanyakumari, and the incident of alleged medical negligence takes place in a hospital located at say Kanyakumri, and\n",
      "accordingly the cause of action also arose at Kanyakumari, and another hospital of the same chain is located at Kashmir,\n",
      "and a number of other hospitals of the same chain and its head office and branch offices are situated in a number of\n",
      "locations across the country, a  complaint can be made in the Sate Commission having territorial jurisdiction over any of\n",
      "the said ‘n’  number of location from Kashmir to Kanyakumari, with total disregard to where the cause of action arose.\n",
      "Such absurd interpretation would lead to an absurd situation, with added malefics of both harassment and bench-hunting.”\n",
      "9.     The question of territorial jurisdiction is settled by Apex Court in the case of Sonic Surgical Vs. National Insurance\n",
      "Company Ltd (IV) 2009 CPJ 40. In the said judgment it was held that amended section 17 (2) (b) of the Consumer Protection Act\n",
      "has to be interpreted in such a way which does not lead to absurd consequences and bench hunting. It was observed that the\n",
      "expression ‘branch office’ in the amended section 17 (2) would mean the branch office where the cause of action arises.\n",
      " 9.     On perusal of the material placed before us, it is noticed that the Corporate office of the OP is in Greater Noida.\n",
      "Complainant is residing in the project at Greater Noida, UP. All agreements, sub-lease and possession letter etc was made at\n",
      "Greater Noida. No cause of action has taken place in the territorial jurisdiction of this commission.\n",
      "10.    In view of the discussion above we find that the complaint is not maintainable as it lacks the territorial jurisdiction of this\n",
      "Commission. Complaint be accordingly returned to the complainant to be presented before the appropriate Forum having\n",
      "jurisdiction within 4 weeks of receipt of certified copy of this order.\n",
      "          File be consigned to the record room after retaining one copy of the complaint and returning the file to the complainant.\n",
      "Cause Title/Judgement-Entry\n",
      "https://cms.nic.in/ncdrcusersWeb/search.do?method=loadSearchPub\n",
      "5 of 6\n",
      "08-05-2024, 14:14\n",
      "[ MONIKA A. SRIVASTAVA]\n",
      "PRESIDENT\n",
      "[ KIRAN KAUSHAL]\n",
      "MEMBER\n",
      "[ UMESH KUMAR TYAGI]\n",
      "MEMBER\n",
      "Cause Title/Judgement-Entry\n",
      "https://cms.nic.in/ncdrcusersWeb/search.do?method=loadSearchPub\n",
      "6 of 6\n",
      "08-05-2024, 14:14\n",
      "\n"
     ]
    }
   ],
   "source": [
    "print(re.sub(re.compile('<.*?>'), '', df['judgement'][1]))"
   ]
  },
  {
   "cell_type": "markdown",
   "id": "6d314a4f",
   "metadata": {},
   "source": [
    "#### Creating a preprocesssing class to perform preprocessing on judgement text"
   ]
  },
  {
   "cell_type": "code",
   "execution_count": 15,
   "id": "f6b1cbc0",
   "metadata": {},
   "outputs": [],
   "source": [
    "def preprocess(text):\n",
    "    text=re.sub(re.compile('<.*?>'), '', text)\n",
    "    text=text.lower()\n",
    "    doc = nlp(text)\n",
    "    filtered_tokens = []\n",
    "    for token in doc:\n",
    "        if token.is_stop or token.is_punct:\n",
    "            continue\n",
    "        filtered_tokens.append(token.lemma_)\n",
    "    return ' '.join(filtered_tokens)"
   ]
  },
  {
   "cell_type": "code",
   "execution_count": 16,
   "id": "b3540d79",
   "metadata": {},
   "outputs": [],
   "source": [
    "df['preprocessed_judgements']=df['judgement'].apply(lambda judgement: preprocess(judgement))"
   ]
  },
  {
   "cell_type": "code",
   "execution_count": 17,
   "id": "26750088",
   "metadata": {},
   "outputs": [
    {
     "data": {
      "text/plain": [
       "64     district consumer dispute redressal commission...\n",
       "65     consumer dispute redressal forum -ii udyog sad...\n",
       "66     district consumer dispute redressal commission...\n",
       "67     district consumer dispute redressal commission...\n",
       "68     district consumer dispute redressal commission...\n",
       "                             ...                        \n",
       "188    district consumer dispute redressal commission...\n",
       "189    consumer dispute redressal forum -ii udyog sad...\n",
       "190    district consumer dispute redressal commission...\n",
       "191    district consumer dispute redressal commission...\n",
       "192    district consumer dispute redressal commission...\n",
       "Name: preprocessed_judgements, Length: 129, dtype: object"
      ]
     },
     "execution_count": 17,
     "metadata": {},
     "output_type": "execute_result"
    }
   ],
   "source": [
    "a=df[df['judgement_result']==1]\n",
    "a['preprocessed_judgements']"
   ]
  },
  {
   "cell_type": "code",
   "execution_count": 108,
   "id": "2d1f7220",
   "metadata": {},
   "outputs": [
    {
     "name": "stdout",
     "output_type": "stream",
     "text": [
      "8/6/CC/103/2016\n"
     ]
    }
   ],
   "source": [
    "print(df['file_application_number'][65])"
   ]
  },
  {
   "cell_type": "markdown",
   "id": "65fb6120",
   "metadata": {},
   "source": [
    "## 3. Feature Engineering:- "
   ]
  },
  {
   "cell_type": "markdown",
   "id": "7dde1b1e",
   "metadata": {},
   "source": [
    "### Tokenization:- "
   ]
  },
  {
   "cell_type": "markdown",
   "id": "bde05159",
   "metadata": {},
   "source": [
    "#### Using NLTK library to create single tokens from the preprocessed text"
   ]
  },
  {
   "cell_type": "code",
   "execution_count": 19,
   "id": "35a00ceb",
   "metadata": {},
   "outputs": [],
   "source": [
    "from nltk.tokenize import word_tokenize\n",
    "df['tokenized judgements']=df['preprocessed_judgements'].apply(lambda judgement: word_tokenize(judgement))"
   ]
  },
  {
   "cell_type": "code",
   "execution_count": 20,
   "id": "6916b7af",
   "metadata": {},
   "outputs": [
    {
     "data": {
      "text/plain": [
       "['district',\n",
       " 'consumer',\n",
       " 'dispute',\n",
       " 'redressal',\n",
       " 'commission',\n",
       " 'ii',\n",
       " 'udyog',\n",
       " 'sadan',\n",
       " 'c',\n",
       " '22',\n",
       " '23',\n",
       " 'qutub',\n",
       " 'institutionnal',\n",
       " 'area',\n",
       " 'qutub',\n",
       " 'hotel',\n",
       " 'new',\n",
       " 'delhi',\n",
       " '110016',\n",
       " 'complaint',\n",
       " 'case',\n",
       " 'cc/102/2017',\n",
       " 'date',\n",
       " 'filing',\n",
       " '21',\n",
       " 'mar',\n",
       " '2017',\n",
       " '1',\n",
       " 'vijay',\n",
       " 'kumar',\n",
       " 'chauhan',\n",
       " 'k-003',\n",
       " 'stellar',\n",
       " 'jeevan',\n",
       " 'great',\n",
       " 'noida',\n",
       " 'w',\n",
       " 'uttar',\n",
       " 'pradesh',\n",
       " '201306',\n",
       " 'complainant',\n",
       " '(',\n",
       " 's',\n",
       " 'versus',\n",
       " '1',\n",
       " 'stellar',\n",
       " 'constellation',\n",
       " 'project',\n",
       " 'pvt',\n",
       " 'ltd',\n",
       " 'b-29',\n",
       " 'sheikh',\n",
       " 'sarai',\n",
       " 'phase',\n",
       " 'new',\n",
       " 'delhi',\n",
       " '110017',\n",
       " 'opp.party',\n",
       " '(',\n",
       " 's',\n",
       " 'monika',\n",
       " 'a.',\n",
       " 'srivastava',\n",
       " 'president',\n",
       " 'kiran',\n",
       " 'kaushal',\n",
       " 'member',\n",
       " 'umesh',\n",
       " 'kumar',\n",
       " 'tyagi',\n",
       " 'member',\n",
       " 'present',\n",
       " 'date',\n",
       " '27',\n",
       " 'dec',\n",
       " '2022',\n",
       " 'final',\n",
       " 'order',\n",
       " 'judgement',\n",
       " 'district',\n",
       " 'consumer',\n",
       " 'dispute',\n",
       " 'redressal',\n",
       " 'commission',\n",
       " 'ii',\n",
       " 'udyog',\n",
       " 'sadan',\n",
       " 'c-22',\n",
       " '23',\n",
       " 'qutub',\n",
       " 'institutional',\n",
       " 'area',\n",
       " 'qutub',\n",
       " 'hotel',\n",
       " 'new',\n",
       " 'delhi-',\n",
       " '110016',\n",
       " 'case',\n",
       " '102/17',\n",
       " 'cause',\n",
       " 'title',\n",
       " 'judgement',\n",
       " 'entry',\n",
       " 'https',\n",
       " ':',\n",
       " '//cms.nic.in/ncdrcusersweb/search.do',\n",
       " '?',\n",
       " 'method=loadsearchpub',\n",
       " '1',\n",
       " '6',\n",
       " '08',\n",
       " '05',\n",
       " '2024',\n",
       " '14:14',\n",
       " 'vijay',\n",
       " 'kumar',\n",
       " 'chauhan',\n",
       " 's',\n",
       " 'o',\n",
       " 'late',\n",
       " 's.l',\n",
       " 'chauhan',\n",
       " 'k-003',\n",
       " 'stellar',\n",
       " 'jeevan',\n",
       " 'great',\n",
       " 'noida',\n",
       " 'w',\n",
       " 'up-201306',\n",
       " '.complainant',\n",
       " 'versus',\n",
       " 'stellar',\n",
       " 'constellation',\n",
       " 'project',\n",
       " 'pvt',\n",
       " 'ltd',\n",
       " 'b-29',\n",
       " 'sheikh',\n",
       " 'sarai',\n",
       " 'phase',\n",
       " 'new',\n",
       " 'delhi-110017',\n",
       " '.opposite',\n",
       " 'party',\n",
       " 'date',\n",
       " 'institution',\n",
       " '21.03.2017',\n",
       " 'date',\n",
       " 'order',\n",
       " '27.12.2022',\n",
       " 'coram',\n",
       " 'ms',\n",
       " 'monika',\n",
       " 'srivastava',\n",
       " 'president',\n",
       " 'cause',\n",
       " 'title',\n",
       " 'judgement',\n",
       " 'entry',\n",
       " 'https',\n",
       " ':',\n",
       " '//cms.nic.in/ncdrcusersweb/search.do',\n",
       " '?',\n",
       " 'method=loadsearchpub',\n",
       " '2',\n",
       " '6',\n",
       " '08',\n",
       " '05',\n",
       " '2024',\n",
       " '14:14',\n",
       " 'ms',\n",
       " 'kiran',\n",
       " 'kaushal',\n",
       " 'member',\n",
       " 'sh',\n",
       " 'u.k',\n",
       " 'tyagi',\n",
       " 'member',\n",
       " 'order',\n",
       " 'member',\n",
       " 'ms',\n",
       " 'kiran',\n",
       " 'kaushal',\n",
       " '1',\n",
       " 'succinctly',\n",
       " 'complainant',\n",
       " 'wife',\n",
       " 'book',\n",
       " 'flat',\n",
       " 'k-003',\n",
       " 'stellar',\n",
       " 'jeevan',\n",
       " 'sector-1',\n",
       " 'great',\n",
       " 'noida',\n",
       " 'w',\n",
       " 'year',\n",
       " '2010',\n",
       " 'stellar',\n",
       " 'constellation',\n",
       " 'project',\n",
       " 'pvt',\n",
       " 'ltd',\n",
       " 'op',\n",
       " '2',\n",
       " 'complainant',\n",
       " 'grievance',\n",
       " 'time',\n",
       " 'handing',\n",
       " 'possession',\n",
       " 'flat',\n",
       " 'complainant',\n",
       " 'portion',\n",
       " 'boundary',\n",
       " 'wall',\n",
       " 'adjacent',\n",
       " 'flat',\n",
       " 'car',\n",
       " 'parking',\n",
       " 'construct',\n",
       " 'op',\n",
       " 'op',\n",
       " 'promise',\n",
       " 'needful',\n",
       " 'month',\n",
       " 'happen',\n",
       " 'complainant',\n",
       " 'aggrieve',\n",
       " 'non',\n",
       " 'construction',\n",
       " 'local',\n",
       " 'boundary',\n",
       " 'wall',\n",
       " 'area',\n",
       " 'near',\n",
       " 'flat',\n",
       " 'thoroughfare',\n",
       " 'intruder',\n",
       " 'non',\n",
       " 'resident',\n",
       " 'area',\n",
       " 'stray',\n",
       " 'animal',\n",
       " 'dog',\n",
       " 'etc',\n",
       " 'dump',\n",
       " 'place',\n",
       " 'garbage',\n",
       " 'unwanted',\n",
       " 'material',\n",
       " 'resident',\n",
       " 'block',\n",
       " 'passerby',\n",
       " 'resultantly',\n",
       " 'foul',\n",
       " 'smell',\n",
       " 'emanate',\n",
       " 'area',\n",
       " 'near',\n",
       " 'flat',\n",
       " 'complainant',\n",
       " 'state',\n",
       " 'complainant',\n",
       " 'eld',\n",
       " 'son',\n",
       " 'get',\n",
       " 'sick',\n",
       " 'infection',\n",
       " 'generate',\n",
       " 'accumulate',\n",
       " 'garbage',\n",
       " 'near',\n",
       " 'flat',\n",
       " 'complainant',\n",
       " '3',\n",
       " 'aggrieve',\n",
       " 'complainant',\n",
       " 'approach',\n",
       " 'commission',\n",
       " 'prayer',\n",
       " 'direct',\n",
       " 'op',\n",
       " 'construct',\n",
       " 'unconstructed',\n",
       " 'wall',\n",
       " 'parking',\n",
       " 'area',\n",
       " 'road',\n",
       " 'roof',\n",
       " 'basement',\n",
       " 'month',\n",
       " 'pray',\n",
       " 'op',\n",
       " 'direct',\n",
       " 'pay',\n",
       " 'compensation',\n",
       " 'rs',\n",
       " '4,00,000/-',\n",
       " 'complainant',\n",
       " 'mental',\n",
       " 'agony',\n",
       " 'harassment',\n",
       " 'rs.10,000/-',\n",
       " 'cost',\n",
       " 'litigation',\n",
       " 'cause',\n",
       " 'title',\n",
       " 'judgement',\n",
       " 'entry',\n",
       " 'https',\n",
       " ':',\n",
       " '//cms.nic.in/ncdrcusersweb/search.do',\n",
       " '?',\n",
       " 'method=loadsearchpub',\n",
       " '3',\n",
       " '6',\n",
       " '08',\n",
       " '05',\n",
       " '2024',\n",
       " '14:14',\n",
       " '4',\n",
       " 'rejoinder',\n",
       " 'write',\n",
       " 'statement',\n",
       " 'op',\n",
       " 'file',\n",
       " 'evidence',\n",
       " 'write',\n",
       " 'argument',\n",
       " 'file',\n",
       " 'behalf',\n",
       " 'party',\n",
       " 'material',\n",
       " 'place',\n",
       " 'record',\n",
       " 'peruse',\n",
       " 'submission',\n",
       " 'party',\n",
       " 'hear',\n",
       " '5',\n",
       " 'merit',\n",
       " 'case',\n",
       " 'think',\n",
       " 'appropriate',\n",
       " 'decide',\n",
       " 'preliminary',\n",
       " 'objection',\n",
       " 'op',\n",
       " 'territorial',\n",
       " 'jurisdiction',\n",
       " 'point',\n",
       " 'time',\n",
       " 'final',\n",
       " 'argument',\n",
       " 'find',\n",
       " 'mention',\n",
       " 'write',\n",
       " 'argument',\n",
       " 'op',\n",
       " 'op',\n",
       " 'raise',\n",
       " 'objection',\n",
       " 'state',\n",
       " 'commission',\n",
       " 'territorial',\n",
       " 'jurisdiction',\n",
       " 'entertain',\n",
       " 'instant',\n",
       " 'complaint',\n",
       " '6',\n",
       " 'hon',\n",
       " '’',\n",
       " 'ble',\n",
       " 'state',\n",
       " 'commission',\n",
       " 'appeal',\n",
       " 'no.458/2017',\n",
       " 'title',\n",
       " 'star',\n",
       " 'health',\n",
       " 'ally',\n",
       " 'insurance',\n",
       " 'co.',\n",
       " 'ltd',\n",
       " 'vs.',\n",
       " 'ravi',\n",
       " 'bansal',\n",
       " 'or',\n",
       " 'decide',\n",
       " '21.12.2017',\n",
       " 'hold',\n",
       " 'that-',\n",
       " 'safely',\n",
       " 'say',\n",
       " 'purpose',\n",
       " 'consumer',\n",
       " 'complaint',\n",
       " 'relate',\n",
       " 'normal',\n",
       " 'contract',\n",
       " 'service',\n",
       " 'and/or',\n",
       " 'good',\n",
       " 'cause',\n",
       " 'action',\n",
       " 'arise',\n",
       " 'inter',\n",
       " 'alia',\n",
       " 'place',\n",
       " 'contract',\n",
       " 'and/or',\n",
       " 'b',\n",
       " 'acceptance',\n",
       " 'contract',\n",
       " 'communicate',\n",
       " 'and/or',\n",
       " 'c',\n",
       " 'contract',\n",
       " 'perform',\n",
       " 'perform',\n",
       " 'and/or',\n",
       " 'd',\n",
       " 'money',\n",
       " 'contract',\n",
       " 'payable',\n",
       " 'pay',\n",
       " 'and/or',\n",
       " 'e',\n",
       " 'repudiation',\n",
       " 'contract',\n",
       " 'receive',\n",
       " '7',\n",
       " 'hon',\n",
       " '’',\n",
       " 'ble',\n",
       " 'state',\n",
       " 'commission',\n",
       " 'sarvesh',\n",
       " 'kumar',\n",
       " 'singh',\n",
       " 'vs',\n",
       " 'kailash',\n",
       " 'healthcare',\n",
       " 'hospital',\n",
       " '2019',\n",
       " '3',\n",
       " 'cpr',\n",
       " '627',\n",
       " 'refer',\n",
       " 'bhaiya',\n",
       " 'ram',\n",
       " 'sahoo',\n",
       " 'vs',\n",
       " 'vipin',\n",
       " 'jain',\n",
       " 'fa12/183',\n",
       " 'decide',\n",
       " '1810.2012',\n",
       " 'hold',\n",
       " 'location',\n",
       " 'register',\n",
       " 'office',\n",
       " 'sufficient',\n",
       " 'confer',\n",
       " 'jurisdiction',\n",
       " 'district',\n",
       " 'forum',\n",
       " 'cause',\n",
       " 'action',\n",
       " 'accrue',\n",
       " 'determine',\n",
       " 'territorial',\n",
       " 'jurisdiction',\n",
       " '8',\n",
       " 'uphold',\n",
       " 'judgment',\n",
       " 'supra',\n",
       " 'hon',\n",
       " '’',\n",
       " 'ble',\n",
       " 'ncdrc',\n",
       " 'judgment',\n",
       " 'date',\n",
       " '01.07.2019',\n",
       " 'clarify',\n",
       " 'hold',\n",
       " 'word',\n",
       " 'contain',\n",
       " 'sub',\n",
       " 'section',\n",
       " '2',\n",
       " '(',\n",
       " 'a',\n",
       " 'sub',\n",
       " 'section',\n",
       " '2',\n",
       " '(',\n",
       " 'b',\n",
       " 'section',\n",
       " '17',\n",
       " 'albeit',\n",
       " 'interpret',\n",
       " 'mean',\n",
       " 'complaint',\n",
       " 'institute',\n",
       " 'opposite',\n",
       " 'party',\n",
       " 'no.1',\n",
       " 'head',\n",
       " 'office',\n",
       " 'locate',\n",
       " 'i.e',\n",
       " 'delhi',\n",
       " 'opposite',\n",
       " 'party',\n",
       " 'no.2',\n",
       " 'hospital',\n",
       " 'locate',\n",
       " 'i.e',\n",
       " 'noida',\n",
       " 'u.p',\n",
       " 'cause',\n",
       " 'action',\n",
       " 'arise',\n",
       " 'i.e',\n",
       " 'noida',\n",
       " 'u.p',\n",
       " 'absurd',\n",
       " 'interpretation',\n",
       " 'draw',\n",
       " 'mechanically',\n",
       " 'application',\n",
       " 'mind',\n",
       " 'reason',\n",
       " 'logic',\n",
       " 'cause',\n",
       " 'title',\n",
       " 'judgement',\n",
       " 'entry',\n",
       " 'https',\n",
       " ':',\n",
       " '//cms.nic.in/ncdrcusersweb/search.do',\n",
       " '?',\n",
       " 'method=loadsearchpub',\n",
       " '4',\n",
       " '6',\n",
       " '08',\n",
       " '05',\n",
       " '2024',\n",
       " '14:14',\n",
       " 'readily',\n",
       " 'consequence',\n",
       " 'absurd',\n",
       " 'interpretation',\n",
       " 'chain',\n",
       " 'hospital',\n",
       " 'locate',\n",
       " 'kashmir',\n",
       " 'kanyakumari',\n",
       " 'incident',\n",
       " 'allege',\n",
       " 'medical',\n",
       " 'negligence',\n",
       " 'take',\n",
       " 'place',\n",
       " 'hospital',\n",
       " 'locate',\n",
       " 'kanyakumri',\n",
       " 'accordingly',\n",
       " 'cause',\n",
       " 'action',\n",
       " 'arise',\n",
       " 'kanyakumari',\n",
       " 'hospital',\n",
       " 'chain',\n",
       " 'locate',\n",
       " 'kashmir',\n",
       " 'number',\n",
       " 'hospital',\n",
       " 'chain',\n",
       " 'head',\n",
       " 'office',\n",
       " 'branch',\n",
       " 'office',\n",
       " 'situate',\n",
       " 'number',\n",
       " 'location',\n",
       " 'country',\n",
       " 'complaint',\n",
       " 'sate',\n",
       " 'commission',\n",
       " 'have',\n",
       " 'territorial',\n",
       " 'jurisdiction',\n",
       " 'say',\n",
       " 'n',\n",
       " 'number',\n",
       " 'location',\n",
       " 'kashmir',\n",
       " 'kanyakumari',\n",
       " 'total',\n",
       " 'disregard',\n",
       " 'cause',\n",
       " 'action',\n",
       " 'arise',\n",
       " 'absurd',\n",
       " 'interpretation',\n",
       " 'lead',\n",
       " 'absurd',\n",
       " 'situation',\n",
       " 'add',\n",
       " 'malefic',\n",
       " 'harassment',\n",
       " 'bench',\n",
       " 'hunting',\n",
       " '9',\n",
       " 'question',\n",
       " 'territorial',\n",
       " 'jurisdiction',\n",
       " 'settle',\n",
       " 'apex',\n",
       " 'court',\n",
       " 'case',\n",
       " 'sonic',\n",
       " 'surgical',\n",
       " 'vs.',\n",
       " 'national',\n",
       " 'insurance',\n",
       " 'company',\n",
       " 'ltd',\n",
       " 'iv',\n",
       " '2009',\n",
       " 'cpj',\n",
       " '40',\n",
       " 'say',\n",
       " 'judgment',\n",
       " 'hold',\n",
       " 'amend',\n",
       " 'section',\n",
       " '17',\n",
       " '2',\n",
       " 'b',\n",
       " 'consumer',\n",
       " 'protection',\n",
       " 'act',\n",
       " 'interpret',\n",
       " 'way',\n",
       " 'lead',\n",
       " 'absurd',\n",
       " 'consequence',\n",
       " 'bench',\n",
       " 'hunting',\n",
       " 'observe',\n",
       " 'expression',\n",
       " 'branch',\n",
       " 'office',\n",
       " 'amend',\n",
       " 'section',\n",
       " '17',\n",
       " '2',\n",
       " 'mean',\n",
       " 'branch',\n",
       " 'office',\n",
       " 'cause',\n",
       " 'action',\n",
       " 'arise',\n",
       " '9',\n",
       " 'perusal',\n",
       " 'material',\n",
       " 'place',\n",
       " 'notice',\n",
       " 'corporate',\n",
       " 'office',\n",
       " 'op',\n",
       " 'great',\n",
       " 'noida',\n",
       " 'complainant',\n",
       " 'reside',\n",
       " 'project',\n",
       " 'great',\n",
       " 'noida',\n",
       " 'agreement',\n",
       " 'sub',\n",
       " 'lease',\n",
       " 'possession',\n",
       " 'letter',\n",
       " 'etc',\n",
       " 'great',\n",
       " 'noida',\n",
       " 'cause',\n",
       " 'action',\n",
       " 'take',\n",
       " 'place',\n",
       " 'territorial',\n",
       " 'jurisdiction',\n",
       " 'commission',\n",
       " '10',\n",
       " 'view',\n",
       " 'discussion',\n",
       " 'find',\n",
       " 'complaint',\n",
       " 'maintainable',\n",
       " 'lack',\n",
       " 'territorial',\n",
       " 'jurisdiction',\n",
       " 'commission',\n",
       " 'complaint',\n",
       " 'accordingly',\n",
       " 'return',\n",
       " 'complainant',\n",
       " 'present',\n",
       " 'appropriate',\n",
       " 'forum',\n",
       " 'have',\n",
       " 'jurisdiction',\n",
       " '4',\n",
       " 'week',\n",
       " 'receipt',\n",
       " 'certify',\n",
       " 'copy',\n",
       " 'order',\n",
       " 'file',\n",
       " 'consign',\n",
       " 'record',\n",
       " 'room',\n",
       " 'retain',\n",
       " 'copy',\n",
       " 'complaint',\n",
       " 'return',\n",
       " 'file',\n",
       " 'complainant',\n",
       " 'cause',\n",
       " 'title',\n",
       " 'judgement',\n",
       " 'entry',\n",
       " 'https',\n",
       " ':',\n",
       " '//cms.nic.in/ncdrcusersweb/search.do',\n",
       " '?',\n",
       " 'method=loadsearchpub',\n",
       " '5',\n",
       " '6',\n",
       " '08',\n",
       " '05',\n",
       " '2024',\n",
       " '14:14',\n",
       " 'monika',\n",
       " 'a.',\n",
       " 'srivastava',\n",
       " 'president',\n",
       " 'kiran',\n",
       " 'kaushal',\n",
       " 'member',\n",
       " 'umesh',\n",
       " 'kumar',\n",
       " 'tyagi',\n",
       " 'member',\n",
       " 'cause',\n",
       " 'title',\n",
       " 'judgement',\n",
       " 'entry',\n",
       " 'https',\n",
       " ':',\n",
       " '//cms.nic.in/ncdrcusersweb/search.do',\n",
       " '?',\n",
       " 'method=loadsearchpub',\n",
       " '6',\n",
       " '6',\n",
       " '08',\n",
       " '05',\n",
       " '2024',\n",
       " '14:14']"
      ]
     },
     "execution_count": 20,
     "metadata": {},
     "output_type": "execute_result"
    }
   ],
   "source": [
    "df['tokenized judgements'][1]"
   ]
  },
  {
   "cell_type": "markdown",
   "id": "3279e046",
   "metadata": {},
   "source": [
    "### Vectorization:-"
   ]
  },
  {
   "cell_type": "markdown",
   "id": "2afa0a1d",
   "metadata": {},
   "source": [
    "#### Using the Inbult method for Vectorization in spacy pipeline"
   ]
  },
  {
   "cell_type": "code",
   "execution_count": 21,
   "id": "22fba74d",
   "metadata": {},
   "outputs": [],
   "source": [
    "df['vector'] = df['preprocessed_judgements'].apply(lambda text: nlp(text).vector) "
   ]
  },
  {
   "cell_type": "code",
   "execution_count": 22,
   "id": "4bd1c062",
   "metadata": {},
   "outputs": [
    {
     "data": {
      "text/plain": [
       "array([-0.08922207, -0.54116255, -0.10237668, -0.06975121,  0.06325828,\n",
       "       -0.137141  ,  0.16052577,  0.9759455 ,  0.17627357, -0.10154496,\n",
       "       -0.19363482,  0.6151751 , -0.46030277, -0.32929564,  0.01031409,\n",
       "        0.30953002, -0.17334463, -0.02450221, -0.69217396, -0.3652613 ,\n",
       "        0.0469526 ,  0.7290244 , -0.09472074,  0.12092171,  0.11676577,\n",
       "       -0.21497443,  0.3389722 ,  0.5919068 ,  0.30460453, -0.21754356,\n",
       "        0.07977628, -0.14077823, -0.10638784,  0.25460252,  0.30809522,\n",
       "       -0.3699868 ,  0.93928885,  0.14526805, -0.36649936, -0.4207027 ,\n",
       "       -0.44782475,  0.28268576,  0.134093  ,  0.33862618, -0.19026364,\n",
       "        0.02424227, -0.37874994,  0.00250193, -0.5541729 ,  0.16239776,\n",
       "       -0.5249747 ,  0.25897264,  0.13744618, -0.38431537, -0.44902477,\n",
       "       -0.16451935,  0.016852  , -0.1284305 ,  0.10790477, -0.16979897,\n",
       "       -0.49210835,  0.3082294 ,  0.29144385, -0.42463073, -0.33706972,\n",
       "       -0.10152429, -0.19870299,  0.11731137,  0.09301225, -0.02848327,\n",
       "        0.27999842,  0.38432297,  0.38757697, -0.6735361 ,  1.1211423 ,\n",
       "       -0.25797057, -0.26217157, -0.4153603 ,  0.20229527, -0.5705754 ,\n",
       "        0.17923847, -0.26692882, -0.26015243,  0.1426224 ,  0.03083702,\n",
       "       -0.09267758, -0.05778869, -0.17009784, -0.61139625,  0.7358073 ,\n",
       "        0.0147761 ,  0.20095211,  0.72565866,  0.5032819 ,  0.02421436,\n",
       "       -0.1542859 ], dtype=float32)"
      ]
     },
     "execution_count": 22,
     "metadata": {},
     "output_type": "execute_result"
    }
   ],
   "source": [
    "df['vector'][1]"
   ]
  },
  {
   "cell_type": "markdown",
   "id": "30a996a1",
   "metadata": {},
   "source": [
    "#### Vectorization with Tf-idf vectors will be done directly in the ML model Pipeline"
   ]
  },
  {
   "cell_type": "markdown",
   "id": "63443ef4",
   "metadata": {},
   "source": [
    "###  Handling Class Imbalance:- "
   ]
  },
  {
   "cell_type": "code",
   "execution_count": 27,
   "id": "b763ee17",
   "metadata": {},
   "outputs": [],
   "source": [
    "count_class_1,count_class_0=df.judgement_result.value_counts()\n",
    "\n",
    "df_class_1=df[df['judgement_result']==1]\n",
    "df_class_0=df[df['judgement_result']==0]"
   ]
  },
  {
   "cell_type": "markdown",
   "id": "635078fa",
   "metadata": {},
   "source": [
    "#### By Duplicating Values:-  "
   ]
  },
  {
   "cell_type": "code",
   "execution_count": 28,
   "id": "1d90a308",
   "metadata": {},
   "outputs": [
    {
     "name": "stdout",
     "output_type": "stream",
     "text": [
      "Random over-sampling:\n",
      "judgement_result\n",
      "1    129\n",
      "0    129\n",
      "Name: count, dtype: int64\n"
     ]
    }
   ],
   "source": [
    "# Oversample 1-class and concat the DataFrames of both classes\n",
    "df_class_0_over = df_class_0.sample(count_class_1, replace=True)\n",
    "#df_class_0_over = df_class_0.sample(1000, replace=True)\n",
    "#df_class_1_over = df_class_1.sample(1000, replace=True)\n",
    "df_test_over = pd.concat([df_class_1, df_class_0_over], axis=0)\n",
    "\n",
    "print('Random over-sampling:')\n",
    "print(df_test_over.judgement_result.value_counts())"
   ]
  },
  {
   "cell_type": "code",
   "execution_count": 29,
   "id": "352906ad",
   "metadata": {},
   "outputs": [
    {
     "data": {
      "text/html": [
       "<div>\n",
       "<style scoped>\n",
       "    .dataframe tbody tr th:only-of-type {\n",
       "        vertical-align: middle;\n",
       "    }\n",
       "\n",
       "    .dataframe tbody tr th {\n",
       "        vertical-align: top;\n",
       "    }\n",
       "\n",
       "    .dataframe thead th {\n",
       "        text-align: right;\n",
       "    }\n",
       "</style>\n",
       "<table border=\"1\" class=\"dataframe\">\n",
       "  <thead>\n",
       "    <tr style=\"text-align: right;\">\n",
       "      <th></th>\n",
       "      <th>Unnamed: 0</th>\n",
       "      <th>file_application_number</th>\n",
       "      <th>case_filing_date</th>\n",
       "      <th>case_category_name_en</th>\n",
       "      <th>judgement</th>\n",
       "      <th>judgement_result</th>\n",
       "      <th>case_stage_id</th>\n",
       "      <th>features</th>\n",
       "    </tr>\n",
       "  </thead>\n",
       "  <tbody>\n",
       "    <tr>\n",
       "      <th>64</th>\n",
       "      <td>64</td>\n",
       "      <td>8/6/CC/100/2019</td>\n",
       "      <td>2019-04-11</td>\n",
       "      <td>SERVICE DEFICIENCY</td>\n",
       "      <td>DISTRICT CONSUMER DISPUTES REDRESSAL COMMISSIO...</td>\n",
       "      <td>1</td>\n",
       "      <td>7</td>\n",
       "      <td>[-0.7107890844345093, 0.6835563778877258, -0.3...</td>\n",
       "    </tr>\n",
       "    <tr>\n",
       "      <th>65</th>\n",
       "      <td>65</td>\n",
       "      <td>8/6/CC/103/2016</td>\n",
       "      <td>2016-04-06</td>\n",
       "      <td>TELECOM</td>\n",
       "      <td>CONSUMER DISPUTES REDRESSAL FORUM -II UDYOG SA...</td>\n",
       "      <td>1</td>\n",
       "      <td>7</td>\n",
       "      <td>[-0.6374492049217224, 0.6746230721473694, -0.4...</td>\n",
       "    </tr>\n",
       "    <tr>\n",
       "      <th>66</th>\n",
       "      <td>66</td>\n",
       "      <td>8/6/CC/104/2017</td>\n",
       "      <td>2017-03-24</td>\n",
       "      <td>INDUSTRIAL/COMMERCIAL GOODS &amp; SERVICES</td>\n",
       "      <td>DISTRICT CONSUMER DISPUTES REDRESSAL COMMISSIO...</td>\n",
       "      <td>1</td>\n",
       "      <td>7</td>\n",
       "      <td>[-0.6213350892066956, 0.7181457877159119, -0.4...</td>\n",
       "    </tr>\n",
       "    <tr>\n",
       "      <th>67</th>\n",
       "      <td>67</td>\n",
       "      <td>8/6/CC/107/2016</td>\n",
       "      <td>2016-04-12</td>\n",
       "      <td>BANKING</td>\n",
       "      <td>DISTRICT CONSUMER DISPUTES REDRESSAL COMMISSIO...</td>\n",
       "      <td>1</td>\n",
       "      <td>7</td>\n",
       "      <td>[-0.6386164426803589, 0.7238231301307678, -0.2...</td>\n",
       "    </tr>\n",
       "    <tr>\n",
       "      <th>68</th>\n",
       "      <td>68</td>\n",
       "      <td>8/6/CC/110/2019</td>\n",
       "      <td>2019-04-22</td>\n",
       "      <td>INSURANCE</td>\n",
       "      <td>DISTRICT CONSUMER DISPUTES REDRESSAL COMMISSIO...</td>\n",
       "      <td>1</td>\n",
       "      <td>7</td>\n",
       "      <td>[-0.7351880073547363, 0.6206957697868347, -0.4...</td>\n",
       "    </tr>\n",
       "    <tr>\n",
       "      <th>...</th>\n",
       "      <td>...</td>\n",
       "      <td>...</td>\n",
       "      <td>...</td>\n",
       "      <td>...</td>\n",
       "      <td>...</td>\n",
       "      <td>...</td>\n",
       "      <td>...</td>\n",
       "      <td>...</td>\n",
       "    </tr>\n",
       "    <tr>\n",
       "      <th>188</th>\n",
       "      <td>188</td>\n",
       "      <td>8/6/CC/95/2016</td>\n",
       "      <td>2016-03-30</td>\n",
       "      <td>INSURANCE</td>\n",
       "      <td>DISTRICT CONSUMER DISPUTES REDRESSAL COMMISSIO...</td>\n",
       "      <td>1</td>\n",
       "      <td>7</td>\n",
       "      <td>[-0.6133216619491577, 0.6055253148078918, -0.3...</td>\n",
       "    </tr>\n",
       "    <tr>\n",
       "      <th>189</th>\n",
       "      <td>189</td>\n",
       "      <td>8/6/CC/95/2019</td>\n",
       "      <td>2019-04-08</td>\n",
       "      <td>RAILWAYS</td>\n",
       "      <td>CONSUMER DISPUTES REDRESSAL FORUM -II UDYOG SA...</td>\n",
       "      <td>1</td>\n",
       "      <td>7</td>\n",
       "      <td>[-0.6329101324081421, 0.5992135405540466, -0.3...</td>\n",
       "    </tr>\n",
       "    <tr>\n",
       "      <th>190</th>\n",
       "      <td>190</td>\n",
       "      <td>8/6/CC/96/2019</td>\n",
       "      <td>2019-04-09</td>\n",
       "      <td>AUTOMOBILES</td>\n",
       "      <td>DISTRICT CONSUMER DISPUTES REDRESSAL COMMISSIO...</td>\n",
       "      <td>1</td>\n",
       "      <td>7</td>\n",
       "      <td>[-0.7539531588554382, 0.5668675899505615, -0.2...</td>\n",
       "    </tr>\n",
       "    <tr>\n",
       "      <th>191</th>\n",
       "      <td>191</td>\n",
       "      <td>8/6/CC/97/2019</td>\n",
       "      <td>2019-04-09</td>\n",
       "      <td>AUTOMOBILES</td>\n",
       "      <td>DISTRICT CONSUMER DISPUTES REDRESSAL COMMISSIO...</td>\n",
       "      <td>1</td>\n",
       "      <td>7</td>\n",
       "      <td>[-0.6854769587516785, 0.6509148478507996, -0.3...</td>\n",
       "    </tr>\n",
       "    <tr>\n",
       "      <th>192</th>\n",
       "      <td>192</td>\n",
       "      <td>8/6/CC/98/2018</td>\n",
       "      <td>2018-03-28</td>\n",
       "      <td>SERVICE DEFICIENCY</td>\n",
       "      <td>DISTRICT CONSUMER DISPUTES REDRESSAL COMMISSIO...</td>\n",
       "      <td>1</td>\n",
       "      <td>7</td>\n",
       "      <td>[-0.6589256525039673, 0.724272608757019, -0.39...</td>\n",
       "    </tr>\n",
       "  </tbody>\n",
       "</table>\n",
       "<p>129 rows × 8 columns</p>\n",
       "</div>"
      ],
      "text/plain": [
       "     Unnamed: 0 file_application_number case_filing_date  \\\n",
       "64           64         8/6/CC/100/2019       2019-04-11   \n",
       "65           65         8/6/CC/103/2016       2016-04-06   \n",
       "66           66         8/6/CC/104/2017       2017-03-24   \n",
       "67           67         8/6/CC/107/2016       2016-04-12   \n",
       "68           68         8/6/CC/110/2019       2019-04-22   \n",
       "..          ...                     ...              ...   \n",
       "188         188          8/6/CC/95/2016       2016-03-30   \n",
       "189         189          8/6/CC/95/2019       2019-04-08   \n",
       "190         190          8/6/CC/96/2019       2019-04-09   \n",
       "191         191          8/6/CC/97/2019       2019-04-09   \n",
       "192         192          8/6/CC/98/2018       2018-03-28   \n",
       "\n",
       "                      case_category_name_en  \\\n",
       "64                       SERVICE DEFICIENCY   \n",
       "65                                  TELECOM   \n",
       "66   INDUSTRIAL/COMMERCIAL GOODS & SERVICES   \n",
       "67                                  BANKING   \n",
       "68                                INSURANCE   \n",
       "..                                      ...   \n",
       "188                               INSURANCE   \n",
       "189                                RAILWAYS   \n",
       "190                             AUTOMOBILES   \n",
       "191                             AUTOMOBILES   \n",
       "192                      SERVICE DEFICIENCY   \n",
       "\n",
       "                                             judgement  judgement_result  \\\n",
       "64   DISTRICT CONSUMER DISPUTES REDRESSAL COMMISSIO...                 1   \n",
       "65   CONSUMER DISPUTES REDRESSAL FORUM -II UDYOG SA...                 1   \n",
       "66   DISTRICT CONSUMER DISPUTES REDRESSAL COMMISSIO...                 1   \n",
       "67   DISTRICT CONSUMER DISPUTES REDRESSAL COMMISSIO...                 1   \n",
       "68   DISTRICT CONSUMER DISPUTES REDRESSAL COMMISSIO...                 1   \n",
       "..                                                 ...               ...   \n",
       "188  DISTRICT CONSUMER DISPUTES REDRESSAL COMMISSIO...                 1   \n",
       "189  CONSUMER DISPUTES REDRESSAL FORUM -II UDYOG SA...                 1   \n",
       "190  DISTRICT CONSUMER DISPUTES REDRESSAL COMMISSIO...                 1   \n",
       "191  DISTRICT CONSUMER DISPUTES REDRESSAL COMMISSIO...                 1   \n",
       "192  DISTRICT CONSUMER DISPUTES REDRESSAL COMMISSIO...                 1   \n",
       "\n",
       "     case_stage_id                                           features  \n",
       "64               7  [-0.7107890844345093, 0.6835563778877258, -0.3...  \n",
       "65               7  [-0.6374492049217224, 0.6746230721473694, -0.4...  \n",
       "66               7  [-0.6213350892066956, 0.7181457877159119, -0.4...  \n",
       "67               7  [-0.6386164426803589, 0.7238231301307678, -0.2...  \n",
       "68               7  [-0.7351880073547363, 0.6206957697868347, -0.4...  \n",
       "..             ...                                                ...  \n",
       "188              7  [-0.6133216619491577, 0.6055253148078918, -0.3...  \n",
       "189              7  [-0.6329101324081421, 0.5992135405540466, -0.3...  \n",
       "190              7  [-0.7539531588554382, 0.5668675899505615, -0.2...  \n",
       "191              7  [-0.6854769587516785, 0.6509148478507996, -0.3...  \n",
       "192              7  [-0.6589256525039673, 0.724272608757019, -0.39...  \n",
       "\n",
       "[129 rows x 8 columns]"
      ]
     },
     "execution_count": 29,
     "metadata": {},
     "output_type": "execute_result"
    }
   ],
   "source": [
    "df_test_over.head(129)"
   ]
  },
  {
   "cell_type": "markdown",
   "id": "6fa56013",
   "metadata": {},
   "source": [
    "## 4. Model Selection, Training & Evaluation:-"
   ]
  },
  {
   "cell_type": "markdown",
   "id": "c9a40a83",
   "metadata": {},
   "source": [
    "### Spliting the dataset for testing and training"
   ]
  },
  {
   "cell_type": "code",
   "execution_count": 30,
   "id": "705dfcfe",
   "metadata": {},
   "outputs": [],
   "source": [
    "X=df_test_over['features']\n",
    "y = df_test_over['judgement_result']\n",
    "\n",
    "from sklearn.model_selection import train_test_split\n",
    "X_train, X_test, y_train, y_test = train_test_split(X.values, y, test_size=0.2, random_state=15, stratify=y)"
   ]
  },
  {
   "cell_type": "code",
   "execution_count": 31,
   "id": "a71d32f3",
   "metadata": {},
   "outputs": [
    {
     "name": "stdout",
     "output_type": "stream",
     "text": [
      "Shape of X_train before reshaping:  (206,)\n",
      "Shape of X_test before reshaping:  (52,)\n",
      "Shape of X_train after reshaping:  (206, 768)\n",
      "Shape of X_test after reshaping:  (52, 768)\n"
     ]
    }
   ],
   "source": [
    "print(\"Shape of X_train before reshaping: \", X_train.shape)\n",
    "print(\"Shape of X_test before reshaping: \", X_test.shape)\n",
    "\n",
    "#X_train_numeric = [[float(element) for element in inner_list.split()] for inner_list in X_train]\n",
    "#X_train_2d = np.stack(X_train_numeric)\n",
    "\n",
    "X_train_2d = np.stack(X_train)\n",
    "\n",
    "#X_test_numeric = [[float(element) for element in inner_list.split()] for inner_list in X_test]\n",
    "#X_test_2d = np.stack(X_test_numeric)\n",
    "\n",
    "X_test_2d =  np.stack(X_test)\n",
    "\n",
    "print(\"Shape of X_train after reshaping: \", X_train_2d.shape)\n",
    "print(\"Shape of X_test after reshaping: \", X_test_2d.shape)"
   ]
  },
  {
   "cell_type": "markdown",
   "id": "4168cae2",
   "metadata": {},
   "source": [
    "### Using Spacy's Vectorization Method"
   ]
  },
  {
   "cell_type": "markdown",
   "id": "07fd29ce",
   "metadata": {},
   "source": [
    "#### Using Decision Trees"
   ]
  },
  {
   "cell_type": "code",
   "execution_count": 34,
   "id": "6980a8c0",
   "metadata": {},
   "outputs": [
    {
     "name": "stdout",
     "output_type": "stream",
     "text": [
      "              precision    recall  f1-score   support\n",
      "\n",
      "           0       0.77      0.77      0.77        26\n",
      "           1       0.77      0.77      0.77        26\n",
      "\n",
      "    accuracy                           0.77        52\n",
      "   macro avg       0.77      0.77      0.77        52\n",
      "weighted avg       0.77      0.77      0.77        52\n",
      "\n"
     ]
    }
   ],
   "source": [
    "from sklearn.tree import DecisionTreeClassifier\n",
    "from sklearn.metrics import classification_report\n",
    "\n",
    "\n",
    "#1. creating a Decision Tree model object\n",
    "clf = DecisionTreeClassifier()\n",
    "\n",
    "#2. fit with all_train_embeddings and y_train\n",
    "clf.fit(X_train_2d, y_train)\n",
    "\n",
    "\n",
    "#3. get the predictions for all_test_embeddings and store it in y_pred\n",
    "y_pred = clf.predict(X_test_2d)\n",
    "\n",
    "\n",
    "#4. print the classfication report\n",
    "print(classification_report(y_test, y_pred))"
   ]
  },
  {
   "cell_type": "markdown",
   "id": "3df15530",
   "metadata": {},
   "source": [
    "#### Using Naive Bayes Classifier"
   ]
  },
  {
   "cell_type": "code",
   "execution_count": 35,
   "id": "8b1d6943",
   "metadata": {},
   "outputs": [
    {
     "name": "stdout",
     "output_type": "stream",
     "text": [
      "              precision    recall  f1-score   support\n",
      "\n",
      "           0       0.44      0.31      0.36        26\n",
      "           1       0.47      0.62      0.53        26\n",
      "\n",
      "    accuracy                           0.46        52\n",
      "   macro avg       0.46      0.46      0.45        52\n",
      "weighted avg       0.46      0.46      0.45        52\n",
      "\n"
     ]
    }
   ],
   "source": [
    "from sklearn.naive_bayes import MultinomialNB\n",
    "from sklearn.preprocessing import MinMaxScaler\n",
    "\n",
    "#doing scaling because Negative values will not pass into Naive Bayes models\n",
    "scaler = MinMaxScaler()                                         \n",
    "scaled_train_embed = scaler.fit_transform(X_train_2d)\n",
    "scaled_test_embed = scaler.transform(X_test_2d)\n",
    "\n",
    "#1. creating a MultinomialNB model object \n",
    "clf = MultinomialNB()\n",
    "\n",
    "#2. fit with all_train_embeddings and y_train\n",
    "clf.fit(scaled_train_embed , y_train) \n",
    "\n",
    "\n",
    "#3. get the predictions for all_test_embeddings and store it in y_pred\n",
    "y_pred = clf.predict(scaled_test_embed)\n",
    "\n",
    "\n",
    "#4. print the classfication report\n",
    "print(classification_report(y_test, y_pred))"
   ]
  },
  {
   "cell_type": "code",
   "execution_count": 36,
   "id": "1f06b957",
   "metadata": {},
   "outputs": [
    {
     "name": "stdout",
     "output_type": "stream",
     "text": [
      "[[ 8 18]\n",
      " [10 16]]\n"
     ]
    },
    {
     "data": {
      "text/plain": [
       "Text(95.72222222222221, 0.5, 'Truth')"
      ]
     },
     "execution_count": 36,
     "metadata": {},
     "output_type": "execute_result"
    },
    {
     "data": {
      "image/png": "[encoded data removed]",
      "text/plain": [
       "<Figure size 1000x700 with 2 Axes>"
      ]
     },
     "metadata": {},
     "output_type": "display_data"
    }
   ],
   "source": [
    "from sklearn.metrics import confusion_matrix\n",
    "cm = confusion_matrix(y_test, y_pred)\n",
    "print(cm)\n",
    "\n",
    "\n",
    "from matplotlib import pyplot as plt\n",
    "import seaborn as sn\n",
    "plt.figure(figsize = (10,7))\n",
    "sn.heatmap(cm, annot=True, fmt='d')\n",
    "plt.xlabel('Prediction')\n",
    "plt.ylabel('Truth')"
   ]
  },
  {
   "cell_type": "markdown",
   "id": "37848a04",
   "metadata": {},
   "source": [
    "#### Using K Neighbours Classifier"
   ]
  },
  {
   "cell_type": "code",
   "execution_count": 37,
   "id": "5bf6cf28",
   "metadata": {},
   "outputs": [
    {
     "name": "stdout",
     "output_type": "stream",
     "text": [
      "              precision    recall  f1-score   support\n",
      "\n",
      "           0       0.58      0.69      0.63        26\n",
      "           1       0.62      0.50      0.55        26\n",
      "\n",
      "    accuracy                           0.60        52\n",
      "   macro avg       0.60      0.60      0.59        52\n",
      "weighted avg       0.60      0.60      0.59        52\n",
      "\n"
     ]
    }
   ],
   "source": [
    "from  sklearn.neighbors import KNeighborsClassifier\n",
    "\n",
    "\n",
    "#1. creating a KNN model object\n",
    "clf = KNeighborsClassifier(n_neighbors = 5, metric = 'euclidean')\n",
    "\n",
    "#2. fit with all_train_embeddings and y_train\n",
    "clf.fit(X_train_2d, y_train)\n",
    "\n",
    "\n",
    "#3. get the predictions for all_test_embeddings and store it in y_pred\n",
    "y_pred = clf.predict(X_test_2d)\n",
    "\n",
    "#4. print the classfication report\n",
    "print(classification_report(y_test, y_pred))"
   ]
  },
  {
   "cell_type": "code",
   "execution_count": 38,
   "id": "934d9e2b",
   "metadata": {},
   "outputs": [
    {
     "name": "stdout",
     "output_type": "stream",
     "text": [
      "[[18  8]\n",
      " [13 13]]\n"
     ]
    },
    {
     "data": {
      "text/plain": [
       "Text(95.72222222222221, 0.5, 'Truth')"
      ]
     },
     "execution_count": 38,
     "metadata": {},
     "output_type": "execute_result"
    },
    {
     "data": {
      "image/png": "[encoded data removed]",
      "text/plain": [
       "<Figure size 1000x700 with 2 Axes>"
      ]
     },
     "metadata": {},
     "output_type": "display_data"
    }
   ],
   "source": [
    "from sklearn.metrics import confusion_matrix\n",
    "cm = confusion_matrix(y_test, y_pred)\n",
    "print(cm)\n",
    "\n",
    "\n",
    "from matplotlib import pyplot as plt\n",
    "import seaborn as sn\n",
    "plt.figure(figsize = (10,7))\n",
    "sn.heatmap(cm, annot=True, fmt='d')\n",
    "plt.xlabel('Prediction')\n",
    "plt.ylabel('Truth')"
   ]
  },
  {
   "cell_type": "markdown",
   "id": "deebc6b3",
   "metadata": {},
   "source": [
    "#### Using Random Forest Classifier"
   ]
  },
  {
   "cell_type": "code",
   "execution_count": 39,
   "id": "e998bb89",
   "metadata": {},
   "outputs": [
    {
     "name": "stdout",
     "output_type": "stream",
     "text": [
      "              precision    recall  f1-score   support\n",
      "\n",
      "           0       0.91      0.81      0.86        26\n",
      "           1       0.83      0.92      0.87        26\n",
      "\n",
      "    accuracy                           0.87        52\n",
      "   macro avg       0.87      0.87      0.86        52\n",
      "weighted avg       0.87      0.87      0.86        52\n",
      "\n"
     ]
    }
   ],
   "source": [
    "from sklearn.ensemble import RandomForestClassifier\n",
    "\n",
    "\n",
    "#1. creating a Random Forest model object\n",
    "clf = RandomForestClassifier()\n",
    "\n",
    "\n",
    "#2. fit with all_train_embeddings and y_train\n",
    "clf.fit(X_train_2d, y_train)\n",
    "\n",
    "\n",
    "#3. get the predictions for all_test_embeddings and store it in y_pred\n",
    "y_pred = clf.predict(X_test_2d)\n",
    "\n",
    "\n",
    "#4. print the classfication report\n",
    "print(classification_report(y_test, y_pred))"
   ]
  },
  {
   "cell_type": "code",
   "execution_count": 40,
   "id": "face589c",
   "metadata": {},
   "outputs": [
    {
     "name": "stdout",
     "output_type": "stream",
     "text": [
      "[[21  5]\n",
      " [ 2 24]]\n"
     ]
    },
    {
     "data": {
      "text/plain": [
       "Text(33.22222222222222, 0.5, 'Truth')"
      ]
     },
     "execution_count": 40,
     "metadata": {},
     "output_type": "execute_result"
    },
    {
     "data": {
      "image/png": "[encoded data removed]",
      "text/plain": [
       "<Figure size 500x500 with 2 Axes>"
      ]
     },
     "metadata": {},
     "output_type": "display_data"
    }
   ],
   "source": [
    "from sklearn.metrics import confusion_matrix\n",
    "cm = confusion_matrix(y_test, y_pred)\n",
    "print(cm)\n",
    "\n",
    "\n",
    "from matplotlib import pyplot as plt\n",
    "import seaborn as sn\n",
    "plt.figure(figsize = (5,5))\n",
    "sn.heatmap(cm, annot=True, fmt='d')\n",
    "plt.xlabel('Prediction')\n",
    "plt.ylabel('Truth')"
   ]
  },
  {
   "cell_type": "markdown",
   "id": "8da6d40d",
   "metadata": {},
   "source": [
    "#### Using Gradient Boosting Classifier"
   ]
  },
  {
   "cell_type": "code",
   "execution_count": 41,
   "id": "9666b879",
   "metadata": {},
   "outputs": [
    {
     "name": "stdout",
     "output_type": "stream",
     "text": [
      "              precision    recall  f1-score   support\n",
      "\n",
      "           0       0.88      0.81      0.84        26\n",
      "           1       0.82      0.88      0.85        26\n",
      "\n",
      "    accuracy                           0.85        52\n",
      "   macro avg       0.85      0.85      0.85        52\n",
      "weighted avg       0.85      0.85      0.85        52\n",
      "\n"
     ]
    }
   ],
   "source": [
    "from sklearn.ensemble import GradientBoostingClassifier\n",
    "\n",
    "\n",
    "#1. creating a GradientBoosting model object\n",
    "clf = GradientBoostingClassifier()\n",
    "\n",
    "#2. fit with all_train_embeddings and y_train\n",
    "clf.fit(X_train_2d, y_train)\n",
    "\n",
    "\n",
    "#3. get the predictions for all_test_embeddings and store it in y_pred\n",
    "y_pred = clf.predict(X_test_2d)\n",
    "\n",
    "\n",
    "#4. print the classfication report\n",
    "print(classification_report(y_test, y_pred))"
   ]
  },
  {
   "cell_type": "code",
   "execution_count": 42,
   "id": "22148430",
   "metadata": {},
   "outputs": [
    {
     "name": "stdout",
     "output_type": "stream",
     "text": [
      "[[21  5]\n",
      " [ 3 23]]\n"
     ]
    },
    {
     "data": {
      "text/plain": [
       "Text(95.72222222222221, 0.5, 'Truth')"
      ]
     },
     "execution_count": 42,
     "metadata": {},
     "output_type": "execute_result"
    },
    {
     "data": {
      "image/png": "[encoded data removed]",
      "text/plain": [
       "<Figure size 1000x700 with 2 Axes>"
      ]
     },
     "metadata": {},
     "output_type": "display_data"
    }
   ],
   "source": [
    "#finally print the confusion matrix for the best model: GradientBoostingClassifier\n",
    "\n",
    "from sklearn.metrics import confusion_matrix\n",
    "cm = confusion_matrix(y_test, y_pred)\n",
    "print(cm)\n",
    "\n",
    "\n",
    "from matplotlib import pyplot as plt\n",
    "import seaborn as sn\n",
    "plt.figure(figsize = (10,7))\n",
    "sn.heatmap(cm, annot=True, fmt='d')\n",
    "plt.xlabel('Prediction')\n",
    "plt.ylabel('Truth')"
   ]
  },
  {
   "cell_type": "markdown",
   "id": "a30302f4",
   "metadata": {},
   "source": [
    "#### Using Ada Boost Classifier"
   ]
  },
  {
   "cell_type": "code",
   "execution_count": 43,
   "id": "6fec0907",
   "metadata": {},
   "outputs": [
    {
     "name": "stdout",
     "output_type": "stream",
     "text": [
      "              precision    recall  f1-score   support\n",
      "\n",
      "           0       0.81      0.81      0.81        26\n",
      "           1       0.81      0.81      0.81        26\n",
      "\n",
      "    accuracy                           0.81        52\n",
      "   macro avg       0.81      0.81      0.81        52\n",
      "weighted avg       0.81      0.81      0.81        52\n",
      "\n"
     ]
    }
   ],
   "source": [
    "from sklearn.ensemble import AdaBoostClassifier\n",
    "from sklearn.datasets import make_classification\n",
    "\n",
    "\n",
    "#1. creating a GradientBoosting model object\n",
    "clf = AdaBoostClassifier(algorithm=\"SAMME\")\n",
    "\n",
    "#2. fit with all_train_embeddings and y_train\n",
    "clf.fit(X_train_2d, y_train)\n",
    "\n",
    "\n",
    "#3. get the predictions for all_test_embeddings and store it in y_pred\n",
    "y_pred = clf.predict(X_test_2d)\n",
    "\n",
    "\n",
    "#4. print the classfication report\n",
    "print(classification_report(y_test, y_pred))"
   ]
  },
  {
   "cell_type": "code",
   "execution_count": 44,
   "id": "c37afcb9",
   "metadata": {},
   "outputs": [
    {
     "name": "stdout",
     "output_type": "stream",
     "text": [
      "[[21  5]\n",
      " [ 5 21]]\n"
     ]
    },
    {
     "data": {
      "text/plain": [
       "Text(95.72222222222221, 0.5, 'Truth')"
      ]
     },
     "execution_count": 44,
     "metadata": {},
     "output_type": "execute_result"
    },
    {
     "data": {
      "image/png": "[encoded data removed]",
      "text/plain": [
       "<Figure size 1000x700 with 2 Axes>"
      ]
     },
     "metadata": {},
     "output_type": "display_data"
    }
   ],
   "source": [
    "from sklearn.metrics import confusion_matrix\n",
    "cm = confusion_matrix(y_test, y_pred)\n",
    "print(cm)\n",
    "\n",
    "\n",
    "from matplotlib import pyplot as plt\n",
    "import seaborn as sn\n",
    "plt.figure(figsize = (10,7))\n",
    "sn.heatmap(cm, annot=True, fmt='d')\n",
    "plt.xlabel('Prediction')\n",
    "plt.ylabel('Truth')"
   ]
  },
  {
   "cell_type": "markdown",
   "id": "a79d5da6",
   "metadata": {},
   "source": [
    "### Using Tf-Idf Method for Vectorization"
   ]
  },
  {
   "cell_type": "code",
   "execution_count": 45,
   "id": "625783b8",
   "metadata": {},
   "outputs": [],
   "source": [
    "count_class_1,count_class_0=df.judgement_result.value_counts()\n",
    "\n",
    "df_class_1=df[df['judgement_result']==1]\n",
    "df_class_0=df[df['judgement_result']==0]"
   ]
  },
  {
   "cell_type": "code",
   "execution_count": 46,
   "id": "f6854dde",
   "metadata": {},
   "outputs": [
    {
     "name": "stdout",
     "output_type": "stream",
     "text": [
      "Random over-sampling:\n",
      "judgement_result\n",
      "1    129\n",
      "0    129\n",
      "Name: count, dtype: int64\n"
     ]
    }
   ],
   "source": [
    "# Oversample 1-class and concat the DataFrames of both classes\n",
    "df_class_0_over = df_class_0.sample(count_class_1, replace=True)\n",
    "#df_class_0_over = df_class_0.sample(1000, replace=True)\n",
    "#df_class_1_over = df_class_1.sample(1000, replace=True)\n",
    "df_test_over = pd.concat([df_class_1, df_class_0_over], axis=0)\n",
    "\n",
    "print('Random over-sampling:')\n",
    "print(df_test_over.judgement_result.value_counts())"
   ]
  },
  {
   "cell_type": "code",
   "execution_count": 47,
   "id": "a16bbd14",
   "metadata": {},
   "outputs": [
    {
     "ename": "KeyError",
     "evalue": "'preprocessed_judgements'",
     "output_type": "error",
     "traceback": [
      "\u001b[0;31m---------------------------------------------------------------------------\u001b[0m",
      "\u001b[0;31mKeyError\u001b[0m                                  Traceback (most recent call last)",
      "File \u001b[0;32m~/anaconda3/envs/NLP/lib/python3.11/site-packages/pandas/core/indexes/base.py:3805\u001b[0m, in \u001b[0;36mIndex.get_loc\u001b[0;34m(self, key)\u001b[0m\n\u001b[1;32m   3804\u001b[0m \u001b[38;5;28;01mtry\u001b[39;00m:\n\u001b[0;32m-> 3805\u001b[0m     \u001b[38;5;28;01mreturn\u001b[39;00m \u001b[38;5;28mself\u001b[39m\u001b[38;5;241m.\u001b[39m_engine\u001b[38;5;241m.\u001b[39mget_loc(casted_key)\n\u001b[1;32m   3806\u001b[0m \u001b[38;5;28;01mexcept\u001b[39;00m \u001b[38;5;167;01mKeyError\u001b[39;00m \u001b[38;5;28;01mas\u001b[39;00m err:\n",
      "File \u001b[0;32mindex.pyx:167\u001b[0m, in \u001b[0;36mpandas._libs.index.IndexEngine.get_loc\u001b[0;34m()\u001b[0m\n",
      "File \u001b[0;32mindex.pyx:196\u001b[0m, in \u001b[0;36mpandas._libs.index.IndexEngine.get_loc\u001b[0;34m()\u001b[0m\n",
      "File \u001b[0;32mpandas/_libs/hashtable_class_helper.pxi:7081\u001b[0m, in \u001b[0;36mpandas._libs.hashtable.PyObjectHashTable.get_item\u001b[0;34m()\u001b[0m\n",
      "File \u001b[0;32mpandas/_libs/hashtable_class_helper.pxi:7089\u001b[0m, in \u001b[0;36mpandas._libs.hashtable.PyObjectHashTable.get_item\u001b[0;34m()\u001b[0m\n",
      "\u001b[0;31mKeyError\u001b[0m: 'preprocessed_judgements'",
      "\nThe above exception was the direct cause of the following exception:\n",
      "\u001b[0;31mKeyError\u001b[0m                                  Traceback (most recent call last)",
      "Cell \u001b[0;32mIn[47], line 1\u001b[0m\n\u001b[0;32m----> 1\u001b[0m X\u001b[38;5;241m=\u001b[39mdf_test_over[\u001b[38;5;124m'\u001b[39m\u001b[38;5;124mpreprocessed_judgements\u001b[39m\u001b[38;5;124m'\u001b[39m]\n\u001b[1;32m      2\u001b[0m y \u001b[38;5;241m=\u001b[39m df_test_over[\u001b[38;5;124m'\u001b[39m\u001b[38;5;124mjudgement_result\u001b[39m\u001b[38;5;124m'\u001b[39m]\n\u001b[1;32m      4\u001b[0m \u001b[38;5;28;01mfrom\u001b[39;00m \u001b[38;5;21;01msklearn\u001b[39;00m\u001b[38;5;21;01m.\u001b[39;00m\u001b[38;5;21;01mmodel_selection\u001b[39;00m \u001b[38;5;28;01mimport\u001b[39;00m train_test_split\n",
      "File \u001b[0;32m~/anaconda3/envs/NLP/lib/python3.11/site-packages/pandas/core/frame.py:4090\u001b[0m, in \u001b[0;36mDataFrame.__getitem__\u001b[0;34m(self, key)\u001b[0m\n\u001b[1;32m   4088\u001b[0m \u001b[38;5;28;01mif\u001b[39;00m \u001b[38;5;28mself\u001b[39m\u001b[38;5;241m.\u001b[39mcolumns\u001b[38;5;241m.\u001b[39mnlevels \u001b[38;5;241m>\u001b[39m \u001b[38;5;241m1\u001b[39m:\n\u001b[1;32m   4089\u001b[0m     \u001b[38;5;28;01mreturn\u001b[39;00m \u001b[38;5;28mself\u001b[39m\u001b[38;5;241m.\u001b[39m_getitem_multilevel(key)\n\u001b[0;32m-> 4090\u001b[0m indexer \u001b[38;5;241m=\u001b[39m \u001b[38;5;28mself\u001b[39m\u001b[38;5;241m.\u001b[39mcolumns\u001b[38;5;241m.\u001b[39mget_loc(key)\n\u001b[1;32m   4091\u001b[0m \u001b[38;5;28;01mif\u001b[39;00m is_integer(indexer):\n\u001b[1;32m   4092\u001b[0m     indexer \u001b[38;5;241m=\u001b[39m [indexer]\n",
      "File \u001b[0;32m~/anaconda3/envs/NLP/lib/python3.11/site-packages/pandas/core/indexes/base.py:3812\u001b[0m, in \u001b[0;36mIndex.get_loc\u001b[0;34m(self, key)\u001b[0m\n\u001b[1;32m   3807\u001b[0m     \u001b[38;5;28;01mif\u001b[39;00m \u001b[38;5;28misinstance\u001b[39m(casted_key, \u001b[38;5;28mslice\u001b[39m) \u001b[38;5;129;01mor\u001b[39;00m (\n\u001b[1;32m   3808\u001b[0m         \u001b[38;5;28misinstance\u001b[39m(casted_key, abc\u001b[38;5;241m.\u001b[39mIterable)\n\u001b[1;32m   3809\u001b[0m         \u001b[38;5;129;01mand\u001b[39;00m \u001b[38;5;28many\u001b[39m(\u001b[38;5;28misinstance\u001b[39m(x, \u001b[38;5;28mslice\u001b[39m) \u001b[38;5;28;01mfor\u001b[39;00m x \u001b[38;5;129;01min\u001b[39;00m casted_key)\n\u001b[1;32m   3810\u001b[0m     ):\n\u001b[1;32m   3811\u001b[0m         \u001b[38;5;28;01mraise\u001b[39;00m InvalidIndexError(key)\n\u001b[0;32m-> 3812\u001b[0m     \u001b[38;5;28;01mraise\u001b[39;00m \u001b[38;5;167;01mKeyError\u001b[39;00m(key) \u001b[38;5;28;01mfrom\u001b[39;00m \u001b[38;5;21;01merr\u001b[39;00m\n\u001b[1;32m   3813\u001b[0m \u001b[38;5;28;01mexcept\u001b[39;00m \u001b[38;5;167;01mTypeError\u001b[39;00m:\n\u001b[1;32m   3814\u001b[0m     \u001b[38;5;66;03m# If we have a listlike key, _check_indexing_error will raise\u001b[39;00m\n\u001b[1;32m   3815\u001b[0m     \u001b[38;5;66;03m#  InvalidIndexError. Otherwise we fall through and re-raise\u001b[39;00m\n\u001b[1;32m   3816\u001b[0m     \u001b[38;5;66;03m#  the TypeError.\u001b[39;00m\n\u001b[1;32m   3817\u001b[0m     \u001b[38;5;28mself\u001b[39m\u001b[38;5;241m.\u001b[39m_check_indexing_error(key)\n",
      "\u001b[0;31mKeyError\u001b[0m: 'preprocessed_judgements'"
     ]
    }
   ],
   "source": [
    "X=df_test_over['preprocessed_judgements']\n",
    "y = df_test_over['judgement_result']\n",
    "\n",
    "from sklearn.model_selection import train_test_split\n",
    "X_train, X_test, y_train, y_test = train_test_split(X.values, y, test_size=0.2, random_state=15, stratify=y)"
   ]
  },
  {
   "cell_type": "code",
   "execution_count": null,
   "id": "51953615",
   "metadata": {},
   "outputs": [],
   "source": [
    "from sklearn.tree import DecisionTreeClassifier\n",
    "from sklearn.pipeline import Pipeline\n",
    "from sklearn.metrics import classification_report\n",
    "from sklearn.feature_extraction.text import TfidfVectorizer\n",
    "\n",
    "#1. create a pipeline object\n",
    "clf = Pipeline([\n",
    "     ('vectorizer_tfidf',TfidfVectorizer()),    \n",
    "     ('DecisionTreeClassifier', DecisionTreeClassifier())         \n",
    "])\n",
    "\n",
    "#2. fit with all_train_embeddings and y_train\n",
    "clf.fit(X_train, y_train)\n",
    "\n",
    "\n",
    "#3. get the predictions for all_test_embeddings and store it in y_pred\n",
    "y_pred = clf.predict(X_test)\n",
    "\n",
    "\n",
    "#4. print the classfication report\n",
    "print(classification_report(y_test, y_pred))"
   ]
  },
  {
   "cell_type": "code",
   "execution_count": 34,
   "id": "ca5b1ae0",
   "metadata": {},
   "outputs": [
    {
     "ename": "AttributeError",
     "evalue": "'list' object has no attribute 'lower'",
     "output_type": "error",
     "traceback": [
      "\u001b[0;31m---------------------------------------------------------------------------\u001b[0m",
      "\u001b[0;31mAttributeError\u001b[0m                            Traceback (most recent call last)",
      "Cell \u001b[0;32mIn[34], line 11\u001b[0m\n\u001b[1;32m      5\u001b[0m clf \u001b[38;5;241m=\u001b[39m Pipeline([\n\u001b[1;32m      6\u001b[0m      (\u001b[38;5;124m'\u001b[39m\u001b[38;5;124mvectorizer_tfidf\u001b[39m\u001b[38;5;124m'\u001b[39m,TfidfVectorizer()),    \n\u001b[1;32m      7\u001b[0m      (\u001b[38;5;124m'\u001b[39m\u001b[38;5;124mMulti NB\u001b[39m\u001b[38;5;124m'\u001b[39m, MultinomialNB())         \n\u001b[1;32m      8\u001b[0m ])\n\u001b[1;32m     10\u001b[0m \u001b[38;5;66;03m#2. fit with X_train and y_train\u001b[39;00m\n\u001b[0;32m---> 11\u001b[0m clf\u001b[38;5;241m.\u001b[39mfit(X_train, y_train)\n\u001b[1;32m     14\u001b[0m \u001b[38;5;66;03m#3. get the predictions for X_test and store it in y_pred\u001b[39;00m\n\u001b[1;32m     15\u001b[0m y_pred \u001b[38;5;241m=\u001b[39m clf\u001b[38;5;241m.\u001b[39mpredict(X_test)\n",
      "File \u001b[0;32m~/anaconda3/envs/NLP/lib/python3.11/site-packages/sklearn/base.py:1474\u001b[0m, in \u001b[0;36m_fit_context.<locals>.decorator.<locals>.wrapper\u001b[0;34m(estimator, *args, **kwargs)\u001b[0m\n\u001b[1;32m   1467\u001b[0m     estimator\u001b[38;5;241m.\u001b[39m_validate_params()\n\u001b[1;32m   1469\u001b[0m \u001b[38;5;28;01mwith\u001b[39;00m config_context(\n\u001b[1;32m   1470\u001b[0m     skip_parameter_validation\u001b[38;5;241m=\u001b[39m(\n\u001b[1;32m   1471\u001b[0m         prefer_skip_nested_validation \u001b[38;5;129;01mor\u001b[39;00m global_skip_validation\n\u001b[1;32m   1472\u001b[0m     )\n\u001b[1;32m   1473\u001b[0m ):\n\u001b[0;32m-> 1474\u001b[0m     \u001b[38;5;28;01mreturn\u001b[39;00m fit_method(estimator, \u001b[38;5;241m*\u001b[39margs, \u001b[38;5;241m*\u001b[39m\u001b[38;5;241m*\u001b[39mkwargs)\n",
      "File \u001b[0;32m~/anaconda3/envs/NLP/lib/python3.11/site-packages/sklearn/pipeline.py:471\u001b[0m, in \u001b[0;36mPipeline.fit\u001b[0;34m(self, X, y, **params)\u001b[0m\n\u001b[1;32m    428\u001b[0m \u001b[38;5;250m\u001b[39m\u001b[38;5;124;03m\"\"\"Fit the model.\u001b[39;00m\n\u001b[1;32m    429\u001b[0m \n\u001b[1;32m    430\u001b[0m \u001b[38;5;124;03mFit all the transformers one after the other and sequentially transform the\u001b[39;00m\n\u001b[0;32m   (...)\u001b[0m\n\u001b[1;32m    468\u001b[0m \u001b[38;5;124;03m    Pipeline with fitted steps.\u001b[39;00m\n\u001b[1;32m    469\u001b[0m \u001b[38;5;124;03m\"\"\"\u001b[39;00m\n\u001b[1;32m    470\u001b[0m routed_params \u001b[38;5;241m=\u001b[39m \u001b[38;5;28mself\u001b[39m\u001b[38;5;241m.\u001b[39m_check_method_params(method\u001b[38;5;241m=\u001b[39m\u001b[38;5;124m\"\u001b[39m\u001b[38;5;124mfit\u001b[39m\u001b[38;5;124m\"\u001b[39m, props\u001b[38;5;241m=\u001b[39mparams)\n\u001b[0;32m--> 471\u001b[0m Xt \u001b[38;5;241m=\u001b[39m \u001b[38;5;28mself\u001b[39m\u001b[38;5;241m.\u001b[39m_fit(X, y, routed_params)\n\u001b[1;32m    472\u001b[0m \u001b[38;5;28;01mwith\u001b[39;00m _print_elapsed_time(\u001b[38;5;124m\"\u001b[39m\u001b[38;5;124mPipeline\u001b[39m\u001b[38;5;124m\"\u001b[39m, \u001b[38;5;28mself\u001b[39m\u001b[38;5;241m.\u001b[39m_log_message(\u001b[38;5;28mlen\u001b[39m(\u001b[38;5;28mself\u001b[39m\u001b[38;5;241m.\u001b[39msteps) \u001b[38;5;241m-\u001b[39m \u001b[38;5;241m1\u001b[39m)):\n\u001b[1;32m    473\u001b[0m     \u001b[38;5;28;01mif\u001b[39;00m \u001b[38;5;28mself\u001b[39m\u001b[38;5;241m.\u001b[39m_final_estimator \u001b[38;5;241m!=\u001b[39m \u001b[38;5;124m\"\u001b[39m\u001b[38;5;124mpassthrough\u001b[39m\u001b[38;5;124m\"\u001b[39m:\n",
      "File \u001b[0;32m~/anaconda3/envs/NLP/lib/python3.11/site-packages/sklearn/pipeline.py:408\u001b[0m, in \u001b[0;36mPipeline._fit\u001b[0;34m(self, X, y, routed_params)\u001b[0m\n\u001b[1;32m    406\u001b[0m     cloned_transformer \u001b[38;5;241m=\u001b[39m clone(transformer)\n\u001b[1;32m    407\u001b[0m \u001b[38;5;66;03m# Fit or load from cache the current transformer\u001b[39;00m\n\u001b[0;32m--> 408\u001b[0m X, fitted_transformer \u001b[38;5;241m=\u001b[39m fit_transform_one_cached(\n\u001b[1;32m    409\u001b[0m     cloned_transformer,\n\u001b[1;32m    410\u001b[0m     X,\n\u001b[1;32m    411\u001b[0m     y,\n\u001b[1;32m    412\u001b[0m     \u001b[38;5;28;01mNone\u001b[39;00m,\n\u001b[1;32m    413\u001b[0m     message_clsname\u001b[38;5;241m=\u001b[39m\u001b[38;5;124m\"\u001b[39m\u001b[38;5;124mPipeline\u001b[39m\u001b[38;5;124m\"\u001b[39m,\n\u001b[1;32m    414\u001b[0m     message\u001b[38;5;241m=\u001b[39m\u001b[38;5;28mself\u001b[39m\u001b[38;5;241m.\u001b[39m_log_message(step_idx),\n\u001b[1;32m    415\u001b[0m     params\u001b[38;5;241m=\u001b[39mrouted_params[name],\n\u001b[1;32m    416\u001b[0m )\n\u001b[1;32m    417\u001b[0m \u001b[38;5;66;03m# Replace the transformer of the step with the fitted\u001b[39;00m\n\u001b[1;32m    418\u001b[0m \u001b[38;5;66;03m# transformer. This is necessary when loading the transformer\u001b[39;00m\n\u001b[1;32m    419\u001b[0m \u001b[38;5;66;03m# from the cache.\u001b[39;00m\n\u001b[1;32m    420\u001b[0m \u001b[38;5;28mself\u001b[39m\u001b[38;5;241m.\u001b[39msteps[step_idx] \u001b[38;5;241m=\u001b[39m (name, fitted_transformer)\n",
      "File \u001b[0;32m~/anaconda3/envs/NLP/lib/python3.11/site-packages/joblib/memory.py:349\u001b[0m, in \u001b[0;36mNotMemorizedFunc.__call__\u001b[0;34m(self, *args, **kwargs)\u001b[0m\n\u001b[1;32m    348\u001b[0m \u001b[38;5;28;01mdef\u001b[39;00m \u001b[38;5;21m__call__\u001b[39m(\u001b[38;5;28mself\u001b[39m, \u001b[38;5;241m*\u001b[39margs, \u001b[38;5;241m*\u001b[39m\u001b[38;5;241m*\u001b[39mkwargs):\n\u001b[0;32m--> 349\u001b[0m     \u001b[38;5;28;01mreturn\u001b[39;00m \u001b[38;5;28mself\u001b[39m\u001b[38;5;241m.\u001b[39mfunc(\u001b[38;5;241m*\u001b[39margs, \u001b[38;5;241m*\u001b[39m\u001b[38;5;241m*\u001b[39mkwargs)\n",
      "File \u001b[0;32m~/anaconda3/envs/NLP/lib/python3.11/site-packages/sklearn/pipeline.py:1303\u001b[0m, in \u001b[0;36m_fit_transform_one\u001b[0;34m(transformer, X, y, weight, message_clsname, message, params)\u001b[0m\n\u001b[1;32m   1301\u001b[0m \u001b[38;5;28;01mwith\u001b[39;00m _print_elapsed_time(message_clsname, message):\n\u001b[1;32m   1302\u001b[0m     \u001b[38;5;28;01mif\u001b[39;00m \u001b[38;5;28mhasattr\u001b[39m(transformer, \u001b[38;5;124m\"\u001b[39m\u001b[38;5;124mfit_transform\u001b[39m\u001b[38;5;124m\"\u001b[39m):\n\u001b[0;32m-> 1303\u001b[0m         res \u001b[38;5;241m=\u001b[39m transformer\u001b[38;5;241m.\u001b[39mfit_transform(X, y, \u001b[38;5;241m*\u001b[39m\u001b[38;5;241m*\u001b[39mparams\u001b[38;5;241m.\u001b[39mget(\u001b[38;5;124m\"\u001b[39m\u001b[38;5;124mfit_transform\u001b[39m\u001b[38;5;124m\"\u001b[39m, {}))\n\u001b[1;32m   1304\u001b[0m     \u001b[38;5;28;01melse\u001b[39;00m:\n\u001b[1;32m   1305\u001b[0m         res \u001b[38;5;241m=\u001b[39m transformer\u001b[38;5;241m.\u001b[39mfit(X, y, \u001b[38;5;241m*\u001b[39m\u001b[38;5;241m*\u001b[39mparams\u001b[38;5;241m.\u001b[39mget(\u001b[38;5;124m\"\u001b[39m\u001b[38;5;124mfit\u001b[39m\u001b[38;5;124m\"\u001b[39m, {}))\u001b[38;5;241m.\u001b[39mtransform(\n\u001b[1;32m   1306\u001b[0m             X, \u001b[38;5;241m*\u001b[39m\u001b[38;5;241m*\u001b[39mparams\u001b[38;5;241m.\u001b[39mget(\u001b[38;5;124m\"\u001b[39m\u001b[38;5;124mtransform\u001b[39m\u001b[38;5;124m\"\u001b[39m, {})\n\u001b[1;32m   1307\u001b[0m         )\n",
      "File \u001b[0;32m~/anaconda3/envs/NLP/lib/python3.11/site-packages/sklearn/feature_extraction/text.py:2138\u001b[0m, in \u001b[0;36mTfidfVectorizer.fit_transform\u001b[0;34m(self, raw_documents, y)\u001b[0m\n\u001b[1;32m   2131\u001b[0m \u001b[38;5;28mself\u001b[39m\u001b[38;5;241m.\u001b[39m_check_params()\n\u001b[1;32m   2132\u001b[0m \u001b[38;5;28mself\u001b[39m\u001b[38;5;241m.\u001b[39m_tfidf \u001b[38;5;241m=\u001b[39m TfidfTransformer(\n\u001b[1;32m   2133\u001b[0m     norm\u001b[38;5;241m=\u001b[39m\u001b[38;5;28mself\u001b[39m\u001b[38;5;241m.\u001b[39mnorm,\n\u001b[1;32m   2134\u001b[0m     use_idf\u001b[38;5;241m=\u001b[39m\u001b[38;5;28mself\u001b[39m\u001b[38;5;241m.\u001b[39muse_idf,\n\u001b[1;32m   2135\u001b[0m     smooth_idf\u001b[38;5;241m=\u001b[39m\u001b[38;5;28mself\u001b[39m\u001b[38;5;241m.\u001b[39msmooth_idf,\n\u001b[1;32m   2136\u001b[0m     sublinear_tf\u001b[38;5;241m=\u001b[39m\u001b[38;5;28mself\u001b[39m\u001b[38;5;241m.\u001b[39msublinear_tf,\n\u001b[1;32m   2137\u001b[0m )\n\u001b[0;32m-> 2138\u001b[0m X \u001b[38;5;241m=\u001b[39m \u001b[38;5;28msuper\u001b[39m()\u001b[38;5;241m.\u001b[39mfit_transform(raw_documents)\n\u001b[1;32m   2139\u001b[0m \u001b[38;5;28mself\u001b[39m\u001b[38;5;241m.\u001b[39m_tfidf\u001b[38;5;241m.\u001b[39mfit(X)\n\u001b[1;32m   2140\u001b[0m \u001b[38;5;66;03m# X is already a transformed view of raw_documents so\u001b[39;00m\n\u001b[1;32m   2141\u001b[0m \u001b[38;5;66;03m# we set copy to False\u001b[39;00m\n",
      "File \u001b[0;32m~/anaconda3/envs/NLP/lib/python3.11/site-packages/sklearn/base.py:1474\u001b[0m, in \u001b[0;36m_fit_context.<locals>.decorator.<locals>.wrapper\u001b[0;34m(estimator, *args, **kwargs)\u001b[0m\n\u001b[1;32m   1467\u001b[0m     estimator\u001b[38;5;241m.\u001b[39m_validate_params()\n\u001b[1;32m   1469\u001b[0m \u001b[38;5;28;01mwith\u001b[39;00m config_context(\n\u001b[1;32m   1470\u001b[0m     skip_parameter_validation\u001b[38;5;241m=\u001b[39m(\n\u001b[1;32m   1471\u001b[0m         prefer_skip_nested_validation \u001b[38;5;129;01mor\u001b[39;00m global_skip_validation\n\u001b[1;32m   1472\u001b[0m     )\n\u001b[1;32m   1473\u001b[0m ):\n\u001b[0;32m-> 1474\u001b[0m     \u001b[38;5;28;01mreturn\u001b[39;00m fit_method(estimator, \u001b[38;5;241m*\u001b[39margs, \u001b[38;5;241m*\u001b[39m\u001b[38;5;241m*\u001b[39mkwargs)\n",
      "File \u001b[0;32m~/anaconda3/envs/NLP/lib/python3.11/site-packages/sklearn/feature_extraction/text.py:1389\u001b[0m, in \u001b[0;36mCountVectorizer.fit_transform\u001b[0;34m(self, raw_documents, y)\u001b[0m\n\u001b[1;32m   1381\u001b[0m             warnings\u001b[38;5;241m.\u001b[39mwarn(\n\u001b[1;32m   1382\u001b[0m                 \u001b[38;5;124m\"\u001b[39m\u001b[38;5;124mUpper case characters found in\u001b[39m\u001b[38;5;124m\"\u001b[39m\n\u001b[1;32m   1383\u001b[0m                 \u001b[38;5;124m\"\u001b[39m\u001b[38;5;124m vocabulary while \u001b[39m\u001b[38;5;124m'\u001b[39m\u001b[38;5;124mlowercase\u001b[39m\u001b[38;5;124m'\u001b[39m\u001b[38;5;124m\"\u001b[39m\n\u001b[1;32m   1384\u001b[0m                 \u001b[38;5;124m\"\u001b[39m\u001b[38;5;124m is True. These entries will not\u001b[39m\u001b[38;5;124m\"\u001b[39m\n\u001b[1;32m   1385\u001b[0m                 \u001b[38;5;124m\"\u001b[39m\u001b[38;5;124m be matched with any documents\u001b[39m\u001b[38;5;124m\"\u001b[39m\n\u001b[1;32m   1386\u001b[0m             )\n\u001b[1;32m   1387\u001b[0m             \u001b[38;5;28;01mbreak\u001b[39;00m\n\u001b[0;32m-> 1389\u001b[0m vocabulary, X \u001b[38;5;241m=\u001b[39m \u001b[38;5;28mself\u001b[39m\u001b[38;5;241m.\u001b[39m_count_vocab(raw_documents, \u001b[38;5;28mself\u001b[39m\u001b[38;5;241m.\u001b[39mfixed_vocabulary_)\n\u001b[1;32m   1391\u001b[0m \u001b[38;5;28;01mif\u001b[39;00m \u001b[38;5;28mself\u001b[39m\u001b[38;5;241m.\u001b[39mbinary:\n\u001b[1;32m   1392\u001b[0m     X\u001b[38;5;241m.\u001b[39mdata\u001b[38;5;241m.\u001b[39mfill(\u001b[38;5;241m1\u001b[39m)\n",
      "File \u001b[0;32m~/anaconda3/envs/NLP/lib/python3.11/site-packages/sklearn/feature_extraction/text.py:1276\u001b[0m, in \u001b[0;36mCountVectorizer._count_vocab\u001b[0;34m(self, raw_documents, fixed_vocab)\u001b[0m\n\u001b[1;32m   1274\u001b[0m \u001b[38;5;28;01mfor\u001b[39;00m doc \u001b[38;5;129;01min\u001b[39;00m raw_documents:\n\u001b[1;32m   1275\u001b[0m     feature_counter \u001b[38;5;241m=\u001b[39m {}\n\u001b[0;32m-> 1276\u001b[0m     \u001b[38;5;28;01mfor\u001b[39;00m feature \u001b[38;5;129;01min\u001b[39;00m analyze(doc):\n\u001b[1;32m   1277\u001b[0m         \u001b[38;5;28;01mtry\u001b[39;00m:\n\u001b[1;32m   1278\u001b[0m             feature_idx \u001b[38;5;241m=\u001b[39m vocabulary[feature]\n",
      "File \u001b[0;32m~/anaconda3/envs/NLP/lib/python3.11/site-packages/sklearn/feature_extraction/text.py:110\u001b[0m, in \u001b[0;36m_analyze\u001b[0;34m(doc, analyzer, tokenizer, ngrams, preprocessor, decoder, stop_words)\u001b[0m\n\u001b[1;32m    108\u001b[0m \u001b[38;5;28;01melse\u001b[39;00m:\n\u001b[1;32m    109\u001b[0m     \u001b[38;5;28;01mif\u001b[39;00m preprocessor \u001b[38;5;129;01mis\u001b[39;00m \u001b[38;5;129;01mnot\u001b[39;00m \u001b[38;5;28;01mNone\u001b[39;00m:\n\u001b[0;32m--> 110\u001b[0m         doc \u001b[38;5;241m=\u001b[39m preprocessor(doc)\n\u001b[1;32m    111\u001b[0m     \u001b[38;5;28;01mif\u001b[39;00m tokenizer \u001b[38;5;129;01mis\u001b[39;00m \u001b[38;5;129;01mnot\u001b[39;00m \u001b[38;5;28;01mNone\u001b[39;00m:\n\u001b[1;32m    112\u001b[0m         doc \u001b[38;5;241m=\u001b[39m tokenizer(doc)\n",
      "File \u001b[0;32m~/anaconda3/envs/NLP/lib/python3.11/site-packages/sklearn/feature_extraction/text.py:68\u001b[0m, in \u001b[0;36m_preprocess\u001b[0;34m(doc, accent_function, lower)\u001b[0m\n\u001b[1;32m     49\u001b[0m \u001b[38;5;250m\u001b[39m\u001b[38;5;124;03m\"\"\"Chain together an optional series of text preprocessing steps to\u001b[39;00m\n\u001b[1;32m     50\u001b[0m \u001b[38;5;124;03mapply to a document.\u001b[39;00m\n\u001b[1;32m     51\u001b[0m \n\u001b[0;32m   (...)\u001b[0m\n\u001b[1;32m     65\u001b[0m \u001b[38;5;124;03m    preprocessed string\u001b[39;00m\n\u001b[1;32m     66\u001b[0m \u001b[38;5;124;03m\"\"\"\u001b[39;00m\n\u001b[1;32m     67\u001b[0m \u001b[38;5;28;01mif\u001b[39;00m lower:\n\u001b[0;32m---> 68\u001b[0m     doc \u001b[38;5;241m=\u001b[39m doc\u001b[38;5;241m.\u001b[39mlower()\n\u001b[1;32m     69\u001b[0m \u001b[38;5;28;01mif\u001b[39;00m accent_function \u001b[38;5;129;01mis\u001b[39;00m \u001b[38;5;129;01mnot\u001b[39;00m \u001b[38;5;28;01mNone\u001b[39;00m:\n\u001b[1;32m     70\u001b[0m     doc \u001b[38;5;241m=\u001b[39m accent_function(doc)\n",
      "\u001b[0;31mAttributeError\u001b[0m: 'list' object has no attribute 'lower'"
     ]
    }
   ],
   "source": [
    "from sklearn.naive_bayes import MultinomialNB\n",
    "\n",
    "\n",
    "#1. create a pipeline object\n",
    "clf = Pipeline([\n",
    "     ('vectorizer_tfidf',TfidfVectorizer()),    \n",
    "     ('Multi NB', MultinomialNB())         \n",
    "])\n",
    "\n",
    "#2. fit with X_train and y_train\n",
    "clf.fit(X_train, y_train)\n",
    "\n",
    "\n",
    "#3. get the predictions for X_test and store it in y_pred\n",
    "y_pred = clf.predict(X_test)\n",
    "\n",
    "\n",
    "#4. print the classfication report\n",
    "print(classification_report(y_test, y_pred))"
   ]
  },
  {
   "cell_type": "code",
   "execution_count": 71,
   "id": "9c79a7cc",
   "metadata": {},
   "outputs": [
    {
     "name": "stdout",
     "output_type": "stream",
     "text": [
      "              precision    recall  f1-score   support\n",
      "\n",
      "           0       0.88      0.88      0.88        26\n",
      "           1       0.88      0.88      0.88        26\n",
      "\n",
      "    accuracy                           0.88        52\n",
      "   macro avg       0.88      0.88      0.88        52\n",
      "weighted avg       0.88      0.88      0.88        52\n",
      "\n"
     ]
    }
   ],
   "source": [
    "from sklearn.ensemble import RandomForestClassifier\n",
    "\n",
    "#1. create a pipeline object\n",
    "clf = Pipeline([\n",
    "     ('vectorizer_tfidf',TfidfVectorizer()),        #using the ngram_range parameter \n",
    "     ('Random Forest', RandomForestClassifier())         \n",
    "])\n",
    "\n",
    "#2. fit with X_train and y_train\n",
    "clf.fit(X_train, y_train)\n",
    "\n",
    "\n",
    "#3. get the predictions for X_test and store it in y_pred\n",
    "y_pred = clf.predict(X_test)\n",
    "\n",
    "\n",
    "#4. print the classfication report\n",
    "print(classification_report(y_test, y_pred))"
   ]
  },
  {
   "cell_type": "code",
   "execution_count": 88,
   "id": "920c4dda",
   "metadata": {},
   "outputs": [
    {
     "name": "stdout",
     "output_type": "stream",
     "text": [
      "              precision    recall  f1-score   support\n",
      "\n",
      "           0       0.86      0.92      0.89        26\n",
      "           1       0.92      0.85      0.88        26\n",
      "\n",
      "    accuracy                           0.88        52\n",
      "   macro avg       0.89      0.88      0.88        52\n",
      "weighted avg       0.89      0.88      0.88        52\n",
      "\n"
     ]
    }
   ],
   "source": [
    "from sklearn.ensemble import AdaBoostClassifier\n",
    "from sklearn.datasets import make_classification\n",
    "\n",
    "\n",
    "#1. create a pipeline object\n",
    "clf = Pipeline([\n",
    "     ('vectorizer_tfidf',TfidfVectorizer()),        #using the ngram_range parameter \n",
    "     ('Ada Boost',   AdaBoostClassifier(algorithm=\"SAMME\"))       \n",
    "])\n",
    "\n",
    "#2. fit with X_train and y_train\n",
    "clf.fit(X_train, y_train)\n",
    "\n",
    "\n",
    "#3. get the predictions for X_test and store it in y_pred\n",
    "y_pred = clf.predict(X_test)\n",
    "\n",
    "\n",
    "#4. print the classfication report\n",
    "print(classification_report(y_test, y_pred))"
   ]
  },
  {
   "cell_type": "code",
   "execution_count": 89,
   "id": "1514fa48",
   "metadata": {},
   "outputs": [],
   "source": [
    "import joblib"
   ]
  },
  {
   "cell_type": "code",
   "execution_count": 90,
   "id": "c7ff53fd",
   "metadata": {},
   "outputs": [
    {
     "name": "stdout",
     "output_type": "stream",
     "text": [
      "Model saved to text_classifier.pkl\n"
     ]
    }
   ],
   "source": [
    "joblib.dump(clf, 'text_classifier.pkl')\n",
    "print(\"Model saved to text_classifier.pkl\")"
   ]
  },
  {
   "cell_type": "code",
   "execution_count": null,
   "id": "587dc1dd",
   "metadata": {},
   "outputs": [],
   "source": []
  }
 ],
 "metadata": {
  "kernelspec": {
   "display_name": "Python 3 (ipykernel)",
   "language": "python",
   "name": "python3"
  },
  "language_info": {
   "codemirror_mode": {
    "name": "ipython",
    "version": 3
   },
   "file_extension": ".py",
   "mimetype": "text/x-python",
   "name": "python",
   "nbconvert_exporter": "python",
   "pygments_lexer": "ipython3",
   "version": "3.11.5"
  }
 },
 "nbformat": 4,
 "nbformat_minor": 5
}
